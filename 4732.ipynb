{
  "nbformat": 4,
  "nbformat_minor": 0,
  "metadata": {
    "colab": {
      "name": "4732.ipynb",
      "provenance": [],
      "collapsed_sections": [],
      "authorship_tag": "ABX9TyM6rQwl4uLQxHjxaxtl/NbX",
      "include_colab_link": true
    },
    "kernelspec": {
      "name": "python3",
      "display_name": "Python 3"
    },
    "language_info": {
      "name": "python"
    }
  },
  "cells": [
    {
      "cell_type": "markdown",
      "metadata": {
        "id": "view-in-github",
        "colab_type": "text"
      },
      "source": [
        "<a href=\"https://colab.research.google.com/github/soohi0/BeakJune/blob/master/4732.ipynb\" target=\"_parent\"><img src=\"https://colab.research.google.com/assets/colab-badge.svg\" alt=\"Open In Colab\"/></a>"
      ]
    },
    {
      "cell_type": "code",
      "metadata": {
        "colab": {
          "base_uri": "https://localhost:8080/"
        },
        "id": "g9aX00fRoA6c",
        "outputId": "7af50595-ba65-4346-b378-0cb8a0bee12e"
      },
      "source": [
        "empyolist = [\"\"]\n",
        "d = {\n",
        "    'C' :1,\n",
        "     'C#': 2,\n",
        "     'Db': 2,\n",
        "     'D': 3,\n",
        "     'D#': 4,\n",
        "     'Eb': 4,\n",
        "     'E': 5,\n",
        "     'E#': 5,\n",
        "     'Fb': 5,\n",
        "     'F': 6,\n",
        "     'F#': 7,\n",
        "     'Gb': 7,\n",
        "     'G': 8,\n",
        "     'G#': 9,\n",
        "     'Ab': 9,\n",
        "     'A': 10,\n",
        "     'A#': 11,\n",
        "     'Bb': 11,\n",
        "     'B': 12,\n",
        "     'B#': 13\n",
        "    }\n",
        "valuelist = ['C', 'C#', 'D', 'D#', 'E',  'F', 'F#', 'G', 'G#', 'A', 'A#', 'B']\n",
        "re = []\n",
        "while empyolist[0] != '***':\n",
        "    empyolist = input().split(' ')\n",
        "    print(empyolist)\n",
        "    resultLIst = []\n",
        "    if empyolist[0] == '***':\n",
        "        break\n",
        "    num = int(input())\n",
        "    for empyo in empyolist:\n",
        "        n = d[empyo]\n",
        "        n += num\n",
        "        resultLIst.append(valuelist[(n-1)%13])\n",
        "    re.append(resultLIst)\n",
        "\n",
        "for l in re:\n",
        "    string = \"\"\n",
        "    for r in l:\n",
        "        string += r\n",
        "        string += ' '\n",
        "    print(string, \"\\n\")\n",
        "\n",
        "\n",
        "    \n",
        "\n"
      ],
      "execution_count": 21,
      "outputs": [
        {
          "output_type": "stream",
          "name": "stdout",
          "text": [
            "D E# D A\n",
            "['D', 'E#', 'D', 'A']\n",
            "-1\n",
            "***\n",
            "['***']\n",
            "C# D# C# G#  \n",
            "\n"
          ]
        }
      ]
    },
    {
      "cell_type": "code",
      "metadata": {
        "id": "T8hc5wRcoFUA"
      },
      "source": [
        "-1C# E Db G#\n",
        "1\n",
        "D E# D A\n",
        "-1\n",
        "***"
      ],
      "execution_count": null,
      "outputs": []
    }
  ]
}