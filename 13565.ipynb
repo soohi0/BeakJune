{
  "nbformat": 4,
  "nbformat_minor": 0,
  "metadata": {
    "colab": {
      "name": "13565.ipynb",
      "provenance": [],
      "collapsed_sections": [],
      "authorship_tag": "ABX9TyPDTLPMkOviU3TECQ/GDW/2",
      "include_colab_link": true
    },
    "kernelspec": {
      "name": "python3",
      "display_name": "Python 3"
    },
    "language_info": {
      "name": "python"
    }
  },
  "cells": [
    {
      "cell_type": "markdown",
      "metadata": {
        "id": "view-in-github",
        "colab_type": "text"
      },
      "source": [
        "<a href=\"https://colab.research.google.com/github/soohi0/BeakJune/blob/master/13565.ipynb\" target=\"_parent\"><img src=\"https://colab.research.google.com/assets/colab-badge.svg\" alt=\"Open In Colab\"/></a>"
      ]
    },
    {
      "cell_type": "code",
      "execution_count": 2,
      "metadata": {
        "colab": {
          "base_uri": "https://localhost:8080/"
        },
        "id": "CJEymR3OF9qh",
        "outputId": "18ae40ff-80e3-4b15-87e0-15013ed1e7d9"
      },
      "outputs": [
        {
          "output_type": "stream",
          "name": "stdout",
          "text": [
            "8 8\n",
            "11000111\n",
            "01100000\n",
            "00011001\n",
            "11001000\n",
            "10001001\n",
            "10111100\n",
            "01010000\n",
            "00001011\n",
            "YES\n"
          ]
        }
      ],
      "source": [
        "from collections import deque\n",
        "graph = []\n",
        "n, m = map(int, input().split(' '))\n",
        "D = [[0, 1], [0, -1], [-1, 0], [1, 0]] #(x, y)\n",
        "def isRange(x, y):\n",
        "    if x >= 0 and x < m and y >= 0 and y < n:\n",
        "        return True\n",
        "    return False\n",
        "\n",
        "for y in range(n):\n",
        "    string = input()\n",
        "    li = []\n",
        "    for s in string:\n",
        "        li.append(int(s))\n",
        "    graph.append(li)\n",
        "\n",
        "start = graph[0]\n",
        "sp = [] #(x, y)\n",
        "for idx, s in enumerate(start):\n",
        "    if s == 0:\n",
        "        sp.append([idx, 0])\n",
        "check = False\n",
        "for st in sp:\n",
        "    q = deque()\n",
        "    q.append(st)\n",
        "    while q:\n",
        "        #not empty\n",
        "        front = q.popleft()\n",
        "        for dir in D:\n",
        "            nextX = front[0] + dir[0]\n",
        "            nextY = front[1] + dir[1]\n",
        "            if isRange(nextX, nextY):\n",
        "                if graph[nextY][nextX] == 0:\n",
        "                    if nextY == n-1:\n",
        "                        check = True\n",
        "                        break\n",
        "                    else:\n",
        "                        q.append([nextX, nextY])\n",
        "                        graph[nextY][nextX] = -1\n",
        "\n",
        "    if check:\n",
        "        break\n",
        "if check:\n",
        "    print(\"YES\")\n",
        "else:\n",
        "    print(\"NO\")\n",
        "    \n",
        "#         8 8\n",
        "# 11000111\n",
        "# 01100000\n",
        "# 00011001\n",
        "# 11001000\n",
        "# 10001001\n",
        "# 10111100\n",
        "# 01010000\n",
        "# 00001011        \n"
      ]
    },
    {
      "cell_type": "code",
      "source": [
        "0001011001011\n",
        "5 6\n",
        "010101\n",
        "010000\n",
        "011101\n",
        "100011\n",
        "001011"
      ],
      "metadata": {
        "id": "LRp4v5nLH6Bf"
      },
      "execution_count": null,
      "outputs": []
    }
  ]
}