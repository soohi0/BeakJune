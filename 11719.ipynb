{
  "nbformat": 4,
  "nbformat_minor": 0,
  "metadata": {
    "colab": {
      "name": "11719.ipynb",
      "provenance": [],
      "authorship_tag": "ABX9TyNuuqO2BdIqKM0N7sqA499B",
      "include_colab_link": true
    },
    "kernelspec": {
      "name": "python3",
      "display_name": "Python 3"
    },
    "language_info": {
      "name": "python"
    }
  },
  "cells": [
    {
      "cell_type": "markdown",
      "metadata": {
        "id": "view-in-github",
        "colab_type": "text"
      },
      "source": [
        "<a href=\"https://colab.research.google.com/github/soohi0/BeakJune/blob/master/11719.ipynb\" target=\"_parent\"><img src=\"https://colab.research.google.com/assets/colab-badge.svg\" alt=\"Open In Colab\"/></a>"
      ]
    },
    {
      "cell_type": "code",
      "metadata": {
        "id": "SQKI4IbLkOT1"
      },
      "source": [
        "while True:\n",
        "    try:\n",
        "        print(input())\n",
        "    except:\n",
        "        break;"
      ],
      "execution_count": null,
      "outputs": []
    }
  ]
}