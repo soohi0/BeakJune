{
  "nbformat": 4,
  "nbformat_minor": 0,
  "metadata": {
    "colab": {
      "name": "9996.ipynb",
      "provenance": [],
      "authorship_tag": "ABX9TyMruicr0a37dhbhFI4mCGHa",
      "include_colab_link": true
    },
    "kernelspec": {
      "name": "python3",
      "display_name": "Python 3"
    },
    "language_info": {
      "name": "python"
    }
  },
  "cells": [
    {
      "cell_type": "markdown",
      "metadata": {
        "id": "view-in-github",
        "colab_type": "text"
      },
      "source": [
        "<a href=\"https://colab.research.google.com/github/soohi0/BeakJune/blob/master/9996.ipynb\" target=\"_parent\"><img src=\"https://colab.research.google.com/assets/colab-badge.svg\" alt=\"Open In Colab\"/></a>"
      ]
    },
    {
      "cell_type": "code",
      "metadata": {
        "colab": {
          "base_uri": "https://localhost:8080/"
        },
        "id": "2fTlaKJtk5-m",
        "outputId": "e0f3d174-9bcd-48cf-f7f9-7f5e8c4dbab2"
      },
      "source": [
        "num = int(input())\n",
        "code = input()\n",
        "first = code[0]\n",
        "second = code[-1]\n",
        "answer = []\n",
        "for _ in range(num):\n",
        "    s = input()\n",
        "    if s[0] == first and s[-1] == second:\n",
        "        answer.append('DA')\n",
        "    else:\n",
        "        answer.append('NE')\n",
        "for a in answer:\n",
        "    print(a)\n",
        "\n"
      ],
      "execution_count": 1,
      "outputs": [
        {
          "output_type": "stream",
          "name": "stdout",
          "text": [
            "3\n",
            "a*d\n",
            "abfd\n",
            "anestonestod\n",
            "facebook\n",
            "DA\n",
            "DA\n",
            "NE\n"
          ]
        }
      ]
    },
    {
      "cell_type": "code",
      "metadata": {
        "id": "9jdN5y0ZmLkt"
      },
      "source": [
        ""
      ],
      "execution_count": null,
      "outputs": []
    }
  ]
}