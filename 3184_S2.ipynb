{
  "nbformat": 4,
  "nbformat_minor": 0,
  "metadata": {
    "colab": {
      "name": "3184_S2.ipynb",
      "provenance": [],
      "authorship_tag": "ABX9TyPTot5E38m5wgTzXEa3+U+W",
      "include_colab_link": true
    },
    "kernelspec": {
      "name": "python3",
      "display_name": "Python 3"
    },
    "language_info": {
      "name": "python"
    }
  },
  "cells": [
    {
      "cell_type": "markdown",
      "metadata": {
        "id": "view-in-github",
        "colab_type": "text"
      },
      "source": [
        "<a href=\"https://colab.research.google.com/github/soohi0/BeakJune/blob/master/3184_S2.ipynb\" target=\"_parent\"><img src=\"https://colab.research.google.com/assets/colab-badge.svg\" alt=\"Open In Colab\"/></a>"
      ]
    },
    {
      "cell_type": "code",
      "execution_count": null,
      "metadata": {
        "id": "5zBC5X42sSwx"
      },
      "outputs": [],
      "source": [
        "from collections import deque\n",
        "import sys\n",
        "input = sys.stdin.readline\n",
        "dx = [1, -1, 0, 0]\n",
        "dy = [0, 0, -1, 1]\n",
        "def bfs(x, y):\n",
        "    global o, v\n",
        "    q = deque()\n",
        "    q.append([x, y])\n",
        "    to, tv = 0, 0\n",
        "    if s[x][y] == \"o\": to += 1\n",
        "    elif s[x][y] == \"v\": tv += 1\n",
        "    while q:\n",
        "        x, y = q.popleft()\n",
        "        for i in range(4):\n",
        "            nx = x + dx[i]\n",
        "            ny = y + dy[i]\n",
        "            if 0 <= nx < r and 0 <= ny < c and visit[nx][ny] == 0 and s[nx][ny] != \"#\":\n",
        "                if s[nx][ny] == \"o\": to += 1\n",
        "                if s[nx][ny] == \"v\": tv += 1\n",
        "                visit[nx][ny] = 1\n",
        "                q.append([nx, ny])\n",
        "    if to and tv:\n",
        "        if to > tv: v -= tv\n",
        "        else: o -= to\n",
        "r, c = map(int, input().split())\n",
        "s = []\n",
        "visit = [[0] * c for i in range(r)]\n",
        "o, v = 0, 0\n",
        "for i in range(r):\n",
        "    a = list(input().strip())\n",
        "    for j in range(c):\n",
        "        if a[j] == \"o\": o += 1\n",
        "        if a[j] == \"v\": v += 1\n",
        "    s.append(a)\n",
        "for i in range(r):\n",
        "    for j in range(c):\n",
        "        if (s[i][j] == \"o\" or s[i][j] == \"v\") and visit[i][j] == 0:\n",
        "            visit[i][j] = 1\n",
        "            bfs(i, j)\n",
        "print(o, v)"
      ]
    }
  ]
}