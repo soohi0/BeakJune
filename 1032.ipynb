{
  "nbformat": 4,
  "nbformat_minor": 0,
  "metadata": {
    "colab": {
      "name": "1032.ipynb",
      "provenance": [],
      "authorship_tag": "ABX9TyMh2HkX4OAyhd1ZZiNZSSoy",
      "include_colab_link": true
    },
    "kernelspec": {
      "name": "python3",
      "display_name": "Python 3"
    },
    "language_info": {
      "name": "python"
    }
  },
  "cells": [
    {
      "cell_type": "markdown",
      "metadata": {
        "id": "view-in-github",
        "colab_type": "text"
      },
      "source": [
        "<a href=\"https://colab.research.google.com/github/soohi0/BeakJune/blob/master/1032.ipynb\" target=\"_parent\"><img src=\"https://colab.research.google.com/assets/colab-badge.svg\" alt=\"Open In Colab\"/></a>"
      ]
    },
    {
      "cell_type": "code",
      "execution_count": 7,
      "metadata": {
        "id": "RWbNtL4WwWR0",
        "colab": {
          "base_uri": "https://localhost:8080/"
        },
        "outputId": "45c873db-345a-44b6-d02c-11e70535277a"
      },
      "outputs": [
        {
          "output_type": "stream",
          "name": "stdout",
          "text": [
            "1\n",
            "onlyonefile\n",
            "onlyonefile\n"
          ]
        }
      ],
      "source": [
        "n = int(input())\n",
        "strarr = []\n",
        "def isSame (idx, strarr_):\n",
        "    ss = strarr[0][idx]\n",
        "    for s in strarr_[1:]:\n",
        "        if s[idx] != ss:\n",
        "            return False\n",
        "    return True\n",
        "        \n",
        "for _ in range(n):\n",
        "    strarr.append(input())\n",
        "string = \"\"\n",
        "for idx in range(len(strarr[0])):\n",
        "    if isSame(idx, strarr) == False:\n",
        "        string += '?'\n",
        "    else:\n",
        "        string += strarr[0][idx]\n",
        "print(string)\n",
        "    "
      ]
    },
    {
      "cell_type": "code",
      "source": [
        ""
      ],
      "metadata": {
        "id": "EHPFv53b0jYz"
      },
      "execution_count": null,
      "outputs": []
    }
  ]
}