{
  "nbformat": 4,
  "nbformat_minor": 0,
  "metadata": {
    "colab": {
      "name": "1965_s2.ipynb",
      "provenance": [],
      "authorship_tag": "ABX9TyOpiShoO6f5R1yYYURhVGBH",
      "include_colab_link": true
    },
    "kernelspec": {
      "name": "python3",
      "display_name": "Python 3"
    },
    "language_info": {
      "name": "python"
    }
  },
  "cells": [
    {
      "cell_type": "markdown",
      "metadata": {
        "id": "view-in-github",
        "colab_type": "text"
      },
      "source": [
        "<a href=\"https://colab.research.google.com/github/soohi0/BeakJune/blob/master/1965_s2.ipynb\" target=\"_parent\"><img src=\"https://colab.research.google.com/assets/colab-badge.svg\" alt=\"Open In Colab\"/></a>"
      ]
    },
    {
      "cell_type": "code",
      "metadata": {
        "colab": {
          "base_uri": "https://localhost:8080/"
        },
        "id": "W3_AUeov4kdp",
        "outputId": "dca573d9-eb64-4b7c-f0d9-3566cb5f659d"
      },
      "source": [
        "num = int(input())\n",
        "arr = input().split()\n",
        "for idx, a in enumerate(arr):\n",
        "    arr[idx] = int(a)\n",
        "print(arr)\n",
        "newarr = []\n",
        "maxidx = len(arr)-1\n",
        "maxnum = 0\n",
        "if arr[maxidx] > arr[maxidx-1]:\n",
        "    newarr.append(arr[maxidx])\n",
        "    newarr.append(arr[maxidx-1])\n",
        "    maxnum = 1\n",
        "for n in range(len(arr)-2, 0, -1):\n",
        "    cur_num = arr[n]\n",
        "    cnt = 0\n",
        "    tmparr = []\n",
        "    for arnum in newarr:\n",
        "        if arnum > cur_num:\n",
        "            cnt += 1\n",
        "            tmparr.append(arnum)\n",
        "        if cnt >= maxnum:\n",
        "            newarr = tmparr\n",
        "    \n",
        "        \n",
        "print(maxnum+1)\n"
      ],
      "execution_count": 3,
      "outputs": [
        {
          "output_type": "stream",
          "name": "stdout",
          "text": [
            "8\n",
            "1 6 2 5 7 3 5 6\n",
            "[1, 6, 2, 5, 7, 3, 5, 6]\n",
            "2\n"
          ]
        }
      ]
    },
    {
      "cell_type": "code",
      "metadata": {
        "id": "o6UJAchX5Y0y"
      },
      "source": [
        ""
      ],
      "execution_count": null,
      "outputs": []
    }
  ]
}