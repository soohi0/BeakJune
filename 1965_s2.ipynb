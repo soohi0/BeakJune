{
  "nbformat": 4,
  "nbformat_minor": 0,
  "metadata": {
    "colab": {
      "name": "1965_s2.ipynb",
      "provenance": [],
      "authorship_tag": "ABX9TyPNRgued7p3VTfdQdNNsyk9",
      "include_colab_link": true
    },
    "kernelspec": {
      "name": "python3",
      "display_name": "Python 3"
    },
    "language_info": {
      "name": "python"
    }
  },
  "cells": [
    {
      "cell_type": "markdown",
      "metadata": {
        "id": "view-in-github",
        "colab_type": "text"
      },
      "source": [
        "<a href=\"https://colab.research.google.com/github/soohi0/BeakJune/blob/master/1965_s2.ipynb\" target=\"_parent\"><img src=\"https://colab.research.google.com/assets/colab-badge.svg\" alt=\"Open In Colab\"/></a>"
      ]
    },
    {
      "cell_type": "code",
      "metadata": {
        "colab": {
          "base_uri": "https://localhost:8080/"
        },
        "id": "W3_AUeov4kdp",
        "outputId": "c1642e83-196d-404a-99b1-294d44607db3"
      },
      "source": [
        "num = int(input())\n",
        "arr = input().split()\n",
        "for idx, a in enumerate(arr):\n",
        "    arr[idx] = int(a)\n",
        "print(arr)\n",
        "newarr = []\n",
        "maxidx = len(arr)-1\n",
        "if arr[maxidx] > arr[maxidx-1]:\n",
        "    newarr.append(arr[maxidx])\n",
        "    newarr.append(arr[maxidx-1])\n",
        "for n in range(len(arr)-2, 0, -1):\n",
        "    cur_num = arr[n]\n",
        "    for arnum in newarr:\n",
        "        \n",
        "    \n"
      ],
      "execution_count": null,
      "outputs": [
        {
          "output_type": "stream",
          "name": "stdout",
          "text": [
            "10\n",
            "1 2 3 4 5 6 7 8 9 10\n",
            "[1, 2, 3, 4, 5, 6, 7, 8, 9, 10]\n",
            "[1, 2, 3, 4, 5, 6, 7, 8, 9, 10]\n",
            "9\n"
          ]
        }
      ]
    },
    {
      "cell_type": "code",
      "metadata": {
        "id": "o6UJAchX5Y0y"
      },
      "source": [
        ""
      ],
      "execution_count": null,
      "outputs": []
    }
  ]
}