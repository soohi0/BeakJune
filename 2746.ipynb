{
  "nbformat": 4,
  "nbformat_minor": 0,
  "metadata": {
    "colab": {
      "name": "2746.ipynb",
      "provenance": [],
      "authorship_tag": "ABX9TyMsIHrMmISY347z1HpxLBU/",
      "include_colab_link": true
    },
    "kernelspec": {
      "name": "python3",
      "display_name": "Python 3"
    },
    "language_info": {
      "name": "python"
    }
  },
  "cells": [
    {
      "cell_type": "markdown",
      "metadata": {
        "id": "view-in-github",
        "colab_type": "text"
      },
      "source": [
        "<a href=\"https://colab.research.google.com/github/soohi0/BeakJune/blob/master/2746.ipynb\" target=\"_parent\"><img src=\"https://colab.research.google.com/assets/colab-badge.svg\" alt=\"Open In Colab\"/></a>"
      ]
    },
    {
      "cell_type": "code",
      "metadata": {
        "colab": {
          "base_uri": "https://localhost:8080/"
        },
        "id": "MYdMY8e_IPkX",
        "outputId": "c9f74a55-d96f-431c-af45-e0758d326d8c"
      },
      "source": [
        "num = int(input())\n",
        "Flist = [0 for _ in range(num+1)]\n",
        "Flist[1] = 1\n",
        "\n",
        "for i in range(2, num+1):\n",
        "    Flist[i] = Flist[i-1] + Flist[i-2]\n",
        "print(Flist[num])"
      ],
      "execution_count": 6,
      "outputs": [
        {
          "output_type": "stream",
          "text": [
            "10\n",
            "55\n"
          ],
          "name": "stdout"
        }
      ]
    },
    {
      "cell_type": "code",
      "metadata": {
        "id": "5lqMcqMZJJN_"
      },
      "source": [
        ""
      ],
      "execution_count": null,
      "outputs": []
    }
  ]
}