{
  "nbformat": 4,
  "nbformat_minor": 0,
  "metadata": {
    "colab": {
      "name": "6603_S2.ipynb",
      "provenance": [],
      "collapsed_sections": [],
      "authorship_tag": "ABX9TyPQeUwsjMBShc6WQpDA1Oh2",
      "include_colab_link": true
    },
    "kernelspec": {
      "name": "python3",
      "display_name": "Python 3"
    },
    "language_info": {
      "name": "python"
    }
  },
  "cells": [
    {
      "cell_type": "markdown",
      "metadata": {
        "id": "view-in-github",
        "colab_type": "text"
      },
      "source": [
        "<a href=\"https://colab.research.google.com/github/soohi0/BeakJune/blob/master/6603_S2.ipynb\" target=\"_parent\"><img src=\"https://colab.research.google.com/assets/colab-badge.svg\" alt=\"Open In Colab\"/></a>"
      ]
    },
    {
      "cell_type": "code",
      "execution_count": 17,
      "metadata": {
        "id": "I71ivMFjK_Ft",
        "colab": {
          "base_uri": "https://localhost:8080/"
        },
        "outputId": "6715400f-c93e-4665-c2a7-04c72946cfd3"
      },
      "outputs": [
        {
          "output_type": "stream",
          "name": "stdout",
          "text": [
            "7 1 2 3 4 5 6 7\n",
            "8 1 2 3 5 8 13 21 34\n",
            "0\n",
            "1 2 3 4 5 6\n",
            "1 2 3 4 5 7\n",
            "1 2 3 4 6 7\n",
            "1 2 3 5 6 7\n",
            "1 2 4 5 6 7\n",
            "1 3 4 5 6 7\n",
            "2 3 4 5 6 7\n",
            "\n",
            "1 2 3 5 8 13\n",
            "1 2 3 5 8 21\n",
            "1 2 3 5 8 34\n",
            "1 2 3 5 13 21\n",
            "1 2 3 5 13 34\n",
            "1 2 3 5 21 34\n",
            "1 2 3 8 13 21\n",
            "1 2 3 8 13 34\n",
            "1 2 3 8 21 34\n",
            "1 2 3 13 21 34\n",
            "1 2 5 8 13 21\n",
            "1 2 5 8 13 34\n",
            "1 2 5 8 21 34\n",
            "1 2 5 13 21 34\n",
            "1 2 8 13 21 34\n",
            "1 3 5 8 13 21\n",
            "1 3 5 8 13 34\n",
            "1 3 5 8 21 34\n",
            "1 3 5 13 21 34\n",
            "1 3 8 13 21 34\n",
            "1 5 8 13 21 34\n",
            "2 3 5 8 13 21\n",
            "2 3 5 8 13 34\n",
            "2 3 5 8 21 34\n",
            "2 3 5 13 21 34\n",
            "2 3 8 13 21 34\n",
            "2 5 8 13 21 34\n",
            "3 5 8 13 21 34\n",
            "\n"
          ]
        }
      ],
      "source": [
        "from itertools import combinations\n",
        "#import numpy as np #백준에서 numpy 쓰면 modul not found error 뜬다.\n",
        "\n",
        "inputStr = input()\n",
        "outputarr = []\n",
        "while inputStr != '0':\n",
        "    inputStr = inputStr.split(' ')\n",
        "    #print(inputStr)\n",
        "    for idx, s in enumerate(inputStr):\n",
        "        if idx != 0:\n",
        "            inputStr[idx-1] = int(s)\n",
        "    inputStr = inputStr[:-1]\n",
        "    #print(inputStr)\n",
        "    a = []\n",
        "    for i in combinations(inputStr, 6):\n",
        "        tuple(sorted(i))\n",
        "        i = list(i)\n",
        "        #print('sorted : ', i)\n",
        "        a.append(i)\n",
        "        \n",
        "    #print(a)\n",
        "    #a.sort()\n",
        "    #print('sorteed : ', a)\n",
        "    outputarr.append(a)\n",
        "    #print(inputStr)\n",
        "    #여러개중에 6개를 뽑는 방법\n",
        "\n",
        "    inputStr = input()\n",
        "    #print(inputStr)\n",
        "#print(outputarr)\n",
        "for arr in outputarr:\n",
        "    #print('arr : ', arr)\n",
        "    for ar in arr:\n",
        "        print(*ar)\n",
        "    print()"
      ]
    },
    {
      "cell_type": "code",
      "source": [
        "7 1 2 3 4 5 6 7"
      ],
      "metadata": {
        "id": "Q0VSUZbPUVxO"
      },
      "execution_count": null,
      "outputs": []
    }
  ]
}