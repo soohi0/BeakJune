{
  "nbformat": 4,
  "nbformat_minor": 0,
  "metadata": {
    "colab": {
      "name": "1269.ipynb",
      "provenance": [],
      "collapsed_sections": [],
      "authorship_tag": "ABX9TyOmyJS+KQ7HM9WP9Y77uXe3",
      "include_colab_link": true
    },
    "kernelspec": {
      "name": "python3",
      "display_name": "Python 3"
    },
    "language_info": {
      "name": "python"
    }
  },
  "cells": [
    {
      "cell_type": "markdown",
      "metadata": {
        "id": "view-in-github",
        "colab_type": "text"
      },
      "source": [
        "<a href=\"https://colab.research.google.com/github/soohi0/BeakJune/blob/master/1269.ipynb\" target=\"_parent\"><img src=\"https://colab.research.google.com/assets/colab-badge.svg\" alt=\"Open In Colab\"/></a>"
      ]
    },
    {
      "cell_type": "code",
      "execution_count": 6,
      "metadata": {
        "colab": {
          "base_uri": "https://localhost:8080/"
        },
        "id": "tiblsGu8-DLS",
        "outputId": "35c79524-298d-42e3-bb28-88538b964a7f"
      },
      "outputs": [
        {
          "output_type": "stream",
          "name": "stdout",
          "text": [
            "3 5\n",
            "1 2 4\n",
            "2 3 4 5 6\n",
            "[1, 2, 4]\n",
            "4\n"
          ]
        }
      ],
      "source": [
        "a, b = map(int, input().split(' '))\n",
        "\n",
        "A = list(map(int, input().split(' ')))\n",
        "B = list(map(int, input().split(' ')))\n",
        "\n",
        "and_ = []\n",
        "and_ = list(set(A) & set(B))\n",
        "\n",
        "print(len(A) + len(B) - len(and_) * 2)"
      ]
    },
    {
      "cell_type": "code",
      "source": [
        ""
      ],
      "metadata": {
        "id": "vQo0ggvv-K6A"
      },
      "execution_count": null,
      "outputs": []
    }
  ]
}