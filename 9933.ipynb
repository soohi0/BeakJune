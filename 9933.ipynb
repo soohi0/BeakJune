{
  "nbformat": 4,
  "nbformat_minor": 0,
  "metadata": {
    "colab": {
      "name": "9933.ipynb",
      "provenance": [],
      "authorship_tag": "ABX9TyOqezCNrgQIEyiwyRlDqgqQ",
      "include_colab_link": true
    },
    "kernelspec": {
      "name": "python3",
      "display_name": "Python 3"
    },
    "language_info": {
      "name": "python"
    }
  },
  "cells": [
    {
      "cell_type": "markdown",
      "metadata": {
        "id": "view-in-github",
        "colab_type": "text"
      },
      "source": [
        "<a href=\"https://colab.research.google.com/github/soohi0/BeakJune/blob/master/9933.ipynb\" target=\"_parent\"><img src=\"https://colab.research.google.com/assets/colab-badge.svg\" alt=\"Open In Colab\"/></a>"
      ]
    },
    {
      "cell_type": "code",
      "execution_count": null,
      "metadata": {
        "id": "sDINlfCBy3xE"
      },
      "outputs": [],
      "source": [
        "import sys\n",
        "input = sys.stdin.readline\n",
        "\n",
        "N = int(input())\n",
        "password =  dict()\n",
        "\n",
        "for _ in range(N) :\n",
        "    word = input().rstrip()\n",
        "    rev_word = word[::-1]\n",
        "    if word in password :\n",
        "        password[word] += 1\n",
        "    elif rev_word in password :\n",
        "        password[rev_word] += 1\n",
        "    else :\n",
        "        password[word] = 1\n",
        "\n",
        "result = sorted(password.items(), key= lambda x: -x[1])\n",
        "word = result[0][0]\n",
        "middle = word[len(word)//2]\n",
        "answer = str(len(word)) + \" \" +  str(middle)\n",
        "print(answer)\n"
      ]
    }
  ]
}