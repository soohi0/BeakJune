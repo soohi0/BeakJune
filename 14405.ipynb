{
  "nbformat": 4,
  "nbformat_minor": 0,
  "metadata": {
    "colab": {
      "name": "14405.ipynb",
      "provenance": [],
      "authorship_tag": "ABX9TyOAqWSMylQSI0SpZqWvQMBi",
      "include_colab_link": true
    },
    "kernelspec": {
      "name": "python3",
      "display_name": "Python 3"
    },
    "language_info": {
      "name": "python"
    }
  },
  "cells": [
    {
      "cell_type": "markdown",
      "metadata": {
        "id": "view-in-github",
        "colab_type": "text"
      },
      "source": [
        "<a href=\"https://colab.research.google.com/github/soohi0/BeakJune/blob/master/14405.ipynb\" target=\"_parent\"><img src=\"https://colab.research.google.com/assets/colab-badge.svg\" alt=\"Open In Colab\"/></a>"
      ]
    },
    {
      "cell_type": "code",
      "execution_count": null,
      "metadata": {
        "id": "y_rPCzLIlKgZ"
      },
      "outputs": [],
      "source": [
        "S = input()\n",
        "# 조건을 만족하는 경우 계속 반복문을 돌기 위해 while문 사용\n",
        "while True:\n",
        "    # pi라는 문자가 있는 경우 pi라는 문자를 공백으로 대체\n",
        "    # find함수를 이용하여 문자를 찾게되면 존재하는 경우 최소 인덱스 값인 0 이상을 반환할 것이다.\n",
        "    # 문자가 존재하지 않는 경우 -1을 반환하기 때문에 이러한 성질을 이용하여 0보다 크거나 같다는 조건을 주었다.\n",
        "    if S.find('pi') >= 0:\n",
        "        S = S.replace('pi', ' ')\n",
        "        continue\n",
        "    elif S.find('ka') >= 0:\n",
        "        S = S.replace('ka', ' ')\n",
        "        continue\n",
        "    elif S.find('chu') >= 0:\n",
        "        S = S.replace('chu', ' ')\n",
        "        continue\n",
        "\n",
        "    # 위의 조건에서 문자를 제외하고 공백을 주었다\n",
        "    # 그렇기 때문에 공백을 제거하고 붙이기 위해 strip함수를 사용\n",
        "    # 결과적으로 문자열의 길이가 0이면 발음가능 아닐경우 발음 불가능\n",
        "    if len(S.strip()) == 0:\n",
        "        print('YES')\n"
      ]
    }
  ]
}