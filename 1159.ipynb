{
  "nbformat": 4,
  "nbformat_minor": 0,
  "metadata": {
    "colab": {
      "name": "1159.ipynb",
      "provenance": [],
      "authorship_tag": "ABX9TyPeMPZggl0KeYglD5lGCvwF",
      "include_colab_link": true
    },
    "kernelspec": {
      "name": "python3",
      "display_name": "Python 3"
    },
    "language_info": {
      "name": "python"
    }
  },
  "cells": [
    {
      "cell_type": "markdown",
      "metadata": {
        "id": "view-in-github",
        "colab_type": "text"
      },
      "source": [
        "<a href=\"https://colab.research.google.com/github/soohi0/BeakJune/blob/master/1159.ipynb\" target=\"_parent\"><img src=\"https://colab.research.google.com/assets/colab-badge.svg\" alt=\"Open In Colab\"/></a>"
      ]
    },
    {
      "cell_type": "code",
      "metadata": {
        "colab": {
          "base_uri": "https://localhost:8080/"
        },
        "id": "KTrwtNp9EOSk",
        "outputId": "72243916-b784-4efb-cc4a-d57211af1ff9"
      },
      "source": [
        "num = int(input())\n",
        "arr = {}\n",
        "real_list = []\n",
        "for i in range(num):\n",
        "    s = input()\n",
        "    char = s[0]\n",
        "    if char in arr:\n",
        "        num = arr[char]\n",
        "        num += 1\n",
        "        arr[char] = num\n",
        "    else:\n",
        "        arr[char] = 1\n",
        "\n",
        "for key, value in arr.items():\n",
        "    #print(key)\n",
        "    #print(value)\n",
        "    if value >= 5:\n",
        "        real_list.append(key)\n",
        "real_list = sorted(real_list)\n",
        "st = \"\"\n",
        "for s in real_list:\n",
        "    st += s\n",
        "if len(st) == 0:\n",
        "    print(\"PREDAJA\")\n",
        "else:\n",
        "    print(st)"
      ],
      "execution_count": 12,
      "outputs": [
        {
          "output_type": "stream",
          "text": [
            "1\n",
            "2\n",
            "PREDAJA\n"
          ],
          "name": "stdout"
        }
      ]
    },
    {
      "cell_type": "code",
      "metadata": {
        "id": "BpmQVReIJs2I"
      },
      "source": [
        ""
      ],
      "execution_count": 6,
      "outputs": []
    }
  ]
}