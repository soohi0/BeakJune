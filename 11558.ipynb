{
  "nbformat": 4,
  "nbformat_minor": 0,
  "metadata": {
    "colab": {
      "name": "11558.ipynb",
      "provenance": [],
      "authorship_tag": "ABX9TyPVpjo941dj680hM02chb8j",
      "include_colab_link": true
    },
    "kernelspec": {
      "name": "python3",
      "display_name": "Python 3"
    },
    "language_info": {
      "name": "python"
    }
  },
  "cells": [
    {
      "cell_type": "markdown",
      "metadata": {
        "id": "view-in-github",
        "colab_type": "text"
      },
      "source": [
        "<a href=\"https://colab.research.google.com/github/soohi0/BeakJune/blob/master/11558.ipynb\" target=\"_parent\"><img src=\"https://colab.research.google.com/assets/colab-badge.svg\" alt=\"Open In Colab\"/></a>"
      ]
    },
    {
      "cell_type": "code",
      "metadata": {
        "id": "8UdkLmsfaUiE"
      },
      "source": [
        "T = int(input())\n",
        "for i in range(T):\n",
        "    member = int(input())\n",
        "    arr = []\n",
        "    tf = []\n",
        "    for j in range(member):\n",
        "        arr.append(int(input()))\n",
        "        tf.append(0)\n",
        "    tf[0] = 1\n",
        "    for n in arr:\n",
        "        \n",
        "\n",
        "    \n",
        "\n"
      ],
      "execution_count": null,
      "outputs": []
    }
  ]
}