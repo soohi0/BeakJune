{
  "nbformat": 4,
  "nbformat_minor": 0,
  "metadata": {
    "colab": {
      "name": "13301.ipynb",
      "provenance": [],
      "authorship_tag": "ABX9TyP3xlbtgriSHy5EVPUdMgVT",
      "include_colab_link": true
    },
    "kernelspec": {
      "name": "python3",
      "display_name": "Python 3"
    },
    "language_info": {
      "name": "python"
    }
  },
  "cells": [
    {
      "cell_type": "markdown",
      "metadata": {
        "id": "view-in-github",
        "colab_type": "text"
      },
      "source": [
        "<a href=\"https://colab.research.google.com/github/soohi0/BeakJune/blob/master/13301.ipynb\" target=\"_parent\"><img src=\"https://colab.research.google.com/assets/colab-badge.svg\" alt=\"Open In Colab\"/></a>"
      ]
    },
    {
      "cell_type": "code",
      "metadata": {
        "colab": {
          "base_uri": "https://localhost:8080/"
        },
        "id": "w4nRVFKDMyKF",
        "outputId": "23287e04-8a25-4923-950b-30d386ec89e5"
      },
      "source": [
        "inputNum = int(input())\n",
        "\n",
        "lengtharr = [[1,4], [1, 6]]\n",
        "for i in range(1, inputNum-1):\n",
        "    len = lengtharr[i][0]\n",
        "    nextlen = lengtharr[i][0] + lengtharr[i-1][0]\n",
        "    amountLength = lengtharr[i][1] + nextlen * 2\n",
        "    lengtharr.append([nextlen, amountLength])\n",
        "print(lengtharr[inputNum-1][1])"
      ],
      "execution_count": 5,
      "outputs": [
        {
          "output_type": "stream",
          "text": [
            "5\n",
            "26\n"
          ],
          "name": "stdout"
        }
      ]
    },
    {
      "cell_type": "code",
      "metadata": {
        "id": "xEt-Hw-jPsEu"
      },
      "source": [
        ""
      ],
      "execution_count": null,
      "outputs": []
    }
  ]
}