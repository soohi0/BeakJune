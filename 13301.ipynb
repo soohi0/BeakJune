{
  "nbformat": 4,
  "nbformat_minor": 0,
  "metadata": {
    "colab": {
      "name": "13301.ipynb",
      "provenance": [],
      "collapsed_sections": [],
      "authorship_tag": "ABX9TyOayKhg7z279NAuXusazfJU",
      "include_colab_link": true
    },
    "kernelspec": {
      "name": "python3",
      "display_name": "Python 3"
    },
    "language_info": {
      "name": "python"
    }
  },
  "cells": [
    {
      "cell_type": "markdown",
      "metadata": {
        "id": "view-in-github",
        "colab_type": "text"
      },
      "source": [
        "<a href=\"https://colab.research.google.com/github/soohi0/BeakJune/blob/master/13301.ipynb\" target=\"_parent\"><img src=\"https://colab.research.google.com/assets/colab-badge.svg\" alt=\"Open In Colab\"/></a>"
      ]
    },
    {
      "cell_type": "code",
      "metadata": {
        "colab": {
          "base_uri": "https://localhost:8080/"
        },
        "id": "D_YY-F2a8jJK",
        "outputId": "8e1f1999-bdd3-4499-d9ac-392c7723d2e2"
      },
      "source": [
        "lenlist = []\n",
        "lenlist.append(1)\n",
        "num = int(input())\n",
        "length = []\n",
        "length.append(4)\n",
        "if num >= 2:\n",
        "    lenlist.append(1)\n",
        "    length.append(6)\n",
        "    for i in range(2, num):\n",
        "        lenlist.append(lenlist[i-1] + lenlist[i-2])\n",
        "        length.append(length[i-1] + 2* lenlist[i])\n",
        "print(length[num-1])"
      ],
      "execution_count": 9,
      "outputs": [
        {
          "output_type": "stream",
          "name": "stdout",
          "text": [
            "80\n",
            "122611581443223182\n"
          ]
        }
      ]
    },
    {
      "cell_type": "code",
      "metadata": {
        "id": "XNuypvY1-jf8"
      },
      "source": [
        ""
      ],
      "execution_count": null,
      "outputs": []
    }
  ]
}