{
  "nbformat": 4,
  "nbformat_minor": 0,
  "metadata": {
    "colab": {
      "name": "2529_s2.ipynb",
      "provenance": [],
      "collapsed_sections": [],
      "authorship_tag": "ABX9TyObwe506xwcY02lHL/Hk6bn",
      "include_colab_link": true
    },
    "kernelspec": {
      "name": "python3",
      "display_name": "Python 3"
    },
    "language_info": {
      "name": "python"
    }
  },
  "cells": [
    {
      "cell_type": "markdown",
      "metadata": {
        "id": "view-in-github",
        "colab_type": "text"
      },
      "source": [
        "<a href=\"https://colab.research.google.com/github/soohi0/BeakJune/blob/master/2529_s2.ipynb\" target=\"_parent\"><img src=\"https://colab.research.google.com/assets/colab-badge.svg\" alt=\"Open In Colab\"/></a>"
      ]
    },
    {
      "cell_type": "code",
      "metadata": {
        "colab": {
          "base_uri": "https://localhost:8080/"
        },
        "id": "pvQjBnap1pRM",
        "outputId": "2109c402-eeae-4ed7-e0f5-1dabe9ff0b45"
      },
      "source": [
        "n = int(input())\n",
        "cmp = input().split(' ')\n",
        "checkBig = [0, 0, 0, 0, 0, 0, 0, 0, 1, 1]\n",
        "checksmall = [1, 1, 0, 0, 0, 0, 0, 0, 0, 0]\n",
        "big = []\n",
        "small = []\n",
        "last_big = 9\n",
        "last_small = 0\n",
        "if cmp[0] == '>':\n",
        "    big.append(9)\n",
        "    big.append(8)\n",
        "    last_big = 8\n",
        "    small.append(1)\n",
        "    small.append(0)\n",
        "elif cmp[0] == '<':\n",
        "    big.append(8)\n",
        "    big.append(9)\n",
        "    small.append(0)\n",
        "    small.append(1)\n",
        "    last_small = 1\n",
        "    \n",
        "\n",
        "for _ in cmp[1:]:\n",
        "    if _ == '>':\n",
        "        for b in range(9, -1, -1):\n",
        "            if checkBig[b] == 0:\n",
        "                checkBig[b] = 1\n",
        "                if b > last_big:\n",
        "                    big[len(big)-1] = b\n",
        "                    big.append(last_big)\n",
        "                else:\n",
        "                    big.append(b)\n",
        "                    last_blg = b\n",
        "                break\n",
        "        for s in range(10):\n",
        "            if checksmall[s] == 0:\n",
        "                checksmall[s] = 1\n",
        "                if s > last_small:\n",
        "                    small[len(small)-1] = s\n",
        "                    small.append(last_small)\n",
        "                else:\n",
        "                    small.append(s)\n",
        "                    last_small = s\n",
        "                break\n",
        "    elif _ == '<':\n",
        "        for b in range(9, -1, -1):\n",
        "            if checkBig[b] == 0:\n",
        "                checkBig[b] = 1\n",
        "                if b < last_big:\n",
        "                    big[len(big)-1] = b\n",
        "                    big.append(last_big)\n",
        "                else:\n",
        "                    big.append(b)\n",
        "                    last_blg = b\n",
        "                break\n",
        "        for s in range(10):\n",
        "            if checksmall[s] == 0:\n",
        "                checksmall[s] = 1\n",
        "                if s < last_small:\n",
        "                    small[len(small)-1] = s\n",
        "                    small.append(last_small)\n",
        "                else:\n",
        "                    small.append(s)\n",
        "                    last_small = s\n",
        "                break;\n",
        "print(big)\n",
        "print(small)"
      ],
      "execution_count": 2,
      "outputs": [
        {
          "output_type": "stream",
          "name": "stdout",
          "text": [
            "9\n",
            "> < < < > > > < <\n",
            "[9, 7, 6, 5, 8, 4, 3, 1, 0, 8]\n",
            "[1, 0, 2, 3, 5, 6, 7, 4, 8, 9]\n"
          ]
        }
      ]
    },
    {
      "cell_type": "code",
      "metadata": {
        "id": "ifRf4fBb1_8Z"
      },
      "source": [
        ""
      ],
      "execution_count": 1,
      "outputs": []
    }
  ]
}