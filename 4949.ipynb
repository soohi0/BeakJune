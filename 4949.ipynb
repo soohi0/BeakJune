{
  "nbformat": 4,
  "nbformat_minor": 0,
  "metadata": {
    "colab": {
      "name": "4949.ipynb",
      "provenance": [],
      "collapsed_sections": [],
      "authorship_tag": "ABX9TyN5xMBYp8cqH9COMfVdbRb2",
      "include_colab_link": true
    },
    "kernelspec": {
      "name": "python3",
      "display_name": "Python 3"
    },
    "language_info": {
      "name": "python"
    }
  },
  "cells": [
    {
      "cell_type": "markdown",
      "metadata": {
        "id": "view-in-github",
        "colab_type": "text"
      },
      "source": [
        "<a href=\"https://colab.research.google.com/github/soohi0/BeakJune/blob/master/4949.ipynb\" target=\"_parent\"><img src=\"https://colab.research.google.com/assets/colab-badge.svg\" alt=\"Open In Colab\"/></a>"
      ]
    },
    {
      "cell_type": "code",
      "execution_count": null,
      "metadata": {
        "id": "tmfWZG748ACd"
      },
      "outputs": [],
      "source": [
        "while True :\n",
        "    a = input()\n",
        "    stack = []\n",
        "\n",
        "    if a == \".\" :\n",
        "        break\n",
        "\n",
        "    for i in a :\n",
        "        if i == '[' or i == '(' :\n",
        "            stack.append(i)\n",
        "        elif i == ']' :\n",
        "            if len(stack) != 0 and stack[-1] == '[' :\n",
        "                stack.pop() # 맞으면 지워서 stack을 비워줌 0 = yes\n",
        "            else : \n",
        "                stack.append(']')\n",
        "                break\n",
        "        elif i == ')' :\n",
        "            if len(stack) != 0 and stack[-1] == '(' :\n",
        "                stack.pop()\n",
        "            else :\n",
        "                stack.append(')')\n",
        "                break\n",
        "    if len(stack) == 0 :\n",
        "        print('yes')\n",
        "    else :\n",
        "        print('no')"
      ]
    }
  ]
}