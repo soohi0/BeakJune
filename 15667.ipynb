{
  "nbformat": 4,
  "nbformat_minor": 0,
  "metadata": {
    "colab": {
      "name": "15667.ipynb",
      "provenance": [],
      "authorship_tag": "ABX9TyMb8gmrbgk4c2a7dfIoupb0",
      "include_colab_link": true
    },
    "kernelspec": {
      "name": "python3",
      "display_name": "Python 3"
    },
    "language_info": {
      "name": "python"
    }
  },
  "cells": [
    {
      "cell_type": "markdown",
      "metadata": {
        "id": "view-in-github",
        "colab_type": "text"
      },
      "source": [
        "<a href=\"https://colab.research.google.com/github/soohi0/BeakJune/blob/master/15667.ipynb\" target=\"_parent\"><img src=\"https://colab.research.google.com/assets/colab-badge.svg\" alt=\"Open In Colab\"/></a>"
      ]
    },
    {
      "cell_type": "code",
      "metadata": {
        "colab": {
          "base_uri": "https://localhost:8080/"
        },
        "id": "WFb_l4f9IpCL",
        "outputId": "1b1bc1ea-0400-4232-be0a-c5a23a5b3138"
      },
      "source": [
        "#등차수열 문제\n",
        "import math\n",
        "num = int(input())\n",
        "#첫째항 = 1\n",
        "#총 합 = 1 + x + x^2\n",
        "num -= 1\n",
        "sqrt = math.sqrt(num)\n",
        "i_sqrt = int(sqrt)\n",
        "print(i_sqrt)"
      ],
      "execution_count": 2,
      "outputs": [
        {
          "name": "stdout",
          "output_type": "stream",
          "text": [
            "21\n"
          ]
        },
        {
          "output_type": "execute_result",
          "data": {
            "text/plain": [
              "4"
            ]
          },
          "metadata": {},
          "execution_count": 2
        }
      ]
    },
    {
      "cell_type": "code",
      "metadata": {
        "id": "0cKCXdyJKAjT"
      },
      "source": [
        ""
      ],
      "execution_count": null,
      "outputs": []
    }
  ]
}