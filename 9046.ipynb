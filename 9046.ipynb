{
  "nbformat": 4,
  "nbformat_minor": 0,
  "metadata": {
    "colab": {
      "name": "9046.ipynb",
      "provenance": [],
      "collapsed_sections": [],
      "authorship_tag": "ABX9TyNH2Ha996nv2Uu50Tym/9bZ",
      "include_colab_link": true
    },
    "kernelspec": {
      "name": "python3",
      "display_name": "Python 3"
    },
    "language_info": {
      "name": "python"
    }
  },
  "cells": [
    {
      "cell_type": "markdown",
      "metadata": {
        "id": "view-in-github",
        "colab_type": "text"
      },
      "source": [
        "<a href=\"https://colab.research.google.com/github/soohi0/BeakJune/blob/master/9046.ipynb\" target=\"_parent\"><img src=\"https://colab.research.google.com/assets/colab-badge.svg\" alt=\"Open In Colab\"/></a>"
      ]
    },
    {
      "cell_type": "code",
      "metadata": {
        "colab": {
          "base_uri": "https://localhost:8080/"
        },
        "id": "xrKjC9_Nmmff",
        "outputId": "6bf8127f-098d-4a24-e29d-33e9bbf3ccfd"
      },
      "source": [
        "#https://www.acmicpc.net/problem/9046\n",
        "num = int(input())\n",
        "\n",
        "def f2(x):\n",
        "    return x[1]\n",
        "alist = list()\n",
        "for i in range(num):\n",
        "    alphabets = {\n",
        "        'a' : 0,\n",
        "        'b' : 0,\n",
        "        'c' : 0,\n",
        "        'd' : 0,\n",
        "        'e' : 0,\n",
        "        'f' : 0,\n",
        "        'g' : 0,\n",
        "        'h' : 0,\n",
        "        'i' : 0,\n",
        "        'j' : 0,\n",
        "        'k' : 0,\n",
        "        'l' : 0,\n",
        "        'n' : 0,\n",
        "        'm' : 0,\n",
        "        'o' : 0,\n",
        "        'p' : 0,\n",
        "        'q' : 0,\n",
        "        'r' : 0,\n",
        "        's' : 0,\n",
        "        't' : 0,\n",
        "        'u' : 0,\n",
        "        'v' : 0,\n",
        "        'w' : 0,\n",
        "        'x' : 0,\n",
        "        'y' : 0,\n",
        "        'z' : 0,\n",
        "    }\n",
        "    string = input()\n",
        "    for s in string:\n",
        "        if s != ' ':\n",
        "            alphabets[s] += 1\n",
        "    alphabets = sorted(alphabets.items(), key=f2, reverse = True)\n",
        "    #print(alphabets)\n",
        "\n",
        "    if alphabets[0][1] == alphabets[1][1]:\n",
        "        alist.append('?')\n",
        "    else:\n",
        "        alist.append(alphabets[0][0])\n",
        "\n",
        "for aa in alist:\n",
        "    print(aa)\n"
      ],
      "execution_count": null,
      "outputs": [
        {
          "output_type": "stream",
          "text": [
            "3\n",
            "asvdge ef ofmdofn\n",
            "[('f', 3), ('d', 2), ('e', 2), ('o', 2), ('a', 1), ('g', 1), ('n', 1), ('m', 1), ('s', 1), ('v', 1), ('b', 0), ('c', 0), ('h', 0), ('i', 0), ('j', 0), ('k', 0), ('l', 0), ('p', 0), ('q', 0), ('r', 0), ('t', 0), ('u', 0), ('w', 0), ('x', 0), ('y', 0), ('z', 0)]\n",
            "xvssc kxvbv\n",
            "[('v', 3), ('s', 2), ('x', 2), ('b', 1), ('c', 1), ('k', 1), ('a', 0), ('d', 0), ('e', 0), ('f', 0), ('g', 0), ('h', 0), ('i', 0), ('j', 0), ('l', 0), ('n', 0), ('m', 0), ('o', 0), ('p', 0), ('q', 0), ('r', 0), ('t', 0), ('u', 0), ('w', 0), ('y', 0), ('z', 0)]\n",
            "hull full suua pmlu\n",
            "[('l', 5), ('u', 5), ('a', 1), ('f', 1), ('h', 1), ('m', 1), ('p', 1), ('s', 1), ('b', 0), ('c', 0), ('d', 0), ('e', 0), ('g', 0), ('i', 0), ('j', 0), ('k', 0), ('n', 0), ('o', 0), ('q', 0), ('r', 0), ('t', 0), ('v', 0), ('w', 0), ('x', 0), ('y', 0), ('z', 0)]\n",
            "f\n",
            "v\n",
            "?\n"
          ],
          "name": "stdout"
        }
      ]
    },
    {
      "cell_type": "code",
      "metadata": {
        "id": "zfzXNYiWyn4W"
      },
      "source": [
        "3\n",
        "asvdge ef ofmdofn\n",
        "xvssc kxvbv\n",
        "hull full suua pmlu"
      ],
      "execution_count": null,
      "outputs": []
    }
  ]
}