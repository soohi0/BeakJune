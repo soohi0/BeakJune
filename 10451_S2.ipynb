{
  "nbformat": 4,
  "nbformat_minor": 0,
  "metadata": {
    "colab": {
      "name": "10451_S2.ipynb",
      "provenance": [],
      "collapsed_sections": [],
      "authorship_tag": "ABX9TyOVVPPliM5hnnQcbBVRbIND",
      "include_colab_link": true
    },
    "kernelspec": {
      "name": "python3",
      "display_name": "Python 3"
    },
    "language_info": {
      "name": "python"
    }
  },
  "cells": [
    {
      "cell_type": "markdown",
      "metadata": {
        "id": "view-in-github",
        "colab_type": "text"
      },
      "source": [
        "<a href=\"https://colab.research.google.com/github/soohi0/BeakJune/blob/master/10451_S2.ipynb\" target=\"_parent\"><img src=\"https://colab.research.google.com/assets/colab-badge.svg\" alt=\"Open In Colab\"/></a>"
      ]
    },
    {
      "cell_type": "code",
      "execution_count": null,
      "metadata": {
        "colab": {
          "base_uri": "https://localhost:8080/"
        },
        "id": "8Dnc5BgRDY7-",
        "outputId": "47d67017-059d-4af5-f68c-362255d8012b"
      },
      "outputs": [
        {
          "output_type": "stream",
          "name": "stdout",
          "text": [
            "2\n",
            "8\n",
            "3 2 7 8 1 4 5 6\n",
            "10\n",
            "2 1 3 4 5 6 7 9 10 8\n",
            "3\n",
            "7\n"
          ]
        }
      ],
      "source": [
        "n = int(input())\n",
        "answer = []\n",
        "for _ in range(n):\n",
        "    num = int(input())\n",
        "    arr = map(int, input().split(' '))\n",
        "    arr = list(arr)\n",
        "    graph = [list(range(1, num+1)), arr]\n",
        "    #print(graph)\n",
        "    \n",
        "\n",
        "    visited = [False for i in range(num)]\n",
        "    #print(visited)\n",
        "    count = 0\n",
        "    for __ in range(num):\n",
        "        if visited[__] == False:\n",
        "            if graph[0][__] == graph[1][__]:\n",
        "                count += 1\n",
        "                visited[__] = False\n",
        "                #print(visited)\n",
        "            else:\n",
        "                cycle = []\n",
        "                \n",
        "                from_ = graph[0][__]\n",
        "                to_ = graph[1][__]\n",
        "                visited[__] = True\n",
        "                #print(from_, to_)\n",
        "                #print(visited)\n",
        "\n",
        "                newfrom = graph[0][to_-1]\n",
        "                newto = graph[1][to_-1]\n",
        "                visited[to_ -1] = True\n",
        "                #print(newfrom, newto)\n",
        "                #print(visited)\n",
        "                while newto != from_ :\n",
        "                    newfrom = graph[0][newto-1]\n",
        "                    newto = graph[1][newto-1]\n",
        "                    visited[newfrom-1] = True\n",
        "                    #print(newfrom, newto)\n",
        "                    #print('_', newto, from_)\n",
        "                    #print(visited)\n",
        "                count +=1\n",
        "        #print(visited)\n",
        "            \n",
        "        #print(count)\n",
        "    answer.append(count)\n",
        "\n",
        "#print(*answer)\n",
        "for a in answer:\n",
        "    print(a)\n",
        "            \n",
        "            \n"
      ]
    },
    {
      "cell_type": "code",
      "source": [
        "83"
      ],
      "metadata": {
        "id": "ILno1nrRGZuj"
      },
      "execution_count": null,
      "outputs": []
    }
  ]
}