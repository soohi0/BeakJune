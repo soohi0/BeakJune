{
  "nbformat": 4,
  "nbformat_minor": 0,
  "metadata": {
    "colab": {
      "name": "12904.ipynb",
      "provenance": [],
      "authorship_tag": "ABX9TyOWwDYUJAESEiMauzG4WsK2",
      "include_colab_link": true
    },
    "kernelspec": {
      "name": "python3",
      "display_name": "Python 3"
    },
    "language_info": {
      "name": "python"
    }
  },
  "cells": [
    {
      "cell_type": "markdown",
      "metadata": {
        "id": "view-in-github",
        "colab_type": "text"
      },
      "source": [
        "<a href=\"https://colab.research.google.com/github/soohi0/BeakJune/blob/master/12904.ipynb\" target=\"_parent\"><img src=\"https://colab.research.google.com/assets/colab-badge.svg\" alt=\"Open In Colab\"/></a>"
      ]
    },
    {
      "cell_type": "code",
      "execution_count": null,
      "metadata": {
        "id": "KJqNruGlsp6i"
      },
      "outputs": [],
      "source": [
        "S = list(map(str, input()))\n",
        "T = list(map(str, input()))\n",
        "\n",
        "while len(S) != len(T):\n",
        "    if T[-1] == 'A':\n",
        "        T.pop()\n",
        "    elif T[-1] == 'B':\n",
        "        T.pop()\n",
        "        T = T[::-1]\n",
        "\n",
        "if S == T:\n",
        "    print(1)\n",
        "else:\n",
        "    print(0)"
      ]
    }
  ]
}