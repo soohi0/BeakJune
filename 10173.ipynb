{
  "nbformat": 4,
  "nbformat_minor": 0,
  "metadata": {
    "colab": {
      "name": "10173.ipynb",
      "provenance": [],
      "authorship_tag": "ABX9TyPjpaOF42ddHdAmnW6Nyvf2",
      "include_colab_link": true
    },
    "kernelspec": {
      "name": "python3",
      "display_name": "Python 3"
    },
    "language_info": {
      "name": "python"
    }
  },
  "cells": [
    {
      "cell_type": "markdown",
      "metadata": {
        "id": "view-in-github",
        "colab_type": "text"
      },
      "source": [
        "<a href=\"https://colab.research.google.com/github/soohi0/BeakJune/blob/master/10173.ipynb\" target=\"_parent\"><img src=\"https://colab.research.google.com/assets/colab-badge.svg\" alt=\"Open In Colab\"/></a>"
      ]
    },
    {
      "cell_type": "code",
      "metadata": {
        "colab": {
          "base_uri": "https://localhost:8080/"
        },
        "id": "W5PyVp8hWJUv",
        "outputId": "9e79fd1d-b9bc-4b3c-b123-22dc1ed0b4b2"
      },
      "source": [
        "string = input()\n",
        "strlist = []\n",
        "while string != 'EOI':\n",
        "    if 'Nemo' in string or 'nemo' in string or 'NEMO' in string or 'NeMo' in string:\n",
        "        strlist.append('Found')\n",
        "    else:\n",
        "        strlist.append('Missing')\n",
        "    string = input()\n",
        "\n",
        "for s in strlist:\n",
        "    print(s)"
      ],
      "execution_count": 3,
      "outputs": [
        {
          "output_type": "stream",
          "text": [
            "Marlin names this last egg Nemo, a name that Coral liked.\n",
            "While attempting to save nemo, Marlin meets Dory,\n",
            "a good-hearted and optimistic regal blue tang with short-term memory loss. \n",
            "Upon leaving the East Australian Current,(888*%$^&%0928375)Marlin and Dory\n",
            "NEMO leaves for school and Marlin watches NeMo swim away.\n",
            "EOI\n",
            "Found\n",
            "Found\n",
            "Missing\n",
            "Missing\n",
            "Missing\n"
          ],
          "name": "stdout"
        }
      ]
    },
    {
      "cell_type": "code",
      "metadata": {
        "id": "EdyyF7uGX30K"
      },
      "source": [
        ""
      ],
      "execution_count": null,
      "outputs": []
    }
  ]
}