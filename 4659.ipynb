{
  "nbformat": 4,
  "nbformat_minor": 0,
  "metadata": {
    "colab": {
      "name": "4659.ipynb",
      "provenance": [],
      "collapsed_sections": [],
      "authorship_tag": "ABX9TyMvPtxXWXGp3X8Xq9zGG1NN",
      "include_colab_link": true
    },
    "kernelspec": {
      "name": "python3",
      "display_name": "Python 3"
    },
    "language_info": {
      "name": "python"
    }
  },
  "cells": [
    {
      "cell_type": "markdown",
      "metadata": {
        "id": "view-in-github",
        "colab_type": "text"
      },
      "source": [
        "<a href=\"https://colab.research.google.com/github/soohi0/BeakJune/blob/master/4659.ipynb\" target=\"_parent\"><img src=\"https://colab.research.google.com/assets/colab-badge.svg\" alt=\"Open In Colab\"/></a>"
      ]
    },
    {
      "cell_type": "code",
      "metadata": {
        "colab": {
          "base_uri": "https://localhost:8080/"
        },
        "id": "z2wdimoEYwOM",
        "outputId": "41c2a8eb-db93-480f-9229-a7f1f2e1f72e"
      },
      "source": [
        "\n",
        "string = input()\n",
        "def one(string1):\n",
        "    for s in string1:\n",
        "        if s == 'a' or s == 'e' or s == 'i' or s == 'o' or s == 'u':\n",
        "            # print(\"true\")\n",
        "            return True\n",
        "    return False\n",
        "def two(string2):\n",
        "    strcnt = 0\n",
        "    ismoem = -1\n",
        "    for s in string2:\n",
        "        # print(s)\n",
        "        if s == 'a' or s == 'e' or s == 'i' or s == 'o' or s == 'u':\n",
        "            if ismoem == -1 or ismoem == 1:\n",
        "                #자음이거나 아무것도 아니었다면\n",
        "                # print(\"자음이었거나 아무것도아니었다면\")\n",
        "                ismoem = 0\n",
        "                strcnt =1\n",
        "            elif ismoem == 0 and strcnt < 2 and strcnt >0:\n",
        "                # print('이전에 모음')\n",
        "                #이전에도 모음이었던것\n",
        "                strcnt += 1\n",
        "            elif strcnt >= 2 and ismoem == 0:\n",
        "                # print('이전에 모음2개')\n",
        "                return False\n",
        "        else:\n",
        "            if ismoem == -1 or ismoem == 0:\n",
        "                #모음이었거나 아무것도아니었다면\n",
        "                # print(\"모음이었거나 아무것도아니었다면\")\n",
        "                ismoem = 1\n",
        "                strcnt = 1\n",
        "            elif ismoem == 1 and strcnt < 2 and strcnt > 0:\n",
        "                # print(\"이전에 자음이었다\")\n",
        "                strcnt += 1\n",
        "            elif strcnt >=2 and ismoem == 1:\n",
        "                # print(\"이전에 자음2개이었다\")\n",
        "                # print(s)\n",
        "                return False\n",
        "    return True\n",
        "def three(string3):\n",
        "    befores = \"\"\n",
        "    for s in string3:\n",
        "        # print(befores)\n",
        "        if befores == \"\":\n",
        "            befores = s\n",
        "        else:\n",
        "            if befores == s:\n",
        "                if s != 'e' and s != 'o':\n",
        "                    return False\n",
        "            else:\n",
        "                befores = s\n",
        "    return True\n",
        "        \n",
        "resultstr = []\n",
        "while string != \"end\":\n",
        "    result = \"\"\n",
        "    if one(string) == False:\n",
        "        # print(\"one\")\n",
        "        result += \"<\"\n",
        "        result += string\n",
        "        result += \"> is not acceptable.\"\n",
        "    else:\n",
        "        if two(string) == False:\n",
        "            # print(\"two\")\n",
        "            result += \"<\"\n",
        "            result += string\n",
        "            result += \"> is not acceptable.\"\n",
        "        else:\n",
        "            if three(string) == False:\n",
        "                # print(\"three\")\n",
        "                result += \"<\"\n",
        "                result += string\n",
        "                result += \"> is not acceptable.\"\n",
        "            else:\n",
        "                result += \"<\"\n",
        "                result += string\n",
        "                result += \"> is acceptable.\"\n",
        "    resultstr.append(result)\n",
        "    string = input()\n",
        "\n",
        "for re in resultstr:\n",
        "    print(re)\n",
        "            \n",
        "\n"
      ],
      "execution_count": 14,
      "outputs": [
        {
          "output_type": "stream",
          "text": [
            "houtouch\n",
            "h\n",
            "o\n",
            "u\n",
            "t\n",
            "o\n",
            "u\n",
            "c\n",
            "h\n",
            "end\n",
            "<houtouch> is acceptable.\n"
          ],
          "name": "stdout"
        }
      ]
    },
    {
      "cell_type": "code",
      "metadata": {
        "id": "0EsegyxZgy8G"
      },
      "source": [
        "ea\n",
        "tv\n",
        "ptoui\n",
        "bontres\n",
        "zoggax\n",
        "wiinq\n",
        "eep\n",
        "houctuh\n",
        "end"
      ],
      "execution_count": null,
      "outputs": []
    }
  ]
}