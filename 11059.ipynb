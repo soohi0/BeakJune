{
  "nbformat": 4,
  "nbformat_minor": 0,
  "metadata": {
    "colab": {
      "name": "11059.ipynb",
      "provenance": [],
      "authorship_tag": "ABX9TyMM90EU7vZMMTT6r4wRlgXg",
      "include_colab_link": true
    },
    "kernelspec": {
      "name": "python3",
      "display_name": "Python 3"
    },
    "language_info": {
      "name": "python"
    }
  },
  "cells": [
    {
      "cell_type": "markdown",
      "metadata": {
        "id": "view-in-github",
        "colab_type": "text"
      },
      "source": [
        "<a href=\"https://colab.research.google.com/github/soohi0/BeakJune/blob/master/11059.ipynb\" target=\"_parent\"><img src=\"https://colab.research.google.com/assets/colab-badge.svg\" alt=\"Open In Colab\"/></a>"
      ]
    },
    {
      "cell_type": "code",
      "metadata": {
        "id": "7FqX35xwQfe5"
      },
      "source": [
        "\n",
        "s = input()\n",
        "start = 0\n",
        "end = len(s) - 1\n",
        "while start < end:\n",
        "    "
      ],
      "execution_count": null,
      "outputs": []
    }
  ]
}