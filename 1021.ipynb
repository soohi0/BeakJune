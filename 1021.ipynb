{
  "nbformat": 4,
  "nbformat_minor": 0,
  "metadata": {
    "colab": {
      "name": "1021.ipynb",
      "provenance": [],
      "authorship_tag": "ABX9TyOwNmL1o95jmmbrjAmV+TrQ",
      "include_colab_link": true
    },
    "kernelspec": {
      "name": "python3",
      "display_name": "Python 3"
    },
    "language_info": {
      "name": "python"
    }
  },
  "cells": [
    {
      "cell_type": "markdown",
      "metadata": {
        "id": "view-in-github",
        "colab_type": "text"
      },
      "source": [
        "<a href=\"https://colab.research.google.com/github/soohi0/BeakJune/blob/master/1021.ipynb\" target=\"_parent\"><img src=\"https://colab.research.google.com/assets/colab-badge.svg\" alt=\"Open In Colab\"/></a>"
      ]
    },
    {
      "cell_type": "code",
      "metadata": {
        "colab": {
          "base_uri": "https://localhost:8080/"
        },
        "id": "iz9EB_sfgaSz",
        "outputId": "41d24c51-0564-4834-c6f0-d3bc730b91af"
      },
      "source": [
        "from collections import deque\n",
        "n,m = list(map(int,input().split()))\n",
        "v = list(map(int,input().split()))\n",
        "q = deque([i+1 for i in range(n)])\n",
        "cnt = 0\n",
        "for x in v:\n",
        "    while True:\n",
        "        if q.index(x) == 0:\n",
        "            q.popleft() # 1번 로직\n",
        "            break # 위치 0과의 거리 차이로 왼쪽으로 이동할 지 오른쪽으로 이동할 지를 결정\n",
        "        if q.index(x) - 0 <= len(q) - q.index(x): # 2번 왼쪽으로 이동하기 로직\n",
        "            q.append(q.popleft())\n",
        "            cnt += 1\n",
        "        else:\n",
        "            q.appendleft(q.pop()) # 3번 오른쪽으로 이동하기 로직\n",
        "            cnt += 1\n",
        "print(cnt)\n"
      ],
      "execution_count": 4,
      "outputs": [
        {
          "output_type": "stream",
          "name": "stdout",
          "text": [
            "10 3\n",
            "1 2 3\n",
            "0\n"
          ]
        }
      ]
    }
  ]
}