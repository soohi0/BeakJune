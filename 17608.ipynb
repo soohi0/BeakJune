{
  "nbformat": 4,
  "nbformat_minor": 0,
  "metadata": {
    "colab": {
      "name": "17608.ipynb",
      "provenance": [],
      "authorship_tag": "ABX9TyP4JQPy9iPzia9AscqWD4ng",
      "include_colab_link": true
    },
    "kernelspec": {
      "name": "python3",
      "display_name": "Python 3"
    },
    "language_info": {
      "name": "python"
    }
  },
  "cells": [
    {
      "cell_type": "markdown",
      "metadata": {
        "id": "view-in-github",
        "colab_type": "text"
      },
      "source": [
        "<a href=\"https://colab.research.google.com/github/soohi0/BeakJune/blob/master/17608.ipynb\" target=\"_parent\"><img src=\"https://colab.research.google.com/assets/colab-badge.svg\" alt=\"Open In Colab\"/></a>"
      ]
    },
    {
      "cell_type": "code",
      "metadata": {
        "colab": {
          "base_uri": "https://localhost:8080/"
        },
        "id": "gcB6I8HNK5N4",
        "outputId": "973da995-63ec-49c5-fde7-fc1e656a73b2"
      },
      "source": [
        "num = int(input())\n",
        "l = []\n",
        "for _ in range(num):\n",
        "    n = int(input())\n",
        "    l.append(n)\n",
        "last = l[len(l)-1]\n",
        "cnt = 0\n",
        "print(l[len(l)-1])\n",
        "for i in l:\n",
        "    if i >= last:\n",
        "        cnt+= 1\n",
        "print(cnt)"
      ],
      "execution_count": 2,
      "outputs": [
        {
          "output_type": "stream",
          "name": "stdout",
          "text": [
            "6\n",
            "6\n",
            "9\n",
            "7\n",
            "6\n",
            "4\n",
            "6\n",
            "6\n",
            "5\n"
          ]
        }
      ]
    },
    {
      "cell_type": "code",
      "metadata": {
        "id": "uLmC-gXtLI6s"
      },
      "source": [
        ""
      ],
      "execution_count": null,
      "outputs": []
    }
  ]
}