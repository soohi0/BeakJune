{
  "nbformat": 4,
  "nbformat_minor": 0,
  "metadata": {
    "colab": {
      "name": "17413.ipynb",
      "provenance": [],
      "collapsed_sections": [],
      "authorship_tag": "ABX9TyMbmV7gPf0axVMbw7ATYXFC",
      "include_colab_link": true
    },
    "kernelspec": {
      "name": "python3",
      "display_name": "Python 3"
    },
    "language_info": {
      "name": "python"
    }
  },
  "cells": [
    {
      "cell_type": "markdown",
      "metadata": {
        "id": "view-in-github",
        "colab_type": "text"
      },
      "source": [
        "<a href=\"https://colab.research.google.com/github/soohi0/BeakJune/blob/master/17413.ipynb\" target=\"_parent\"><img src=\"https://colab.research.google.com/assets/colab-badge.svg\" alt=\"Open In Colab\"/></a>"
      ]
    },
    {
      "cell_type": "code",
      "metadata": {
        "id": "2WFCtShfma6F"
      },
      "source": [
        "import sys\n",
        "word = list(sys.stdin.readline().rstrip())\n",
        "\n",
        "i = 0\n",
        "start = 0\n",
        "\n",
        "while i < len(word):\n",
        "    if word[i] == \"<\":       # 열린 괄호를 만나면\n",
        "        i += 1 \n",
        "        while word[i] != \">\":      # 닫힌 괄호를 만날 때 까지\n",
        "            i += 1 \n",
        "        i += 1               # 닫힌 괄호를 만난 후 인덱스를 하나 증가시킨다\n",
        "    elif word[i].isalnum(): # 숫자나 알파벳을 만나면\n",
        "        start = i\n",
        "        while i < len(word) and word[i].isalnum():\n",
        "            i+=1\n",
        "        tmp = word[start:i] # 숫자,알파벳 범위에 있는 것들을\n",
        "        tmp.reverse()       # 뒤집는다\n",
        "        word[start:i] = tmp\n",
        "    else:                   # 괄호도 아니고 알파,숫자도 아닌것 = 공백\n",
        "        i+=1                # 그냥 증가시킨다\n",
        "\n",
        "print(\"\".join(word))"
      ],
      "execution_count": null,
      "outputs": []
    }
  ]
}