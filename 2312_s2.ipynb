{
  "nbformat": 4,
  "nbformat_minor": 0,
  "metadata": {
    "colab": {
      "name": "2312_s2.ipynb",
      "provenance": [],
      "collapsed_sections": [],
      "authorship_tag": "ABX9TyNp7NPzj7dLTwjDhhxFmCt+",
      "include_colab_link": true
    },
    "kernelspec": {
      "name": "python3",
      "display_name": "Python 3"
    },
    "language_info": {
      "name": "python"
    }
  },
  "cells": [
    {
      "cell_type": "markdown",
      "metadata": {
        "id": "view-in-github",
        "colab_type": "text"
      },
      "source": [
        "<a href=\"https://colab.research.google.com/github/soohi0/BeakJune/blob/master/2312_s2.ipynb\" target=\"_parent\"><img src=\"https://colab.research.google.com/assets/colab-badge.svg\" alt=\"Open In Colab\"/></a>"
      ]
    },
    {
      "cell_type": "code",
      "metadata": {
        "colab": {
          "base_uri": "https://localhost:8080/"
        },
        "id": "I6cSeDoutkcH",
        "outputId": "b1bb666b-9bad-4d87-e0c3-0d5f42da2f8b"
      },
      "source": [
        "n = int(input())\n",
        "a_list = []\n",
        "for _ in range(n):\n",
        "    m = int(input())\n",
        "    soinsoo = {}\n",
        "    while m is not 1:\n",
        "        for i in range(2, m+1, 1):\n",
        "            if m % i == 0:\n",
        "                if i not in soinsoo:\n",
        "                    soinsoo[i] = 1\n",
        "                else:\n",
        "                    cnt = soinsoo[i]\n",
        "                    soinsoo[i] = cnt+1\n",
        "                m = m//i\n",
        "                break\n",
        "    a_list.append(soinsoo)\n",
        "for d in a_list:\n",
        "    for key in d:\n",
        "        print(key , d[key])"
      ],
      "execution_count": 8,
      "outputs": [
        {
          "output_type": "stream",
          "name": "stdout",
          "text": [
            "2\n",
            "6\n",
            "24\n",
            "2 1\n",
            "3 1\n",
            "2 3\n",
            "3 1\n"
          ]
        }
      ]
    },
    {
      "cell_type": "code",
      "metadata": {
        "id": "UVm1drJhxTjM"
      },
      "source": [
        ""
      ],
      "execution_count": null,
      "outputs": []
    }
  ]
}