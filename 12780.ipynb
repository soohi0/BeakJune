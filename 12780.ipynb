{
  "nbformat": 4,
  "nbformat_minor": 0,
  "metadata": {
    "colab": {
      "name": "12780.ipynb",
      "provenance": [],
      "authorship_tag": "ABX9TyNgSVARbF7U1Lw6DuA5cAza",
      "include_colab_link": true
    },
    "kernelspec": {
      "name": "python3",
      "display_name": "Python 3"
    },
    "language_info": {
      "name": "python"
    }
  },
  "cells": [
    {
      "cell_type": "markdown",
      "metadata": {
        "id": "view-in-github",
        "colab_type": "text"
      },
      "source": [
        "<a href=\"https://colab.research.google.com/github/soohi0/BeakJune/blob/master/12780.ipynb\" target=\"_parent\"><img src=\"https://colab.research.google.com/assets/colab-badge.svg\" alt=\"Open In Colab\"/></a>"
      ]
    },
    {
      "cell_type": "code",
      "metadata": {
        "colab": {
          "base_uri": "https://localhost:8080/"
        },
        "id": "XZz5ZBNlG4_L",
        "outputId": "26e68924-97e4-4bf8-d062-bd51d600a563"
      },
      "source": [
        "s = input()\n",
        "inputs = input()\n",
        "sSize = len(s)\n",
        "cnt = 0\n",
        "inputSize = len(inputs)\n",
        "for i in range(0, (sSize-inputSize+1)):\n",
        "    substr = s[i:i+inputSize]\n",
        "    print(substr)\n",
        "    if substr == inputs:\n",
        "        cnt += 1\n",
        "print(cnt)\n",
        "\n"
      ],
      "execution_count": 6,
      "outputs": [
        {
          "output_type": "stream",
          "text": [
            "INHAUNIVERSITYISONEOFTHEBESTUNIVERSITYINTHEWORLD\n",
            "UNIVERSITY\n",
            "INHAUNIVER\n",
            "NHAUNIVERS\n",
            "HAUNIVERSI\n",
            "AUNIVERSIT\n",
            "UNIVERSITY\n",
            "NIVERSITYI\n",
            "IVERSITYIS\n",
            "VERSITYISO\n",
            "ERSITYISON\n",
            "RSITYISONE\n",
            "SITYISONEO\n",
            "ITYISONEOF\n",
            "TYISONEOFT\n",
            "YISONEOFTH\n",
            "ISONEOFTHE\n",
            "SONEOFTHEB\n",
            "ONEOFTHEBE\n",
            "NEOFTHEBES\n",
            "EOFTHEBEST\n",
            "OFTHEBESTU\n",
            "FTHEBESTUN\n",
            "THEBESTUNI\n",
            "HEBESTUNIV\n",
            "EBESTUNIVE\n",
            "BESTUNIVER\n",
            "ESTUNIVERS\n",
            "STUNIVERSI\n",
            "TUNIVERSIT\n",
            "UNIVERSITY\n",
            "NIVERSITYI\n",
            "IVERSITYIN\n",
            "VERSITYINT\n",
            "ERSITYINTH\n",
            "RSITYINTHE\n",
            "SITYINTHEW\n",
            "ITYINTHEWO\n",
            "TYINTHEWOR\n",
            "YINTHEWORL\n",
            "INTHEWORLD\n",
            "2\n"
          ],
          "name": "stdout"
        }
      ]
    },
    {
      "cell_type": "code",
      "metadata": {
        "id": "ZuajfaAKHnvn"
      },
      "source": [
        ""
      ],
      "execution_count": null,
      "outputs": []
    }
  ]
}