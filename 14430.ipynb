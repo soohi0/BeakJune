{
  "nbformat": 4,
  "nbformat_minor": 0,
  "metadata": {
    "colab": {
      "name": "14430.ipynb",
      "provenance": [],
      "collapsed_sections": [],
      "authorship_tag": "ABX9TyNyQOqkhaYBBCrZw30jq3tT",
      "include_colab_link": true
    },
    "kernelspec": {
      "name": "python3",
      "display_name": "Python 3"
    },
    "language_info": {
      "name": "python"
    }
  },
  "cells": [
    {
      "cell_type": "markdown",
      "metadata": {
        "id": "view-in-github",
        "colab_type": "text"
      },
      "source": [
        "<a href=\"https://colab.research.google.com/github/soohi0/BeakJune/blob/master/14430.ipynb\" target=\"_parent\"><img src=\"https://colab.research.google.com/assets/colab-badge.svg\" alt=\"Open In Colab\"/></a>"
      ]
    },
    {
      "cell_type": "code",
      "execution_count": 12,
      "metadata": {
        "colab": {
          "base_uri": "https://localhost:8080/"
        },
        "id": "GiQV1ocJ_kyq",
        "outputId": "579a00bb-eed0-4a11-dd91-f86891b8d254"
      },
      "outputs": [
        {
          "output_type": "stream",
          "name": "stdout",
          "text": [
            "5 4\n",
            "0 1 0 0\n",
            "0 0 1 0\n",
            "1 1 0 0\n",
            "1 0 1 0\n",
            "1 1 0 0\n",
            "4\n"
          ]
        }
      ],
      "source": [
        "from collections import deque\n",
        "\n",
        "n, m = map(int, input().split(' ')) #n 세로, m 가로\n",
        "graph = []\n",
        "for _ in range(n):\n",
        "    arr = input().split(' ')\n",
        "    for idx, i in enumerate(arr):\n",
        "        arr[idx] = int(i)\n",
        "    graph.append(arr)\n",
        "\n",
        "#visited node\n",
        "visited = []\n",
        "\n",
        "\n",
        "def isinrange(x, y, n, m):\n",
        "    if x < m and x >= 0 and y < n and y >= 0:\n",
        "        return True\n",
        "    else:\n",
        "        return False\n",
        "\n",
        "dir = [[0, 1], [1, 0]] #right, down\n",
        "\n",
        "need_visit = deque()\n",
        "need_visit.append([0,0,0])\n",
        "\n",
        "while need_visit:\n",
        "    node = need_visit.popleft()\n",
        "    score = node[2]\n",
        "    spot = node[:1]\n",
        "\n",
        "    if spot not in visited:\n",
        "        visited.append(node)\n",
        "        X = node[1]\n",
        "        Y = node[0]\n",
        "        score += graph[Y][X]\n",
        "        for d in dir:\n",
        "            nextX = X + d[0]\n",
        "            nextY = Y + d[1]\n",
        "            if isinrange(nextX, nextY, n, m):\n",
        "                need_visit.append([nextY, nextX, score])\n",
        "max_ = 0\n",
        "for no in visited:\n",
        "\n",
        "    if no[2] > max_:\n",
        "        max_ = no[2]    \n",
        "\n",
        "print(max_)\n",
        "\n",
        "\n"
      ]
    },
    {
      "cell_type": "code",
      "source": [
        "5 4\n",
        "0 1 0 0\n",
        "0 0 1 0\n",
        "1 1 0 0\n",
        "1 0 1 0\n",
        "1 1 0 0"
      ],
      "metadata": {
        "id": "lsUWCQdpEDvS"
      },
      "execution_count": null,
      "outputs": []
    },
    {
      "cell_type": "code",
      "source": [
        "from collections import deque\n",
        "import sys\n",
        "n, m = map(int, input().split(' ')) #n 세로, m 가로\n",
        "graph = []\n",
        "for _ in range(n):\n",
        "    arr = sys.stdin.readline().split(' ')\n",
        "    for idx, i in enumerate(arr):\n",
        "        arr[idx] = int(i)\n",
        "    graph.append(arr)\n",
        "\n",
        "#visited node\n",
        "visited = []\n",
        "\n",
        "\n",
        "def isinrange(x, y, n, m):\n",
        "    if x < m and x >= 0 and y < n and y >= 0:\n",
        "        return True\n",
        "    else:\n",
        "        return False\n",
        "\n",
        "dir = [[0, 1], [1, 0]] #right, down\n",
        "\n",
        "need_visit = deque()\n",
        "need_visit.append([0,0,0])\n",
        "max_ = 0\n",
        "while need_visit:\n",
        "    node = need_visit.popleft()\n",
        "    score = node[2]\n",
        "    spot = node[:1]\n",
        "\n",
        "    if spot not in visited:\n",
        "        visited.append(node)\n",
        "        X = node[1]\n",
        "        Y = node[0]\n",
        "        score += graph[Y][X]\n",
        "        if score > max_:\n",
        "            max_ = score\n",
        "        for d in dir:\n",
        "            nextX = X + d[0]\n",
        "            nextY = Y + d[1]\n",
        "            if isinrange(nextX, nextY, n, m):\n",
        "                need_visit.append([nextY, nextX, score])\n",
        "print(max_)\n",
        "\n"
      ],
      "metadata": {
        "id": "ZN_rnhovPtft"
      },
      "execution_count": null,
      "outputs": []
    },
    {
      "cell_type": "code",
      "source": [
        "#dp로로 접근해야한다고고 한다다.\n",
        "\n",
        "n, m = map(int, input().split(' ')) #n 세로, m 가로\n",
        "graph = []\n",
        "for _ in range(n):\n",
        "    arr = input().split(' ')\n",
        "    for idx, i in enumerate(arr):\n",
        "        arr[idx] = int(i)\n",
        "    graph.append(arr)\n",
        "max_ = 0\n",
        "for i in range(1, n):\n",
        "    for j in range(1, m):\n",
        "        graph[i][j] += max(graph[i - 1][j], graph[i][j - 1]);\n",
        "\n",
        "        if max_ < graph[i][j]:\n",
        "            max_ = graph[i][j]\n",
        "\n",
        "print(max_)"
      ],
      "metadata": {
        "colab": {
          "base_uri": "https://localhost:8080/"
        },
        "id": "QjCH_MGzQLem",
        "outputId": "19750d11-4409-4d30-9554-ff5420b58231"
      },
      "execution_count": 15,
      "outputs": [
        {
          "output_type": "stream",
          "name": "stdout",
          "text": [
            "5 4\n",
            "0 1 0 0\n",
            "0 0 1 0\n",
            "1 1 0 0\n",
            "1 0 1 0\n",
            "1 1 0 0\n",
            "3\n"
          ]
        }
      ]
    },
    {
      "cell_type": "code",
      "source": [
        ""
      ],
      "metadata": {
        "id": "HE2J3XOqSZNO"
      },
      "execution_count": null,
      "outputs": []
    }
  ]
}