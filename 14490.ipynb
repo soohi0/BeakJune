{
  "nbformat": 4,
  "nbformat_minor": 0,
  "metadata": {
    "colab": {
      "name": "14490.ipynb",
      "provenance": [],
      "authorship_tag": "ABX9TyNvOzGARcISBfu85h+Iakb6",
      "include_colab_link": true
    },
    "kernelspec": {
      "name": "python3",
      "display_name": "Python 3"
    },
    "language_info": {
      "name": "python"
    }
  },
  "cells": [
    {
      "cell_type": "markdown",
      "metadata": {
        "id": "view-in-github",
        "colab_type": "text"
      },
      "source": [
        "<a href=\"https://colab.research.google.com/github/soohi0/BeakJune/blob/master/14490.ipynb\" target=\"_parent\"><img src=\"https://colab.research.google.com/assets/colab-badge.svg\" alt=\"Open In Colab\"/></a>"
      ]
    },
    {
      "cell_type": "code",
      "metadata": {
        "colab": {
          "base_uri": "https://localhost:8080/"
        },
        "id": "94l6JYxyQMMA",
        "outputId": "c4e4ac9b-0ac0-4eab-8546-362f17f067e0"
      },
      "source": [
        "#최대공약수 구하기\n",
        "def gcd(a, b):\n",
        "    if a < b:\n",
        "        (a, b) = (b, a)\n",
        "    while b != 0:\n",
        "        (a, b) = (b, a%b)\n",
        "    return a\n",
        "n, m = map(int, input().split(':'))\n",
        "gcd_ = gcd(n, m)\n",
        "n = str(n//gcd_)\n",
        "m = str(m//gcd_)\n",
        "print(n+':' + m)"
      ],
      "execution_count": 5,
      "outputs": [
        {
          "output_type": "stream",
          "name": "stdout",
          "text": [
            "100:10\n",
            "100 10\n",
            "10:1\n"
          ]
        }
      ]
    },
    {
      "cell_type": "code",
      "metadata": {
        "id": "f3mSE-lbQ3Bk"
      },
      "source": [
        ""
      ],
      "execution_count": null,
      "outputs": []
    }
  ]
}