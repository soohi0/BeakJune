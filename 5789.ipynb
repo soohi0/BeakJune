{
 "metadata": {
  "language_info": {
   "codemirror_mode": {
    "name": "ipython",
    "version": 3
   },
   "file_extension": ".py",
   "mimetype": "text/x-python",
   "name": "python",
   "nbconvert_exporter": "python",
   "pygments_lexer": "ipython3",
   "version": 3
  },
  "orig_nbformat": 4
 },
 "nbformat": 4,
 "nbformat_minor": 2,
 "cells": [
  {
   "cell_type": "code",
   "execution_count": null,
   "metadata": {},
   "outputs": [],
   "source": [
    "inputnum = int(input())\n",
    "strArr = []\n",
    "for i in range(inputnum):\n",
    "    string = input()\n",
    "    #for j in range(len(string)//2):\n",
    "    idx = len(string)//2-1\n",
    "    start = string[idx]\n",
    "    #print(\"stra\", start)\n",
    "    end = string[idx+1]\n",
    "    #print(\"end\", end)\n",
    "    if start == end:\n",
    "        strArr.append(\"Do-it\")\n",
    "    else:\n",
    "        strArr.append(\"Do-it-Not\")\n",
    "for s in strArr:\n",
    "    print(s)"
   ]
  },
  {
   "cell_type": "code",
   "execution_count": null,
   "metadata": {},
   "outputs": [],
   "source": []
  }
 ]
}