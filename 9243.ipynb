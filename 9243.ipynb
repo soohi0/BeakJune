{
  "nbformat": 4,
  "nbformat_minor": 0,
  "metadata": {
    "colab": {
      "name": "9243.ipynb",
      "provenance": [],
      "authorship_tag": "ABX9TyMQopVc+ui+IwIl5BKUMgev",
      "include_colab_link": true
    },
    "kernelspec": {
      "name": "python3",
      "display_name": "Python 3"
    },
    "language_info": {
      "name": "python"
    }
  },
  "cells": [
    {
      "cell_type": "markdown",
      "metadata": {
        "id": "view-in-github",
        "colab_type": "text"
      },
      "source": [
        "<a href=\"https://colab.research.google.com/github/soohi0/BeakJune/blob/master/9243.ipynb\" target=\"_parent\"><img src=\"https://colab.research.google.com/assets/colab-badge.svg\" alt=\"Open In Colab\"/></a>"
      ]
    },
    {
      "cell_type": "code",
      "metadata": {
        "colab": {
          "base_uri": "https://localhost:8080/"
        },
        "id": "ES6W4QZ__FCD",
        "outputId": "5ed16111-1917-4bb4-c041-0a36836b4b02"
      },
      "source": [
        "N = int(input())\n",
        "a, b = list(input()), list(input())\n",
        "for _ in range(N):\n",
        "    for i in range(len(a)):\n",
        "        if a[i] == '0':\n",
        "            a[i] = '1'\n",
        "        else:\n",
        "            a[i] = '0'\n",
        "print(\"Deletion succeeded\" if a == b else \"Deletion failed\")"
      ],
      "execution_count": 1,
      "outputs": [
        {
          "output_type": "stream",
          "text": [
            "1\n",
            "10001110101000001111010100001110\n",
            "01110001010111110000101011110001\n",
            "Deletion succeeded\n"
          ],
          "name": "stdout"
        }
      ]
    },
    {
      "cell_type": "code",
      "metadata": {
        "id": "aLmcT2j8_IjX"
      },
      "source": [
        ""
      ],
      "execution_count": null,
      "outputs": []
    }
  ]
}