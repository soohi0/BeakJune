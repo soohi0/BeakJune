{
  "nbformat": 4,
  "nbformat_minor": 0,
  "metadata": {
    "colab": {
      "name": "9655.ipynb",
      "provenance": [],
      "authorship_tag": "ABX9TyOYPOdQ4yYLLZwqOACntQgi",
      "include_colab_link": true
    },
    "kernelspec": {
      "name": "python3",
      "display_name": "Python 3"
    },
    "language_info": {
      "name": "python"
    }
  },
  "cells": [
    {
      "cell_type": "markdown",
      "metadata": {
        "id": "view-in-github",
        "colab_type": "text"
      },
      "source": [
        "<a href=\"https://colab.research.google.com/github/soohi0/BeakJune/blob/master/9655.ipynb\" target=\"_parent\"><img src=\"https://colab.research.google.com/assets/colab-badge.svg\" alt=\"Open In Colab\"/></a>"
      ]
    },
    {
      "cell_type": "code",
      "metadata": {
        "colab": {
          "base_uri": "https://localhost:8080/"
        },
        "id": "p9W2qM2aNw4_",
        "outputId": "1a05d434-0a4d-4539-c913-00f6b7efc575"
      },
      "source": [
        "num = int(input())\n",
        "turn = 'SK'\n",
        "\n",
        "def changeturn(turn):\n",
        "    if turn == 'SK':\n",
        "        turn = \"CY\"\n",
        "    elif turn == \"CY\":\n",
        "        turn = 'SK'\n",
        "    return turn\n",
        "\n",
        "while num > 0:\n",
        "    if num > 3:\n",
        "        num -= 3\n",
        "        turn = changeturn(turn)\n",
        "    elif num == 3:\n",
        "        num -= 1\n",
        "        turn = changeturn(turn)\n",
        "    else:\n",
        "        if num >= 1:\n",
        "            num-= 1\n",
        "            turn = changeturn(turn)\n",
        "\n",
        "turn = changeturn(turn)\n",
        "print(turn)"
      ],
      "execution_count": 1,
      "outputs": [
        {
          "output_type": "stream",
          "text": [
            "5\n",
            "SK\n"
          ],
          "name": "stdout"
        }
      ]
    },
    {
      "cell_type": "code",
      "metadata": {
        "id": "mL5LdrYjNzN7"
      },
      "source": [
        ""
      ],
      "execution_count": null,
      "outputs": []
    }
  ]
}