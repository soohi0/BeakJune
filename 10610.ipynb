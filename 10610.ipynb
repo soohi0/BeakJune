{
  "nbformat": 4,
  "nbformat_minor": 0,
  "metadata": {
    "colab": {
      "name": "10610.ipynb",
      "provenance": [],
      "authorship_tag": "ABX9TyO8lEZE3e5zTvUR/jK8dMDM",
      "include_colab_link": true
    },
    "kernelspec": {
      "name": "python3",
      "display_name": "Python 3"
    },
    "language_info": {
      "name": "python"
    }
  },
  "cells": [
    {
      "cell_type": "markdown",
      "metadata": {
        "id": "view-in-github",
        "colab_type": "text"
      },
      "source": [
        "<a href=\"https://colab.research.google.com/github/soohi0/BeakJune/blob/master/10610.ipynb\" target=\"_parent\"><img src=\"https://colab.research.google.com/assets/colab-badge.svg\" alt=\"Open In Colab\"/></a>"
      ]
    },
    {
      "cell_type": "code",
      "execution_count": 8,
      "metadata": {
        "colab": {
          "base_uri": "https://localhost:8080/"
        },
        "id": "ecR65647E1ga",
        "outputId": "69ab0a68-599e-4f32-ca35-4919d0883a31"
      },
      "outputs": [
        {
          "output_type": "stream",
          "name": "stdout",
          "text": [
            "80875542\n",
            "88755420\n"
          ]
        }
      ],
      "source": [
        "\n",
        "num = input()\n",
        "nlist = []\n",
        "inzero = False\n",
        "sum_ = 0\n",
        "zeronum = 0\n",
        "for n in num:\n",
        "    if int(n) == 0:\n",
        "        inzero = True\n",
        "        zeronum += 1\n",
        "    else:\n",
        "        nlist.append(int(n))\n",
        "        sum_ += int(n)\n",
        "if sum_ % 3 != 0 or inzero == False:\n",
        "    print(-1)\n",
        "else:\n",
        "    nlist.sort(reverse=True)\n",
        "    \n",
        "output = \"\"\n",
        "for n in nlist:\n",
        "    output += str(n)\n",
        "for zero in range(zeronum):\n",
        "    output += '0'\n",
        "print(output)\n",
        "\n"
      ]
    },
    {
      "cell_type": "code",
      "source": [
        ""
      ],
      "metadata": {
        "id": "swmF3HaoHwzU"
      },
      "execution_count": null,
      "outputs": []
    }
  ]
}