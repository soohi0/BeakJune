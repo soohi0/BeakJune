{
  "nbformat": 4,
  "nbformat_minor": 0,
  "metadata": {
    "colab": {
      "name": "10819_S2.ipynb",
      "provenance": [],
      "authorship_tag": "ABX9TyPI9+N29lyX/l9PW6/7qR0P",
      "include_colab_link": true
    },
    "kernelspec": {
      "name": "python3",
      "display_name": "Python 3"
    },
    "language_info": {
      "name": "python"
    }
  },
  "cells": [
    {
      "cell_type": "markdown",
      "metadata": {
        "id": "view-in-github",
        "colab_type": "text"
      },
      "source": [
        "<a href=\"https://colab.research.google.com/github/soohi0/BeakJune/blob/master/10819_S2.ipynb\" target=\"_parent\"><img src=\"https://colab.research.google.com/assets/colab-badge.svg\" alt=\"Open In Colab\"/></a>"
      ]
    },
    {
      "cell_type": "code",
      "execution_count": null,
      "metadata": {
        "id": "VNp3eUrPMDhN"
      },
      "outputs": [],
      "source": [
        "20 1 15 8 4 10\n",
        "20 1 15 4 10 8\n",
        "19+ 14+11+6+2\n",
        "44+8\n"
      ]
    },
    {
      "cell_type": "code",
      "source": [
        "import sys\n",
        "from itertools import permutations\n",
        "\n",
        "input = sys.stdin.readline\n",
        "N = int(input())\n",
        "A = list(map(int, input().split()))\n",
        "\n",
        "cases = list(permutations(A))\n",
        "\n",
        "answer = 0\n",
        "for case in cases:\n",
        "    mid_sum = 0\n",
        "    for i in range(N - 1):\n",
        "        mid_sum += abs(case[i] - case[i + 1])\n",
        "    answer = max(mid_sum, answer)\n",
        "\n",
        "print(answer)"
      ],
      "metadata": {
        "id": "KODwKeqZyvep"
      },
      "execution_count": null,
      "outputs": []
    }
  ]
}