{
  "nbformat": 4,
  "nbformat_minor": 0,
  "metadata": {
    "colab": {
      "name": "16205.ipynb",
      "provenance": [],
      "collapsed_sections": [],
      "authorship_tag": "ABX9TyO5j/MPv6GegzUYmKCPssWU",
      "include_colab_link": true
    },
    "kernelspec": {
      "name": "python3",
      "display_name": "Python 3"
    },
    "language_info": {
      "name": "python"
    }
  },
  "cells": [
    {
      "cell_type": "markdown",
      "metadata": {
        "id": "view-in-github",
        "colab_type": "text"
      },
      "source": [
        "<a href=\"https://colab.research.google.com/github/soohi0/BeakJune/blob/master/16205.ipynb\" target=\"_parent\"><img src=\"https://colab.research.google.com/assets/colab-badge.svg\" alt=\"Open In Colab\"/></a>"
      ]
    },
    {
      "cell_type": "code",
      "metadata": {
        "colab": {
          "base_uri": "https://localhost:8080/"
        },
        "id": "AV-oQwtVQpsB",
        "outputId": "0276173b-fddc-41cb-d83a-35f08bf4eb54"
      },
      "source": [
        "num, string = input().split(' ')\n",
        "num = int(num)\n",
        "\n",
        "wordlist = []\n",
        "if num == 1:\n",
        "    # idxlist = []\n",
        "    # for idx, s in enumerate(string):\n",
        "    #     if s.isupper():\n",
        "    #         idxlist.append(idx)\n",
        "    # for cnt, idx in enumerate(idxlist):\n",
        "    #     if cnt == 0:\n",
        "    #         wordlist.append(string[:idx])\n",
        "    #     else:\n",
        "    #         wordlist.append(string[idxlist[cnt-1]: idx])\n",
        "\n",
        "    #     if cnt == len(idxlist)-1:\n",
        "    smallstr = \"\"\n",
        "    for idx, s in enumerate(string) :\n",
        "        if s.islower():\n",
        "            smallstr += s\n",
        "        elif s.isupper():\n",
        "            wordlist.append(smallstr)\n",
        "            for x in range(len(smallstr)):\n",
        "                string = string.replace(smallstr[x],\"\")\n",
        "\n",
        "\n",
        "\n",
        "    print(wordlist)\n",
        "elif num == 2:\n",
        "    wordlist = string.split('_')\n",
        "    print(wordlist)"
      ],
      "execution_count": 8,
      "outputs": [
        {
          "output_type": "stream",
          "text": [
            "1 camelCase\n",
            "['camel']\n"
          ],
          "name": "stdout"
        }
      ]
    },
    {
      "cell_type": "code",
      "metadata": {
        "id": "4QJsDBZVQ3BT"
      },
      "source": [
        "2 variable_n"
      ],
      "execution_count": null,
      "outputs": []
    }
  ]
}