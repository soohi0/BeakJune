{
  "nbformat": 4,
  "nbformat_minor": 0,
  "metadata": {
    "colab": {
      "name": "16205.ipynb",
      "provenance": [],
      "collapsed_sections": [],
      "authorship_tag": "ABX9TyMA7pMGdShwa8RHyr6mNv05",
      "include_colab_link": true
    },
    "kernelspec": {
      "name": "python3",
      "display_name": "Python 3"
    },
    "language_info": {
      "name": "python"
    }
  },
  "cells": [
    {
      "cell_type": "markdown",
      "metadata": {
        "id": "view-in-github",
        "colab_type": "text"
      },
      "source": [
        "<a href=\"https://colab.research.google.com/github/soohi0/BeakJune/blob/master/16205.ipynb\" target=\"_parent\"><img src=\"https://colab.research.google.com/assets/colab-badge.svg\" alt=\"Open In Colab\"/></a>"
      ]
    },
    {
      "cell_type": "code",
      "metadata": {
        "colab": {
          "base_uri": "https://localhost:8080/",
          "height": 274
        },
        "id": "AV-oQwtVQpsB",
        "outputId": "31b9dc7a-c9fa-41da-ec35-449828d49318"
      },
      "source": [
        "num, string = input().split(' ')\n",
        "num = int(num)\n",
        "\n",
        "wordlist = []\n",
        "if num == 1:\n",
        "    \n",
        "    while string != \"\":\n",
        "        smallstr = \"\"\n",
        "        for idx, s in enumerate(string) :\n",
        "            if s.islower():\n",
        "                smallstr += s\n",
        "            elif s.isupper() and idx != 0:\n",
        "                string = string[idx : ]\n",
        "                print(string)\n",
        "                idx = 0\n",
        "                s = ''\n",
        "                break;\n",
        "            else:\n",
        "                smallstr += s\n",
        "        wordlist.append(smallstr)\n",
        "        if smallstr == string:\n",
        "            string == \"\"\n",
        "            break\n",
        "    print(wordlist)\n",
        "elif num == 2:\n",
        "    wordlist = string.split('_')\n",
        "    print(wordlist)\n",
        "else:\n",
        "        \n",
        "    while string != \"\":\n",
        "        smallstr = \"\"\n",
        "        for idx, s in enumerate(string) :\n",
        "            if s.islower():\n",
        "                smallstr += s\n",
        "            elif s.isupper() and idx != 0:\n",
        "                string = string[idx : ]\n",
        "                print(string)\n",
        "                idx = 0\n",
        "                s = ''\n",
        "                break;\n",
        "            else:\n",
        "                smallstr += s\n",
        "        wordlist.append(smallstr)\n",
        "        if smallstr == string:\n",
        "            string == \"\"\n",
        "            break\n",
        "    print(wordlist)"
      ],
      "execution_count": 2,
      "outputs": [
        {
          "output_type": "stream",
          "text": [
            "1 camelCase\n",
            "Case\n"
          ],
          "name": "stdout"
        },
        {
          "output_type": "error",
          "ename": "KeyboardInterrupt",
          "evalue": "ignored",
          "traceback": [
            "\u001b[0;31m---------------------------------------------------------------------------\u001b[0m",
            "\u001b[0;31mKeyboardInterrupt\u001b[0m                         Traceback (most recent call last)",
            "\u001b[0;32m<ipython-input-2-3a4feab0712b>\u001b[0m in \u001b[0;36m<module>\u001b[0;34m()\u001b[0m\n\u001b[1;32m     18\u001b[0m     \u001b[0;32mwhile\u001b[0m \u001b[0mstring\u001b[0m \u001b[0;34m!=\u001b[0m \u001b[0;34m\"\"\u001b[0m\u001b[0;34m:\u001b[0m\u001b[0;34m\u001b[0m\u001b[0;34m\u001b[0m\u001b[0m\n\u001b[1;32m     19\u001b[0m         \u001b[0msmallstr\u001b[0m \u001b[0;34m=\u001b[0m \u001b[0;34m\"\"\u001b[0m\u001b[0;34m\u001b[0m\u001b[0;34m\u001b[0m\u001b[0m\n\u001b[0;32m---> 20\u001b[0;31m         \u001b[0;32mfor\u001b[0m \u001b[0midx\u001b[0m\u001b[0;34m,\u001b[0m \u001b[0ms\u001b[0m \u001b[0;32min\u001b[0m \u001b[0menumerate\u001b[0m\u001b[0;34m(\u001b[0m\u001b[0mstring\u001b[0m\u001b[0;34m)\u001b[0m \u001b[0;34m:\u001b[0m\u001b[0;34m\u001b[0m\u001b[0;34m\u001b[0m\u001b[0m\n\u001b[0m\u001b[1;32m     21\u001b[0m             \u001b[0;32mif\u001b[0m \u001b[0ms\u001b[0m\u001b[0;34m.\u001b[0m\u001b[0mislower\u001b[0m\u001b[0;34m(\u001b[0m\u001b[0;34m)\u001b[0m\u001b[0;34m:\u001b[0m\u001b[0;34m\u001b[0m\u001b[0;34m\u001b[0m\u001b[0m\n\u001b[1;32m     22\u001b[0m                 \u001b[0msmallstr\u001b[0m \u001b[0;34m+=\u001b[0m \u001b[0ms\u001b[0m\u001b[0;34m\u001b[0m\u001b[0;34m\u001b[0m\u001b[0m\n",
            "\u001b[0;31mKeyboardInterrupt\u001b[0m: "
          ]
        }
      ]
    },
    {
      "cell_type": "code",
      "metadata": {
        "id": "4QJsDBZVQ3BT",
        "colab": {
          "base_uri": "https://localhost:8080/"
        },
        "outputId": "73e6e61b-97ae-44b8-fd84-9253678ef647"
      },
      "source": [
        "num, string = input().split(' ')\n",
        "num = int(num)\n",
        "\n",
        "if num == 1:\n",
        "    make2str = \"\"\n",
        "    substring = \"\"\n",
        "    for s in string:\n",
        "        if s.islower():\n",
        "            substring += s\n",
        "        else:\n",
        "            #대문자\n",
        "            substring += \"_\"\n",
        "            substring += s\n",
        "    make2str = substring.lower()\n",
        "    if len(string ) > 1:\n",
        "        char = string[0].upper()\n",
        "        make3str = char + string[1:]\n",
        "    else:\n",
        "        char = string[0].upper()\n",
        "        make3str = char\n",
        "    print(string)\n",
        "    print(make2str)\n",
        "    print(make3str)\n",
        "elif num == 2:\n",
        "    wordlist = []\n",
        "    wordlist = string.split('_')\n",
        "    make1str = \"\"\n",
        "    make3str = \"\"\n",
        "    for i in range(1, len(wordlist)):\n",
        "        char =  wordlist[i][0].upper()\n",
        "        if len(wordlist[i]) > 1:\n",
        "            wordlist[i] = char + wordlist[i][1:]\n",
        "        else:\n",
        "            wordlist[i] = char\n",
        "    for word in wordlist:\n",
        "        make1str += word\n",
        "    make3str = make1str\n",
        "    if len(make3str ) > 1:\n",
        "        char = make3str[0].upper()\n",
        "        make3str = char + make3str[1:]\n",
        "    else:\n",
        "        char = make3str[0].upper()\n",
        "        make3str = char\n",
        "    print(make1str)\n",
        "    print(string)\n",
        "    print(make3str)\n",
        "else:\n",
        "    make2str = \"\"\n",
        "    make1str = \"\"\n",
        "\n",
        "    if len(string ) > 1:\n",
        "        char = string[0].lower()\n",
        "        make1str = char + string[1:]\n",
        "    else:\n",
        "        char = string[0].lower()\n",
        "        make1str = char\n",
        "\n",
        "    substring = \"\"\n",
        "    for s in make1str:\n",
        "        if s.islower():\n",
        "            substring += s\n",
        "        else:\n",
        "            #대문자\n",
        "            substring += \"_\"\n",
        "            substring += s\n",
        "    make2str = substring.lower()\n",
        "\n",
        "    print(make1str)\n",
        "    print(make2str)\n",
        "    print(string)\n",
        "\n"
      ],
      "execution_count": 19,
      "outputs": [
        {
          "output_type": "stream",
          "text": [
            "2 good\n",
            "good\n",
            "good\n",
            "Good\n"
          ],
          "name": "stdout"
        }
      ]
    },
    {
      "cell_type": "code",
      "metadata": {
        "id": "MGL-lMvUh-vR"
      },
      "source": [
        ""
      ],
      "execution_count": 13,
      "outputs": []
    }
  ]
}