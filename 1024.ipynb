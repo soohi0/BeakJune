{
  "nbformat": 4,
  "nbformat_minor": 0,
  "metadata": {
    "colab": {
      "name": "1024.ipynb",
      "provenance": [],
      "collapsed_sections": [],
      "authorship_tag": "ABX9TyOAT9EMKCHveYyYQO+hk0pt",
      "include_colab_link": true
    },
    "kernelspec": {
      "name": "python3",
      "display_name": "Python 3"
    },
    "language_info": {
      "name": "python"
    }
  },
  "cells": [
    {
      "cell_type": "markdown",
      "metadata": {
        "id": "view-in-github",
        "colab_type": "text"
      },
      "source": [
        "<a href=\"https://colab.research.google.com/github/soohi0/BeakJune/blob/master/1024.ipynb\" target=\"_parent\"><img src=\"https://colab.research.google.com/assets/colab-badge.svg\" alt=\"Open In Colab\"/></a>"
      ]
    },
    {
      "cell_type": "code",
      "metadata": {
        "colab": {
          "base_uri": "https://localhost:8080/"
        },
        "id": "ZlbNWIMB71AJ",
        "outputId": "eade9802-d95a-416a-c8a1-4a6026105332"
      },
      "source": [
        "n, l = map(int, input().split())\n",
        "t = 0\n",
        "x = -1\n",
        "iter = 0\n",
        "for i in range(l, 101):\n",
        "    t = (i * i - i) / 2\n",
        "    if (n - t) % i == 0 and (n - t) // i >= 0:\n",
        "        x = (n - t) // i\n",
        "        iter = i\n",
        "        break\n",
        "if x == -1:\n",
        "    print(-1)\n",
        "else:\n",
        "    for i in range(iter):\n",
        "        print(int(x + i))"
      ],
      "execution_count": 1,
      "outputs": [
        {
          "output_type": "stream",
          "name": "stdout",
          "text": [
            "18 2\n",
            "5\n",
            "6\n",
            "7\n"
          ]
        }
      ]
    }
  ]
}