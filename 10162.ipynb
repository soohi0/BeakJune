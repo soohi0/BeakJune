{
  "nbformat": 4,
  "nbformat_minor": 0,
  "metadata": {
    "colab": {
      "name": "10162.ipynb",
      "provenance": [],
      "authorship_tag": "ABX9TyNYuFUYxxZLfnEcB0MgvGZk",
      "include_colab_link": true
    },
    "kernelspec": {
      "name": "python3",
      "display_name": "Python 3"
    },
    "language_info": {
      "name": "python"
    }
  },
  "cells": [
    {
      "cell_type": "markdown",
      "metadata": {
        "id": "view-in-github",
        "colab_type": "text"
      },
      "source": [
        "<a href=\"https://colab.research.google.com/github/soohi0/BeakJune/blob/master/10162.ipynb\" target=\"_parent\"><img src=\"https://colab.research.google.com/assets/colab-badge.svg\" alt=\"Open In Colab\"/></a>"
      ]
    },
    {
      "cell_type": "code",
      "metadata": {
        "colab": {
          "base_uri": "https://localhost:8080/"
        },
        "id": "4GxHNpg0F_v2",
        "outputId": "ede7c14c-9c92-49a7-e98c-5727c3871f02"
      },
      "source": [
        "num = int(input())\n",
        "\n",
        "first = 300\n",
        "second = 60\n",
        "third = 10\n",
        "\n",
        "firstcnt = 0\n",
        "secondcnt = 0\n",
        "thirdcnt = 0\n",
        "boolVar = 0\n",
        "\n",
        "while num >= 0:\n",
        "    if num == 0:\n",
        "        break;\n",
        "    if num < first:\n",
        "        if num < second:\n",
        "            if num >= third:\n",
        "                num -= third\n",
        "                thirdcnt += 1\n",
        "            else:\n",
        "                boolVar = -1\n",
        "                break;\n",
        "        else:\n",
        "            num -= second\n",
        "            secondcnt += 1\n",
        "    else:\n",
        "        num -= first\n",
        "        firstcnt += 1\n",
        "if boolVar == -1:\n",
        "    print(-1)\n",
        "else:\n",
        "    print(\"{0} {1} {2}\".format(firstcnt, secondcnt, thirdcnt))"
      ],
      "execution_count": 3,
      "outputs": [
        {
          "output_type": "stream",
          "text": [
            "189\n",
            "-1\n"
          ],
          "name": "stdout"
        }
      ]
    },
    {
      "cell_type": "code",
      "metadata": {
        "id": "jZVEX3sMHn3Q"
      },
      "source": [
        ""
      ],
      "execution_count": null,
      "outputs": []
    }
  ]
}