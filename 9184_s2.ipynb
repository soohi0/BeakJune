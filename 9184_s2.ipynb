{
  "nbformat": 4,
  "nbformat_minor": 0,
  "metadata": {
    "colab": {
      "name": "9184_s2.ipynb",
      "provenance": [],
      "collapsed_sections": [],
      "authorship_tag": "ABX9TyOxr9GbI0KQa7vsCezlDM0y",
      "include_colab_link": true
    },
    "kernelspec": {
      "name": "python3",
      "display_name": "Python 3"
    },
    "language_info": {
      "name": "python"
    }
  },
  "cells": [
    {
      "cell_type": "markdown",
      "metadata": {
        "id": "view-in-github",
        "colab_type": "text"
      },
      "source": [
        "<a href=\"https://colab.research.google.com/github/soohi0/BeakJune/blob/master/9184_s2.ipynb\" target=\"_parent\"><img src=\"https://colab.research.google.com/assets/colab-badge.svg\" alt=\"Open In Colab\"/></a>"
      ]
    },
    {
      "cell_type": "code",
      "execution_count": null,
      "metadata": {
        "id": "23FrbwwGtUga"
      },
      "outputs": [],
      "source": [
        "import sys\n",
        "input = sys.stdin.readline\n",
        "def w(a, b, c):\n",
        "    if a <= 0 or b<= 0 or c<=0:\n",
        "        return 1\n",
        "    if a > 20 or b > 20 or c > 20:\n",
        "        return w(20, 20, 20)\n",
        "    if dp[a][b][c]:\n",
        "        return dp[a][b][c]\n",
        "    if a<b<c: dp[a][b][c] = w(a,b,c-1)+w(a,b-1,c-1)-w(a, b-1, c)\n",
        "        return dp[a][b][c]\n",
        "    dp[a][b][c] = w(a-1, b, c)+w(a-1,b-1,c)+w(a-1,b,c-1)-w(a-1,b-1,c-1)\n",
        "        return dp[a][b][c]\n",
        "dp = [[[0]*(21) for _ in range(21)] for _ in range(21)] # 0~20까지므로\n",
        "while 1:\n",
        "    a, b, c = map(int, input().split())\n",
        "    if a==-1 and b==-1 and c==-1:\n",
        "        break\n",
        "    print(f'w({a}, {b}, {c}) = {w(a,b,c)}')\n",
        "\n"
      ]
    }
  ]
}