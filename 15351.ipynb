{
  "nbformat": 4,
  "nbformat_minor": 0,
  "metadata": {
    "colab": {
      "name": "15351.ipynb",
      "provenance": [],
      "authorship_tag": "ABX9TyPq53woiIEpxZWEbprL4XZO",
      "include_colab_link": true
    },
    "kernelspec": {
      "name": "python3",
      "display_name": "Python 3"
    },
    "language_info": {
      "name": "python"
    }
  },
  "cells": [
    {
      "cell_type": "markdown",
      "metadata": {
        "id": "view-in-github",
        "colab_type": "text"
      },
      "source": [
        "<a href=\"https://colab.research.google.com/github/soohi0/BeakJune/blob/master/15351.ipynb\" target=\"_parent\"><img src=\"https://colab.research.google.com/assets/colab-badge.svg\" alt=\"Open In Colab\"/></a>"
      ]
    },
    {
      "cell_type": "code",
      "metadata": {
        "colab": {
          "base_uri": "https://localhost:8080/"
        },
        "id": "GWin2QBZ5OB4",
        "outputId": "3c7f9328-b120-4295-fe77-636c8e849697"
      },
      "source": [
        "N = int(input())\n",
        "alphabets = {\n",
        "    'A' : 1,\n",
        "    'B' : 2,\n",
        "    'C' : 3,\n",
        "    'D' : 4,\n",
        "    'E' : 5,\n",
        "    'F' : 6,\n",
        "    'G' : 7,\n",
        "    'H' : 8,\n",
        "    'I' : 9,\n",
        "    'J' : 10,\n",
        "    'K' : 11,\n",
        "    'L' : 12,\n",
        "    'M' : 13,\n",
        "    'N' : 14,\n",
        "    'O' : 15,\n",
        "    'P' : 16,\n",
        "    'Q' : 17,\n",
        "    'R' : 18,\n",
        "    'S' : 19,\n",
        "    'T' : 20,\n",
        "    'U' : 21,\n",
        "    'V' : 22,\n",
        "    'W' : 23,\n",
        "    'X' : 24,\n",
        "    'Y' : 25,\n",
        "    'Z' : 26,\n",
        "    ' ' : 0\n",
        "}\n",
        "strarr = []\n",
        "for _ in range(N):\n",
        "    string = input()\n",
        "    cnt = 0\n",
        "    for s in string:\n",
        "        cnt+= alphabets[s]\n",
        "    if cnt == 100:\n",
        "        strarr.append('PERFECT LIFE')\n",
        "    elif cnt < 100:\n",
        "        strarr.append(cnt)\n",
        "    else:\n",
        "        strarr.append(cnt)\n",
        "\n",
        "for c in strarr:\n",
        "    print(c)\n"
      ],
      "execution_count": 2,
      "outputs": [
        {
          "output_type": "stream",
          "text": [
            "4\n",
            "OTAKU LIFE\n",
            "PRODUCER\n",
            "GAMING LIFE\n",
            "PROGRAMMING\n",
            "PERFECT LIFE\n",
            "PERFECT LIFE\n",
            "83\n",
            "131\n"
          ],
          "name": "stdout"
        }
      ]
    },
    {
      "cell_type": "code",
      "metadata": {
        "id": "RBG-wH7k6xCD"
      },
      "source": [
        ""
      ],
      "execution_count": null,
      "outputs": []
    }
  ]
}