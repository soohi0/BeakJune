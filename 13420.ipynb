{
  "nbformat": 4,
  "nbformat_minor": 0,
  "metadata": {
    "colab": {
      "name": "13420.ipynb",
      "provenance": [],
      "collapsed_sections": [],
      "authorship_tag": "ABX9TyOx+zmQk79+ndcW/vOH+spi",
      "include_colab_link": true
    },
    "kernelspec": {
      "name": "python3",
      "display_name": "Python 3"
    },
    "language_info": {
      "name": "python"
    }
  },
  "cells": [
    {
      "cell_type": "markdown",
      "metadata": {
        "id": "view-in-github",
        "colab_type": "text"
      },
      "source": [
        "<a href=\"https://colab.research.google.com/github/soohi0/BeakJune/blob/master/13420.ipynb\" target=\"_parent\"><img src=\"https://colab.research.google.com/assets/colab-badge.svg\" alt=\"Open In Colab\"/></a>"
      ]
    },
    {
      "cell_type": "code",
      "metadata": {
        "colab": {
          "base_uri": "https://localhost:8080/"
        },
        "id": "UsmPgz0P8jA7",
        "outputId": "98e793b9-995d-4db0-c4ad-0ae82d1d86b2"
      },
      "source": [
        "T = int(input())\n",
        "answerarr = []\n",
        "for i in range(T):\n",
        "    n1, op, n2, eq, n3 = list(input().split(' '))\n",
        "    # print( n1, op, n2, eq, n3)\n",
        "    if op == '+':\n",
        "        num = int(n1) + int(n2)\n",
        "        if num == int(n3):\n",
        "            answerarr.append(\"correct\")\n",
        "        else:\n",
        "            answerarr.append(\"wrong answer\")\n",
        "    elif op == '-':\n",
        "        num = int(n1) - int(n2)\n",
        "        if num == int(n3):\n",
        "            answerarr.append(\"correct\")\n",
        "        else:\n",
        "            answerarr.append(\"wrong answer\")\n",
        "    elif op == '*':\n",
        "        num = int(n1) * int(n2)\n",
        "        if num == int(n3):\n",
        "            answerarr.append(\"correct\")\n",
        "        else:\n",
        "            answerarr.append(\"wrong answer\")\n",
        "    elif op == '/':\n",
        "        num = int(n1) / int(n2)\n",
        "        if num == int(n3):\n",
        "            answerarr.append(\"correct\")\n",
        "        else:\n",
        "            answerarr.append(\"wrong answer\")\n",
        "\n",
        "for j in answerarr:\n",
        "    print(j)\n"
      ],
      "execution_count": 8,
      "outputs": [
        {
          "output_type": "stream",
          "text": [
            "4\n",
            "3 * 2 = 6\n",
            "6\n",
            "11 + 11 = 11\n",
            "7 - 9 = -2\n",
            "3 * 0 = 0\n",
            "0\n",
            "correct\n",
            "wrong answer\n",
            "correct\n",
            "correct\n"
          ],
          "name": "stdout"
        }
      ]
    },
    {
      "cell_type": "code",
      "metadata": {
        "id": "HwXYw-HD86ZT"
      },
      "source": [
        ""
      ],
      "execution_count": null,
      "outputs": []
    }
  ]
}