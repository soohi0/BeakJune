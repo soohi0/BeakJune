{
  "nbformat": 4,
  "nbformat_minor": 0,
  "metadata": {
    "colab": {
      "name": "9625.ipynb",
      "provenance": [],
      "authorship_tag": "ABX9TyMYNKIlxFjTa2oLEfk5oVxm",
      "include_colab_link": true
    },
    "kernelspec": {
      "name": "python3",
      "display_name": "Python 3"
    },
    "language_info": {
      "name": "python"
    }
  },
  "cells": [
    {
      "cell_type": "markdown",
      "metadata": {
        "id": "view-in-github",
        "colab_type": "text"
      },
      "source": [
        "<a href=\"https://colab.research.google.com/github/soohi0/BeakJune/blob/master/9625.ipynb\" target=\"_parent\"><img src=\"https://colab.research.google.com/assets/colab-badge.svg\" alt=\"Open In Colab\"/></a>"
      ]
    },
    {
      "cell_type": "code",
      "metadata": {
        "colab": {
          "base_uri": "https://localhost:8080/"
        },
        "id": "656UBKPUZ237",
        "outputId": "013ddc54-de20-4fe0-bcda-7017561c8b71"
      },
      "source": [
        "#babba\n",
        "inputNum = int(input())\n",
        "\n",
        "balist = [[0,1], [1, 1], [1, 2]]\n",
        "for i in range(2, inputNum-1):\n",
        "    acnt = balist[i][0]\n",
        "    bcnt = balist[i][1]\n",
        "    balist.append([bcnt, bcnt + acnt])\n",
        "#for i in range(inputNum):\n",
        "print(balist[inputNum-1][0],balist[inputNum-1][1] )"
      ],
      "execution_count": 6,
      "outputs": [
        {
          "output_type": "stream",
          "text": [
            "10\n",
            "34 55\n"
          ],
          "name": "stdout"
        }
      ]
    },
    {
      "cell_type": "code",
      "metadata": {
        "id": "CsAlanlOb1eR"
      },
      "source": [
        "1"
      ],
      "execution_count": null,
      "outputs": []
    }
  ]
}