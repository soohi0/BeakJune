{
  "nbformat": 4,
  "nbformat_minor": 0,
  "metadata": {
    "colab": {
      "name": "7567.ipynb",
      "provenance": [],
      "authorship_tag": "ABX9TyMPyJsvx5htmdfjylyOcQWx",
      "include_colab_link": true
    },
    "kernelspec": {
      "name": "python3",
      "display_name": "Python 3"
    },
    "language_info": {
      "name": "python"
    }
  },
  "cells": [
    {
      "cell_type": "markdown",
      "metadata": {
        "id": "view-in-github",
        "colab_type": "text"
      },
      "source": [
        "<a href=\"https://colab.research.google.com/github/soohi0/BeakJune/blob/master/7567.ipynb\" target=\"_parent\"><img src=\"https://colab.research.google.com/assets/colab-badge.svg\" alt=\"Open In Colab\"/></a>"
      ]
    },
    {
      "cell_type": "code",
      "metadata": {
        "colab": {
          "base_uri": "https://localhost:8080/"
        },
        "id": "IIemO2oNe8mr",
        "outputId": "b1801251-bff7-46c4-ee0d-b97b6636c6d8"
      },
      "source": [
        "gerot = input()\n",
        "pre = ''\n",
        "pre = gerot[0]\n",
        "cnt = 10\n",
        "for _ in gerot[1:]:\n",
        "    if _ != pre:\n",
        "        cnt += 10\n",
        "    else:\n",
        "        cnt += 5\n",
        "    pre = _\n",
        "print(cnt)"
      ],
      "execution_count": 9,
      "outputs": [
        {
          "output_type": "stream",
          "name": "stdout",
          "text": [
            "()()()))(\n",
            "80\n"
          ]
        }
      ]
    },
    {
      "cell_type": "code",
      "metadata": {
        "id": "PcgqcDRzfTDG"
      },
      "source": [
        ""
      ],
      "execution_count": null,
      "outputs": []
    }
  ]
}