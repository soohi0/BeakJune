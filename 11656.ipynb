{
  "nbformat": 4,
  "nbformat_minor": 0,
  "metadata": {
    "colab": {
      "name": "11656.ipynb",
      "provenance": [],
      "authorship_tag": "ABX9TyO3iRa7cIbWwnMrVEHtOS07",
      "include_colab_link": true
    },
    "kernelspec": {
      "name": "python3",
      "display_name": "Python 3"
    },
    "language_info": {
      "name": "python"
    }
  },
  "cells": [
    {
      "cell_type": "markdown",
      "metadata": {
        "id": "view-in-github",
        "colab_type": "text"
      },
      "source": [
        "<a href=\"https://colab.research.google.com/github/soohi0/BeakJune/blob/master/11656.ipynb\" target=\"_parent\"><img src=\"https://colab.research.google.com/assets/colab-badge.svg\" alt=\"Open In Colab\"/></a>"
      ]
    },
    {
      "cell_type": "code",
      "metadata": {
        "colab": {
          "base_uri": "https://localhost:8080/"
        },
        "id": "0r4e670Qi3gZ",
        "outputId": "e3dbe986-5e96-47e3-a978-6d2f0e597ce2"
      },
      "source": [
        "string = input()\n",
        "tmp = \"\"\n",
        "arr = []\n",
        "for _ in range(len(string)-1, -1 , -1):\n",
        "    tmp = string[_] + tmp\n",
        "    arr.append(tmp)\n",
        "\n",
        "arr = sorted(arr)\n",
        "for __ in arr:\n",
        "    print(__)"
      ],
      "execution_count": 9,
      "outputs": [
        {
          "output_type": "stream",
          "name": "stdout",
          "text": [
            "baekjoon\n",
            "['aekjoon', 'baekjoon', 'ekjoon', 'joon', 'kjoon', 'n', 'on', 'oon']\n",
            "aekjoon\n",
            "baekjoon\n",
            "ekjoon\n",
            "joon\n",
            "kjoon\n",
            "n\n",
            "on\n",
            "oon\n"
          ]
        }
      ]
    },
    {
      "cell_type": "code",
      "metadata": {
        "id": "WzZdKfGjjEjm"
      },
      "source": [
        ""
      ],
      "execution_count": 8,
      "outputs": []
    }
  ]
}