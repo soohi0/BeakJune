{
  "nbformat": 4,
  "nbformat_minor": 0,
  "metadata": {
    "colab": {
      "name": "1356.ipynb",
      "provenance": [],
      "authorship_tag": "ABX9TyOyRqvKTeQkZ3q8+X9OVBpt",
      "include_colab_link": true
    },
    "kernelspec": {
      "name": "python3",
      "display_name": "Python 3"
    },
    "language_info": {
      "name": "python"
    }
  },
  "cells": [
    {
      "cell_type": "markdown",
      "metadata": {
        "id": "view-in-github",
        "colab_type": "text"
      },
      "source": [
        "<a href=\"https://colab.research.google.com/github/soohi0/BeakJune/blob/master/1356.ipynb\" target=\"_parent\"><img src=\"https://colab.research.google.com/assets/colab-badge.svg\" alt=\"Open In Colab\"/></a>"
      ]
    },
    {
      "cell_type": "code",
      "execution_count": 7,
      "metadata": {
        "colab": {
          "base_uri": "https://localhost:8080/"
        },
        "id": "EPigbZgmCvsA",
        "outputId": "8a60eee1-2a44-4073-b6d5-3e4e522bdec3"
      },
      "outputs": [
        {
          "output_type": "stream",
          "name": "stdout",
          "text": [
            "42393338\n",
            "YES\n"
          ]
        }
      ],
      "source": [
        "#유진수\n",
        "sss = input()\n",
        "check = False\n",
        "if len(sss) > 1:\n",
        "    for idx in range(1, len(sss)+1):\n",
        "        fs = sss[0:idx]\n",
        "        ss = sss[idx:]\n",
        "        fc = 1\n",
        "        sc = 1\n",
        "        for f in fs:\n",
        "            fc *= int(f)\n",
        "        for s in ss:\n",
        "            sc *= int(s)\n",
        "        if fc == sc:\n",
        "            check = True\n",
        "    \n",
        "if check:\n",
        "    print(\"YES\")\n",
        "else:\n",
        "    print(\"NO\")"
      ]
    },
    {
      "cell_type": "code",
      "source": [
        ""
      ],
      "metadata": {
        "id": "zx5PLH9fEIyg"
      },
      "execution_count": null,
      "outputs": []
    }
  ]
}