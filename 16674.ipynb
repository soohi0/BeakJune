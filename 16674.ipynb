{
  "nbformat": 4,
  "nbformat_minor": 0,
  "metadata": {
    "colab": {
      "name": "16674.ipynb",
      "provenance": [],
      "authorship_tag": "ABX9TyPGyNnt5kqNMBUbdD++8/Uy",
      "include_colab_link": true
    },
    "kernelspec": {
      "name": "python3",
      "display_name": "Python 3"
    },
    "language_info": {
      "name": "python"
    }
  },
  "cells": [
    {
      "cell_type": "markdown",
      "metadata": {
        "id": "view-in-github",
        "colab_type": "text"
      },
      "source": [
        "<a href=\"https://colab.research.google.com/github/soohi0/BeakJune/blob/master/16674.ipynb\" target=\"_parent\"><img src=\"https://colab.research.google.com/assets/colab-badge.svg\" alt=\"Open In Colab\"/></a>"
      ]
    },
    {
      "cell_type": "code",
      "metadata": {
        "colab": {
          "base_uri": "https://localhost:8080/"
        },
        "id": "qGz4vLk2VQVj",
        "outputId": "c7fe7c15-d817-413d-cb08-4cf9be6a38c4"
      },
      "source": [
        "number = input()\n",
        "cnt1 = 0\n",
        "cnt0 = 0\n",
        "cnt2 = 0\n",
        "cnt8 = 0\n",
        "elsenum = 0\n",
        "\n",
        "result = -1\n",
        "for num in number:\n",
        "    if num == '2':\n",
        "        cnt2 +=1\n",
        "    elif num == '0':\n",
        "        cnt0 += 1\n",
        "    elif num == '1':\n",
        "        cnt1 += 1\n",
        "    elif num == '8':\n",
        "        cnt8 += 1\n",
        "    else:\n",
        "        elsenum += 1\n",
        "\n",
        "if elsenum > 0:\n",
        "    result = 0\n",
        "else:\n",
        "    result = 1\n",
        "    if cnt1 >0 and cnt0 > 0 and cnt2 > 0 and cnt8 > 0:\n",
        "        result = 2\n",
        "        if cnt1 == cnt0 and cnt0 == cnt2 and cnt2 == cnt8 and cnt1 == cnt8 :\n",
        "            result = 8\n",
        "print(result)"
      ],
      "execution_count": null,
      "outputs": [
        {
          "output_type": "stream",
          "text": [
            "4\n",
            "0\n"
          ],
          "name": "stdout"
        }
      ]
    },
    {
      "cell_type": "code",
      "metadata": {
        "id": "fRVi74F-XlTr"
      },
      "source": [
        ""
      ],
      "execution_count": null,
      "outputs": []
    }
  ]
}