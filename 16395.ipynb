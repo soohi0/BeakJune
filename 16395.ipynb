{
  "nbformat": 4,
  "nbformat_minor": 0,
  "metadata": {
    "colab": {
      "name": "16395.ipynb",
      "provenance": [],
      "authorship_tag": "ABX9TyNnYMjJbetrXTk4aZ1Iuz63",
      "include_colab_link": true
    },
    "kernelspec": {
      "name": "python3",
      "display_name": "Python 3"
    },
    "language_info": {
      "name": "python"
    }
  },
  "cells": [
    {
      "cell_type": "markdown",
      "metadata": {
        "id": "view-in-github",
        "colab_type": "text"
      },
      "source": [
        "<a href=\"https://colab.research.google.com/github/soohi0/BeakJune/blob/master/16395.ipynb\" target=\"_parent\"><img src=\"https://colab.research.google.com/assets/colab-badge.svg\" alt=\"Open In Colab\"/></a>"
      ]
    },
    {
      "cell_type": "code",
      "metadata": {
        "colab": {
          "base_uri": "https://localhost:8080/"
        },
        "id": "EXKVFtrjRQxY",
        "outputId": "a6e64d9b-c68f-4013-9fcb-c6a9670b9f4f"
      },
      "source": [
        "N, M = map(int, list(input().split(' ')))\n",
        "outerlist = [[1]]\n",
        "for i in range(1, N):\n",
        "    innerlist = []\n",
        "    for j in range(i + 1):\n",
        "        if j == 0:\n",
        "            innerlist.append(1)\n",
        "        elif j == i and j != 0:\n",
        "            innerlist.append(1)\n",
        "        else:\n",
        "            innerlist.append(outerlist[i-1][j] + outerlist[i-1][j-1])\n",
        "    outerlist.append(innerlist)\n",
        "#print(outerlist)\n",
        "print(outerlist[N-1][M-1])\n",
        "    #innerlist.append()"
      ],
      "execution_count": 6,
      "outputs": [
        {
          "output_type": "stream",
          "text": [
            "11 3\n",
            "45\n"
          ],
          "name": "stdout"
        }
      ]
    },
    {
      "cell_type": "code",
      "metadata": {
        "id": "beV9dv4nRbRl"
      },
      "source": [
        ""
      ],
      "execution_count": null,
      "outputs": []
    }
  ]
}