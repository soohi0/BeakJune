{
  "nbformat": 4,
  "nbformat_minor": 0,
  "metadata": {
    "colab": {
      "name": "15829.ipynb",
      "provenance": [],
      "authorship_tag": "ABX9TyMBVTQPv3TEKa88CLSRkIPL",
      "include_colab_link": true
    },
    "kernelspec": {
      "name": "python3",
      "display_name": "Python 3"
    },
    "language_info": {
      "name": "python"
    }
  },
  "cells": [
    {
      "cell_type": "markdown",
      "metadata": {
        "id": "view-in-github",
        "colab_type": "text"
      },
      "source": [
        "<a href=\"https://colab.research.google.com/github/soohi0/BeakJune/blob/master/15829.ipynb\" target=\"_parent\"><img src=\"https://colab.research.google.com/assets/colab-badge.svg\" alt=\"Open In Colab\"/></a>"
      ]
    },
    {
      "cell_type": "code",
      "metadata": {
        "colab": {
          "base_uri": "https://localhost:8080/"
        },
        "id": "c9yPuJ1mAa7H",
        "outputId": "dbce9cb5-47a9-4024-bfb3-c2424dcca181"
      },
      "source": [
        "import math\n",
        "\n",
        "n = int(input())\n",
        "string = input()\n",
        "alphabets = {\n",
        "    'a' : 1,\n",
        "    'b' : 2,\n",
        "    'c' : 3,\n",
        "    'd' : 4,\n",
        "    'e' : 5,\n",
        "    'f' : 6,\n",
        "    'g' : 7,\n",
        "    'h' : 8,\n",
        "    'i' : 9,\n",
        "    'j' : 10,\n",
        "    'k' : 11,\n",
        "    'l' : 12,\n",
        "    'm' : 13,\n",
        "    'n' : 14,\n",
        "    'o' : 15,\n",
        "    'p' : 16,\n",
        "    'q' : 17,\n",
        "    'r' : 18,\n",
        "    's' : 19,\n",
        "    't' : 20,\n",
        "    'u' : 21,\n",
        "    'v' : 22,\n",
        "    'w' : 23,\n",
        "    'x' : 24,\n",
        "    'y' : 25,\n",
        "    'z' : 26,\n",
        "    ' ' : 0\n",
        "}\n",
        "cnt = 0\n",
        "for i, s in enumerate(string):\n",
        "    integer = alphabets[s]\n",
        "    cnt += integer * math.pow(31,(i + 1))\n",
        "print(cnt//31)"
      ],
      "execution_count": 3,
      "outputs": [
        {
          "output_type": "stream",
          "text": [
            "5\n",
            "abcde\n",
            "4739715.0\n"
          ],
          "name": "stdout"
        }
      ]
    },
    {
      "cell_type": "code",
      "metadata": {
        "id": "2iR9sWZfBSmK"
      },
      "source": [
        ""
      ],
      "execution_count": 2,
      "outputs": []
    }
  ]
}