{
  "nbformat": 4,
  "nbformat_minor": 0,
  "metadata": {
    "colab": {
      "name": "4948_S2.ipynb",
      "provenance": [],
      "collapsed_sections": [],
      "authorship_tag": "ABX9TyPnZbZ7VI87WDpGoydhQ6iD",
      "include_colab_link": true
    },
    "kernelspec": {
      "name": "python3",
      "display_name": "Python 3"
    },
    "language_info": {
      "name": "python"
    }
  },
  "cells": [
    {
      "cell_type": "markdown",
      "metadata": {
        "id": "view-in-github",
        "colab_type": "text"
      },
      "source": [
        "<a href=\"https://colab.research.google.com/github/soohi0/BeakJune/blob/master/4948_S2.ipynb\" target=\"_parent\"><img src=\"https://colab.research.google.com/assets/colab-badge.svg\" alt=\"Open In Colab\"/></a>"
      ]
    },
    {
      "cell_type": "code",
      "execution_count": null,
      "metadata": {
        "id": "m8rMrOP3nWAM"
      },
      "outputs": [],
      "source": [
        "def getPrimaryNum_Eratos(N):\n",
        "    nums = [True] * (N)\n",
        "    for i in range(2, int(N**0.5) + 1):\n",
        "        if nums[i] == True:\n",
        "            for j in range(i+i ,N, i):\n",
        "                nums[j] = False\n",
        "    return [i for i in range(2, N) if nums[i] == True]\n",
        "while True:\n",
        "    N = int(input())\n",
        "    if N == 0:\n",
        "        break\n",
        "    prime_list = getPrimaryNum_Eratos(2*N + 1)\n",
        "    answer_list = [num for num in prime_list if num > N]\n",
        "    print(len(answer_list))\n",
        "\n"
      ]
    }
  ]
}