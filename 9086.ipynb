{
  "nbformat": 4,
  "nbformat_minor": 0,
  "metadata": {
    "colab": {
      "name": "9086.ipynb",
      "provenance": [],
      "authorship_tag": "ABX9TyNtnw6gwC+yeMJadQ7bWqRu",
      "include_colab_link": true
    },
    "kernelspec": {
      "name": "python3",
      "display_name": "Python 3"
    },
    "language_info": {
      "name": "python"
    }
  },
  "cells": [
    {
      "cell_type": "markdown",
      "metadata": {
        "id": "view-in-github",
        "colab_type": "text"
      },
      "source": [
        "<a href=\"https://colab.research.google.com/github/soohi0/BeakJune/blob/master/9086.ipynb\" target=\"_parent\"><img src=\"https://colab.research.google.com/assets/colab-badge.svg\" alt=\"Open In Colab\"/></a>"
      ]
    },
    {
      "cell_type": "code",
      "metadata": {
        "colab": {
          "base_uri": "https://localhost:8080/"
        },
        "id": "_MCTqTRP5W2G",
        "outputId": "9925d6e5-daf9-4fee-c61f-b1acce53dae3"
      },
      "source": [
        "num = int(input())\n",
        "slist = list()\n",
        "for i in range(num):\n",
        "    string = input()\n",
        "    ss = \"\"\n",
        "    ss += string[0]\n",
        "    ss += string[-1]\n",
        "    slist.append(ss)\n",
        "for s in slist:\n",
        "    print(s)"
      ],
      "execution_count": null,
      "outputs": [
        {
          "output_type": "stream",
          "text": [
            "3\n",
            "ACDKJFOWIEGHE\n",
            "o\n",
            "AB\n",
            "AE\n",
            "oo\n",
            "AB\n"
          ],
          "name": "stdout"
        }
      ]
    },
    {
      "cell_type": "code",
      "metadata": {
        "id": "J6N_Qv8O5vtm"
      },
      "source": [
        "3\n",
        "ACDKJFOWIEGHE\n",
        "O\n",
        "AB"
      ],
      "execution_count": null,
      "outputs": []
    }
  ]
}