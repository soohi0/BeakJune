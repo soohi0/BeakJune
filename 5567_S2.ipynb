{
  "nbformat": 4,
  "nbformat_minor": 0,
  "metadata": {
    "colab": {
      "name": "5567_S2.ipynb",
      "provenance": [],
      "collapsed_sections": [],
      "authorship_tag": "ABX9TyPeXP9vwOZOOyXTP784XGKv",
      "include_colab_link": true
    },
    "kernelspec": {
      "name": "python3",
      "display_name": "Python 3"
    },
    "language_info": {
      "name": "python"
    }
  },
  "cells": [
    {
      "cell_type": "markdown",
      "metadata": {
        "id": "view-in-github",
        "colab_type": "text"
      },
      "source": [
        "<a href=\"https://colab.research.google.com/github/soohi0/BeakJune/blob/master/5567_S2.ipynb\" target=\"_parent\"><img src=\"https://colab.research.google.com/assets/colab-badge.svg\" alt=\"Open In Colab\"/></a>"
      ]
    },
    {
      "cell_type": "code",
      "execution_count": 13,
      "metadata": {
        "id": "zt6z9Sr73N3P",
        "colab": {
          "base_uri": "https://localhost:8080/"
        },
        "outputId": "c2dfc573-c0e3-4316-8a53-bbee7e23102a"
      },
      "outputs": [
        {
          "output_type": "stream",
          "name": "stdout",
          "text": [
            "6\n",
            "5\n",
            "4 5\n",
            "2 3\n",
            "3 4\n",
            "1 3\n",
            "1 2\n",
            "[(1, 2), (1, 3), (2, 3), (3, 4), (4, 5)]\n",
            "{2: 1, 3: 1, 4: 2, 5: 3}\n",
            "2\n"
          ]
        }
      ],
      "source": [
        "friend = int(input())\n",
        "num = int(input())\n",
        "\n",
        "distance = {}\n",
        "arr = []\n",
        "\n",
        "for _ in range(num):\n",
        "    a, b = map(int, input().split(' '))\n",
        "    arr.append((a, b))\n",
        "arr = sorted(arr)\n",
        "print(arr)\n",
        "\n",
        "for ar in arr:\n",
        "    if ar[0] == 1:\n",
        "        distance[ar[1]] = 1\n",
        "    if ar[0] in distance and ar[1] not in distance:\n",
        "        distance[ar[1]] = distance[ar[0]] + 1\n",
        "\n",
        "print(distance)\n",
        "cnt = 0\n",
        "for key, value in distance.items():\n",
        "    if value == 1:\n",
        "        cnt += 1\n",
        "    elif value == 2:\n",
        "        cnt += 1\n",
        "print(cnt)\n"
      ]
    },
    {
      "cell_type": "code",
      "source": [
        "56\n",
        "5\n",
        "2 3\n",
        "3 4\n",
        "4 5\n",
        "5 6\n",
        "2 5\n",
        "\n",
        "6\n",
        "5\n",
        "1 2\n",
        "1 3\n",
        "3 4\n",
        "2 3\n",
        "4 5"
      ],
      "metadata": {
        "id": "xNDG2c1ryq2b"
      },
      "execution_count": null,
      "outputs": []
    }
  ]
}