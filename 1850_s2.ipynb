{
  "nbformat": 4,
  "nbformat_minor": 0,
  "metadata": {
    "colab": {
      "name": "1850_s2.ipynb",
      "provenance": [],
      "authorship_tag": "ABX9TyObvtwk7ng2/7gc1xWNGX4j",
      "include_colab_link": true
    },
    "kernelspec": {
      "name": "python3",
      "display_name": "Python 3"
    },
    "language_info": {
      "name": "python"
    }
  },
  "cells": [
    {
      "cell_type": "markdown",
      "metadata": {
        "id": "view-in-github",
        "colab_type": "text"
      },
      "source": [
        "<a href=\"https://colab.research.google.com/github/soohi0/BeakJune/blob/master/1850_s2.ipynb\" target=\"_parent\"><img src=\"https://colab.research.google.com/assets/colab-badge.svg\" alt=\"Open In Colab\"/></a>"
      ]
    },
    {
      "cell_type": "code",
      "metadata": {
        "colab": {
          "base_uri": "https://localhost:8080/"
        },
        "id": "7466mJg-bSZe",
        "outputId": "ef6de1b2-c5c4-4538-f4ab-450d9abb0c06"
      },
      "source": [
        "n, m = map(int, input().split(' '))\n",
        "print(n, m)\n",
        "s1 = ''\n",
        "s2 = ''\n",
        "for _ in range(n):\n",
        "    s1 += '1'\n",
        "for _ in range(m):\n",
        "    s2 += '1'\n",
        "print(s1, s2)\n",
        "\n",
        "def gcd(a, b):\n",
        "    if a < b:\n",
        "        tmp = a\n",
        "        a = b\n",
        "        b = tmp\n",
        "    while b != 0:\n",
        "        n = a % b\n",
        "        a = b\n",
        "        b = n\n",
        "    return a\n",
        "\n",
        "print(gcd(int(s1), int(s2)))"
      ],
      "execution_count": 9,
      "outputs": [
        {
          "output_type": "stream",
          "name": "stdout",
          "text": [
            "3 4\n",
            "3 4\n",
            "111 1111\n",
            "1\n"
          ]
        }
      ]
    },
    {
      "cell_type": "code",
      "metadata": {
        "id": "MS57XL5kbgJp"
      },
      "source": [
        ""
      ],
      "execution_count": null,
      "outputs": []
    }
  ]
}