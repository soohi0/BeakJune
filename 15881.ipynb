{
  "nbformat": 4,
  "nbformat_minor": 0,
  "metadata": {
    "colab": {
      "name": "15881.ipynb",
      "provenance": [],
      "authorship_tag": "ABX9TyNmCeiZT3r8KEE5n/mxIqtT",
      "include_colab_link": true
    },
    "kernelspec": {
      "name": "python3",
      "display_name": "Python 3"
    },
    "language_info": {
      "name": "python"
    }
  },
  "cells": [
    {
      "cell_type": "markdown",
      "metadata": {
        "id": "view-in-github",
        "colab_type": "text"
      },
      "source": [
        "<a href=\"https://colab.research.google.com/github/soohi0/BeakJune/blob/master/15881.ipynb\" target=\"_parent\"><img src=\"https://colab.research.google.com/assets/colab-badge.svg\" alt=\"Open In Colab\"/></a>"
      ]
    },
    {
      "cell_type": "code",
      "metadata": {
        "colab": {
          "base_uri": "https://localhost:8080/"
        },
        "id": "uZEtShbtHbLd",
        "outputId": "846b86d4-6ad4-4cf1-f91b-fd40bd889116"
      },
      "source": [
        "inputNum = int(input())\n",
        "inputstr = input()\n",
        "cnt_ppap = 0\n",
        "cnt = 0\n",
        "for s in inputstr:\n",
        "    if s == 'p':\n",
        "        if cnt <= len(inputstr) - 4 and inputstr[cnt+1] == 'P' and inputstr[cnt+2] == 'A' and inputstr[cnt+3] == 'p':\n",
        "            cnt_ppap += 1\n",
        "            cnt += 3\n",
        "    print(cnt)\n",
        "    cnt += 1\n",
        "\n",
        "print(cnt_ppap)"
      ],
      "execution_count": 8,
      "outputs": [
        {
          "output_type": "stream",
          "text": [
            "7\n",
            "pPApPAp\n",
            "3\n",
            "4\n",
            "5\n",
            "6\n",
            "7\n",
            "8\n",
            "9\n",
            "1\n"
          ],
          "name": "stdout"
        }
      ]
    },
    {
      "cell_type": "code",
      "metadata": {
        "id": "VTQUo3NYIcUM"
      },
      "source": [
        ""
      ],
      "execution_count": null,
      "outputs": []
    }
  ]
}