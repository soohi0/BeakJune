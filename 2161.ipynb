{
  "nbformat": 4,
  "nbformat_minor": 0,
  "metadata": {
    "colab": {
      "name": "2161.ipynb",
      "provenance": [],
      "authorship_tag": "ABX9TyMzLBwytM1tU+HN0XouNRHj",
      "include_colab_link": true
    },
    "kernelspec": {
      "name": "python3",
      "display_name": "Python 3"
    },
    "language_info": {
      "name": "python"
    }
  },
  "cells": [
    {
      "cell_type": "markdown",
      "metadata": {
        "id": "view-in-github",
        "colab_type": "text"
      },
      "source": [
        "<a href=\"https://colab.research.google.com/github/soohi0/BeakJune/blob/master/2161.ipynb\" target=\"_parent\"><img src=\"https://colab.research.google.com/assets/colab-badge.svg\" alt=\"Open In Colab\"/></a>"
      ]
    },
    {
      "cell_type": "code",
      "metadata": {
        "colab": {
          "base_uri": "https://localhost:8080/"
        },
        "id": "JEIWPQoCsNrV",
        "outputId": "611b79e8-cb52-492b-a7f6-4d4affcb47dd"
      },
      "source": [
        "i_num = int(input())\n",
        "num_list = [(i+1) for i in range(i_num)]\n",
        "result_list = []\n",
        "#print(num_list)\n",
        "while len(num_list)> 0:\n",
        "    n = num_list.pop(0)\n",
        "    result_list.append(n)\n",
        "    #print(n)\n",
        "    if len(num_list) is not 0:\n",
        "        n = num_list.pop(0)\n",
        "        num_list.append(n)\n",
        "#print(result_list)\n",
        "for a in result_list:\n",
        "    print(a)"
      ],
      "execution_count": 10,
      "outputs": [
        {
          "output_type": "stream",
          "text": [
            "7\n",
            "1\n",
            "3\n",
            "5\n",
            "7\n",
            "4\n",
            "2\n",
            "6\n"
          ],
          "name": "stdout"
        }
      ]
    },
    {
      "cell_type": "code",
      "metadata": {
        "id": "4qHPNP7tuLTD"
      },
      "source": [
        ""
      ],
      "execution_count": null,
      "outputs": []
    }
  ]
}