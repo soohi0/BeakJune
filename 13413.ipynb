{
  "nbformat": 4,
  "nbformat_minor": 0,
  "metadata": {
    "colab": {
      "name": "13413.ipynb",
      "provenance": [],
      "authorship_tag": "ABX9TyP9R6ghsK0ImzwaNxqTyGGB",
      "include_colab_link": true
    },
    "kernelspec": {
      "name": "python3",
      "display_name": "Python 3"
    },
    "language_info": {
      "name": "python"
    }
  },
  "cells": [
    {
      "cell_type": "markdown",
      "metadata": {
        "id": "view-in-github",
        "colab_type": "text"
      },
      "source": [
        "<a href=\"https://colab.research.google.com/github/soohi0/BeakJune/blob/master/13413.ipynb\" target=\"_parent\"><img src=\"https://colab.research.google.com/assets/colab-badge.svg\" alt=\"Open In Colab\"/></a>"
      ]
    },
    {
      "cell_type": "code",
      "execution_count": null,
      "metadata": {
        "id": "38owDZKc10C9"
      },
      "outputs": [],
      "source": [
        "import sys\n",
        "\n",
        "read = sys.stdin.readline\n",
        "\n",
        "T = int(read().rstrip())\n",
        "\n",
        "answers = []\n",
        "result = 0\n",
        "arr = []\n",
        "\n",
        "for _ in range(T):\n",
        "    N = int(read().rstrip())\n",
        "    start = list(read().rstrip())\n",
        "    goal = list(read().rstrip())\n",
        "\n",
        "    for i in range(N):\n",
        "        if start[i] != goal[i]:\n",
        "            arr.append(start[i])\n",
        "\n",
        "    if arr.count(\"B\") >= arr.count(\"W\"):\n",
        "        result = arr.count(\"B\")\n",
        "    else:\n",
        "        result = arr.count(\"W\")\n",
        "    answers.append(result)\n",
        "    arr = []\n",
        "\n",
        "for answer in answers:\n",
        "    print(answer)"
      ]
    }
  ]
}