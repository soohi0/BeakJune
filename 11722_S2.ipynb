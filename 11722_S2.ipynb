{
  "nbformat": 4,
  "nbformat_minor": 0,
  "metadata": {
    "colab": {
      "name": "11722_S2.ipynb",
      "provenance": [],
      "authorship_tag": "ABX9TyNuE7nDJBrhUELi2h7Cbtb3",
      "include_colab_link": true
    },
    "kernelspec": {
      "name": "python3",
      "display_name": "Python 3"
    },
    "language_info": {
      "name": "python"
    }
  },
  "cells": [
    {
      "cell_type": "markdown",
      "metadata": {
        "id": "view-in-github",
        "colab_type": "text"
      },
      "source": [
        "<a href=\"https://colab.research.google.com/github/soohi0/BeakJune/blob/master/11722_S2.ipynb\" target=\"_parent\"><img src=\"https://colab.research.google.com/assets/colab-badge.svg\" alt=\"Open In Colab\"/></a>"
      ]
    },
    {
      "cell_type": "code",
      "execution_count": 4,
      "metadata": {
        "colab": {
          "base_uri": "https://localhost:8080/"
        },
        "id": "hH4cH2J8mHeI",
        "outputId": "8f298c5d-5a9f-4c02-d0b3-42e645ded7e5"
      },
      "outputs": [
        {
          "output_type": "stream",
          "name": "stdout",
          "text": [
            "6\n",
            "10 30 10 20 20 10\n",
            "5\n",
            "4\n",
            "3\n",
            "2\n",
            "1\n",
            "0\n"
          ]
        }
      ],
      "source": [
        "N = int(input())\n",
        "numbers = list(map(int, input().split()))\n",
        "\n",
        "dp = [1] * N\n",
        "\n",
        "for i in range(1, N):\n",
        "    for j in range(i):\n",
        "        if numbers[j] > numbers[i]:\n",
        "            dp[i] = max(dp[i], dp[j] + 1)\n",
        "\n",
        "print(max(dp))"
      ]
    },
    {
      "cell_type": "code",
      "source": [
        ""
      ],
      "metadata": {
        "id": "G_LY36JDmTOG"
      },
      "execution_count": null,
      "outputs": []
    }
  ]
}