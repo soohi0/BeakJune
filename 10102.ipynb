{
  "nbformat": 4,
  "nbformat_minor": 0,
  "metadata": {
    "colab": {
      "name": "10102.ipynb",
      "provenance": [],
      "authorship_tag": "ABX9TyMtIJtlCpz8e4bvzP8bBS/T",
      "include_colab_link": true
    },
    "kernelspec": {
      "name": "python3",
      "display_name": "Python 3"
    },
    "language_info": {
      "name": "python"
    }
  },
  "cells": [
    {
      "cell_type": "markdown",
      "metadata": {
        "id": "view-in-github",
        "colab_type": "text"
      },
      "source": [
        "<a href=\"https://colab.research.google.com/github/soohi0/BeakJune/blob/master/10102.ipynb\" target=\"_parent\"><img src=\"https://colab.research.google.com/assets/colab-badge.svg\" alt=\"Open In Colab\"/></a>"
      ]
    },
    {
      "cell_type": "code",
      "metadata": {
        "colab": {
          "base_uri": "https://localhost:8080/"
        },
        "id": "WAE2C6KNUlLR",
        "outputId": "fe9c454b-1046-44c5-ac82-e05c0be03840"
      },
      "source": [
        "inputNum = int(input())\n",
        "string = input()\n",
        "Acnt = 0\n",
        "Bcnt = 0\n",
        "for s in string:\n",
        "    if s == 'A':\n",
        "        Acnt += 1\n",
        "    elif s == 'B':\n",
        "        Bcnt += 1\n",
        "if Acnt > Bcnt :\n",
        "    print('A')\n",
        "elif Acnt < Bcnt:\n",
        "    print('B')\n",
        "else:\n",
        "    print(\"Tie\")"
      ],
      "execution_count": 5,
      "outputs": [
        {
          "output_type": "stream",
          "text": [
            "6\n",
            "ABBABB\n",
            "B\n"
          ],
          "name": "stdout"
        }
      ]
    },
    {
      "cell_type": "code",
      "metadata": {
        "id": "YP1bqbCcUyYK"
      },
      "source": [
        ""
      ],
      "execution_count": null,
      "outputs": []
    }
  ]
}