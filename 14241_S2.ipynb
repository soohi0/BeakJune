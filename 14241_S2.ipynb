{
  "nbformat": 4,
  "nbformat_minor": 0,
  "metadata": {
    "colab": {
      "name": "14241_S2.ipynb",
      "provenance": [],
      "collapsed_sections": [],
      "authorship_tag": "ABX9TyMW7KhNyTudTxmXLhSQKet9",
      "include_colab_link": true
    },
    "kernelspec": {
      "name": "python3",
      "display_name": "Python 3"
    },
    "language_info": {
      "name": "python"
    }
  },
  "cells": [
    {
      "cell_type": "markdown",
      "metadata": {
        "id": "view-in-github",
        "colab_type": "text"
      },
      "source": [
        "<a href=\"https://colab.research.google.com/github/soohi0/BeakJune/blob/master/14241_S2.ipynb\" target=\"_parent\"><img src=\"https://colab.research.google.com/assets/colab-badge.svg\" alt=\"Open In Colab\"/></a>"
      ]
    },
    {
      "cell_type": "code",
      "execution_count": null,
      "metadata": {
        "id": "7u8IZCAWs5E8"
      },
      "outputs": [],
      "source": [
        "N = int(input())\n",
        "a = list(map(int, input().split()))\n",
        "a.sort(reverse=True)\n",
        "sum = 0\n",
        "score = 0\n",
        "total = 0\n",
        "\n",
        "for i in range(0, N-1):\n",
        "    score = a[i] * a[i+1]\n",
        "    a[i+1] = a[i] + a[i+1]\n",
        "    total = total + score\n",
        "    \n",
        "print(total)\n"
      ]
    }
  ]
}