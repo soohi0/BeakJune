{
  "nbformat": 4,
  "nbformat_minor": 0,
  "metadata": {
    "colab": {
      "name": "11944.ipynb",
      "provenance": [],
      "collapsed_sections": [],
      "authorship_tag": "ABX9TyNqlYQljxb69px7IdgAoumP",
      "include_colab_link": true
    },
    "kernelspec": {
      "name": "python3",
      "display_name": "Python 3"
    },
    "language_info": {
      "name": "python"
    }
  },
  "cells": [
    {
      "cell_type": "markdown",
      "metadata": {
        "id": "view-in-github",
        "colab_type": "text"
      },
      "source": [
        "<a href=\"https://colab.research.google.com/github/soohi0/BeakJune/blob/master/11944.ipynb\" target=\"_parent\"><img src=\"https://colab.research.google.com/assets/colab-badge.svg\" alt=\"Open In Colab\"/></a>"
      ]
    },
    {
      "cell_type": "code",
      "metadata": {
        "id": "cql0lAM40_Dm",
        "colab": {
          "base_uri": "https://localhost:8080/"
        },
        "outputId": "65f3a77d-9717-469f-e249-d1f5b03b6db9"
      },
      "source": [
        "N, M = map(int, list(input().split(' ')))\n",
        "#print(N, M)\n",
        "s = \"\"\n",
        "for _ in range(N):\n",
        "    s += str(N)\n",
        "if len(s) > M:\n",
        "    print(s[0: M])\n",
        "else:\n",
        "    print(s)"
      ],
      "execution_count": 2,
      "outputs": [
        {
          "output_type": "stream",
          "text": [
            "20 16\n",
            "2020202020202020\n"
          ],
          "name": "stdout"
        }
      ]
    },
    {
      "cell_type": "code",
      "metadata": {
        "id": "9VjCdXXd1Hm2"
      },
      "source": [
        ""
      ],
      "execution_count": null,
      "outputs": []
    }
  ]
}