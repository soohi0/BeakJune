{
  "nbformat": 4,
  "nbformat_minor": 0,
  "metadata": {
    "colab": {
      "name": "1535_s2.ipynb",
      "provenance": [],
      "authorship_tag": "ABX9TyPElQCCmelUFdVMHIgvI1w4",
      "include_colab_link": true
    },
    "kernelspec": {
      "name": "python3",
      "display_name": "Python 3"
    },
    "language_info": {
      "name": "python"
    }
  },
  "cells": [
    {
      "cell_type": "markdown",
      "metadata": {
        "id": "view-in-github",
        "colab_type": "text"
      },
      "source": [
        "<a href=\"https://colab.research.google.com/github/soohi0/BeakJune/blob/master/1535_s2.ipynb\" target=\"_parent\"><img src=\"https://colab.research.google.com/assets/colab-badge.svg\" alt=\"Open In Colab\"/></a>"
      ]
    },
    {
      "cell_type": "code",
      "metadata": {
        "colab": {
          "base_uri": "https://localhost:8080/"
        },
        "id": "9vHDfmJbfKop",
        "outputId": "0991435b-23b7-4cc4-e6ca-a6cc965a0324"
      },
      "source": [
        "N = int(input())\n",
        "L = [int(x) for x in input().split()]\n",
        "J = [int(x) for x in input().split()]\n",
        "L, J = [0] + L, [0] + J\n",
        "dp = [[0 for _ in range(101)]\n",
        "for _ in range(N+1)]\n",
        "for i in range(1, N+1):\n",
        "    for j in range(1, 101):\n",
        "        if L[i] <= j:\n",
        "            dp[i][j] = max(dp[i-1][j], dp[i-1][j-L[i]] + J[i])\n",
        "        else:\n",
        "            dp[i][j] = dp[i-1][j]\n",
        "print(dp[N][99])\n"
      ],
      "execution_count": 3,
      "outputs": [
        {
          "output_type": "stream",
          "name": "stdout",
          "text": [
            "3\n",
            "1 21 79\n",
            "20 30 25\n",
            "50\n"
          ]
        }
      ]
    },
    {
      "cell_type": "code",
      "metadata": {
        "id": "roPPhNGffpHu"
      },
      "source": [
        ""
      ],
      "execution_count": null,
      "outputs": []
    }
  ]
}