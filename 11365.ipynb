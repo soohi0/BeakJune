{
  "nbformat": 4,
  "nbformat_minor": 0,
  "metadata": {
    "colab": {
      "name": "11365.ipynb",
      "provenance": [],
      "authorship_tag": "ABX9TyO+/Z4dqlObBJYX9TPAnzIS",
      "include_colab_link": true
    },
    "kernelspec": {
      "name": "python3",
      "display_name": "Python 3"
    },
    "language_info": {
      "name": "python"
    }
  },
  "cells": [
    {
      "cell_type": "markdown",
      "metadata": {
        "id": "view-in-github",
        "colab_type": "text"
      },
      "source": [
        "<a href=\"https://colab.research.google.com/github/soohi0/BeakJune/blob/master/11365.ipynb\" target=\"_parent\"><img src=\"https://colab.research.google.com/assets/colab-badge.svg\" alt=\"Open In Colab\"/></a>"
      ]
    },
    {
      "cell_type": "code",
      "metadata": {
        "colab": {
          "base_uri": "https://localhost:8080/"
        },
        "id": "sl42YW7Q9dFO",
        "outputId": "7dbbd061-0615-4337-a460-255e146e51d5"
      },
      "source": [
        "stringlist =[]\n",
        "string = \"\"\n",
        "while string != \"DNE\":\n",
        "    string = input()\n",
        "    string = string[::-1]\n",
        "    stringlist.append(string)\n",
        "\n",
        "stringlist = stringlist[:-1]\n",
        "for i in stringlist:\n",
        "    print(i)"
      ],
      "execution_count": null,
      "outputs": [
        {
          "output_type": "stream",
          "text": [
            "!edoc doog a tahW\n",
            "noitacitsufbo\n",
            "erafraw enirambus detcirtsernu yraurbeF fo tsrif eht no nigeb ot dnetni eW\n",
            "lla sees rodroM fo drol eht ,ssertrof sih nihtiw delaecnoC\n",
            "END\n",
            "What a good code!\n",
            "obfustication\n",
            "We intend to begin on the first of February unrestricted submarine warfare\n",
            "Concealed within his fortress, the lord of Mordor sees all\n"
          ],
          "name": "stdout"
        }
      ]
    },
    {
      "cell_type": "code",
      "metadata": {
        "id": "bOO64EDa-nuv"
      },
      "source": [
        ""
      ],
      "execution_count": null,
      "outputs": []
    }
  ]
}