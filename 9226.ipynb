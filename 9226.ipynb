{
  "nbformat": 4,
  "nbformat_minor": 0,
  "metadata": {
    "colab": {
      "name": "9226.ipynb",
      "provenance": [],
      "collapsed_sections": [],
      "authorship_tag": "ABX9TyMnKeKNjDUF6D+KdW3Fu+m8",
      "include_colab_link": true
    },
    "kernelspec": {
      "name": "python3",
      "display_name": "Python 3"
    },
    "language_info": {
      "name": "python"
    }
  },
  "cells": [
    {
      "cell_type": "markdown",
      "metadata": {
        "id": "view-in-github",
        "colab_type": "text"
      },
      "source": [
        "<a href=\"https://colab.research.google.com/github/soohi0/BeakJune/blob/master/9226.ipynb\" target=\"_parent\"><img src=\"https://colab.research.google.com/assets/colab-badge.svg\" alt=\"Open In Colab\"/></a>"
      ]
    },
    {
      "cell_type": "code",
      "metadata": {
        "colab": {
          "base_uri": "https://localhost:8080/"
        },
        "id": "Zeru0YSZ6jDj",
        "outputId": "7c6021df-5684-4abb-bb87-ad0a2c247a55"
      },
      "source": [
        "string = input()\n",
        "slist = list()\n",
        "\n",
        "moem = {'a', 'e', 'i', 'o', 'u'}\n",
        "while string != \"#\":\n",
        "    isin = False\n",
        "    newstr = \"\"\n",
        "    for i, s in enumerate(string):\n",
        "        if s in moem:\n",
        "            newstr += string[0:i]\n",
        "            string = string[i:-1]\n",
        "            string = string + newstr + 'ay'\n",
        "            isin = True\n",
        "            slist.append(string)\n",
        "    if string[0] in moem:\n",
        "        slist.append(string + 'ay')\n",
        "    elif isin == False:\n",
        "        slist.append(string + 'ay')\n",
        "\n",
        "\n",
        "    string = input()\n",
        "for sss in slist:\n",
        "    print(sss)\n"
      ],
      "execution_count": null,
      "outputs": [
        {
          "output_type": "stream",
          "text": [
            "frog\n",
            "apple\n",
            "pear\n",
            "#\n",
            "ofray\n",
            "ofrayay\n",
            "applay\n",
            "aapplay\n",
            "aapplayay\n",
            "eapay\n",
            "papeaay\n"
          ],
          "name": "stdout"
        }
      ]
    },
    {
      "cell_type": "code",
      "metadata": {
        "id": "xIQ1FEQZ9Knu"
      },
      "source": [
        ""
      ],
      "execution_count": null,
      "outputs": []
    }
  ]
}