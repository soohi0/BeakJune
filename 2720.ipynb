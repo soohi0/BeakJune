{
  "nbformat": 4,
  "nbformat_minor": 0,
  "metadata": {
    "colab": {
      "name": "2720.ipynb",
      "provenance": [],
      "authorship_tag": "ABX9TyPruJyzkOfSDXOz72JQNWe0",
      "include_colab_link": true
    },
    "kernelspec": {
      "name": "python3",
      "display_name": "Python 3"
    },
    "language_info": {
      "name": "python"
    }
  },
  "cells": [
    {
      "cell_type": "markdown",
      "metadata": {
        "id": "view-in-github",
        "colab_type": "text"
      },
      "source": [
        "<a href=\"https://colab.research.google.com/github/soohi0/BeakJune/blob/master/2720.ipynb\" target=\"_parent\"><img src=\"https://colab.research.google.com/assets/colab-badge.svg\" alt=\"Open In Colab\"/></a>"
      ]
    },
    {
      "cell_type": "code",
      "metadata": {
        "colab": {
          "base_uri": "https://localhost:8080/"
        },
        "id": "4C1oIdAIRvRU",
        "outputId": "c6842300-b9c5-4bf0-b0e3-037075b7a220"
      },
      "source": [
        "T = int(input())\n",
        "numlist = []\n",
        "cent = [0.25, 0.10, 0.05, 0.01]\n",
        "centnum  = []\n",
        "for i in range(T):\n",
        "    numlist.append(int(input())/100)\n",
        "for i in range(T):\n",
        "    num = numlist[i]\n",
        "    cntlist = []\n",
        "    for c in cent:\n",
        "        #print(num)\n",
        "        if num // c == 0:\n",
        "            cntlist.append(0)\n",
        "        else:\n",
        "            cntlist.append(int(num//c))\n",
        "            m = int(num//c)\n",
        "            num = num - m * c\n",
        "            num += 0.000001\n",
        "    centnum.append(cntlist)\n",
        "#print(centnum)\n",
        "for i in range(len(centnum)):\n",
        "    string = ''\n",
        "    for j in range(4):\n",
        "        string+= str(centnum[i][j])\n",
        "        string+= ' '\n",
        "    print(string)\n",
        "    print('\\n')"
      ],
      "execution_count": 1,
      "outputs": [
        {
          "output_type": "stream",
          "text": [
            "3\n",
            "124\n",
            "25\n",
            "194\n",
            "4 2 0 4 \n",
            "\n",
            "\n",
            "1 0 0 0 \n",
            "\n",
            "\n",
            "7 1 1 4 \n",
            "\n",
            "\n"
          ],
          "name": "stdout"
        }
      ]
    },
    {
      "cell_type": "code",
      "metadata": {
        "id": "opVYmMjBSabW"
      },
      "source": [
        "''"
      ],
      "execution_count": null,
      "outputs": []
    }
  ]
}