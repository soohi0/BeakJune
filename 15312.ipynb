{
  "nbformat": 4,
  "nbformat_minor": 0,
  "metadata": {
    "colab": {
      "name": "15312.ipynb",
      "provenance": [],
      "authorship_tag": "ABX9TyNTc5FV5OsRfa149I9bk70B",
      "include_colab_link": true
    },
    "kernelspec": {
      "name": "python3",
      "display_name": "Python 3"
    },
    "language_info": {
      "name": "python"
    }
  },
  "cells": [
    {
      "cell_type": "markdown",
      "metadata": {
        "id": "view-in-github",
        "colab_type": "text"
      },
      "source": [
        "<a href=\"https://colab.research.google.com/github/soohi0/BeakJune/blob/master/15312.ipynb\" target=\"_parent\"><img src=\"https://colab.research.google.com/assets/colab-badge.svg\" alt=\"Open In Colab\"/></a>"
      ]
    },
    {
      "cell_type": "code",
      "metadata": {
        "colab": {
          "base_uri": "https://localhost:8080/"
        },
        "id": "-5aPgW0dKFvk",
        "outputId": "340a1f8b-0088-4bad-da69-a412e151a947"
      },
      "source": [
        "alphabet = {\n",
        "    'A': 3,\n",
        "    'B': 2,\n",
        "    'C': 1,\n",
        "    'D': 2,\n",
        "    'E': 3,\n",
        "    'F': 3,\n",
        "    'G': 2,\n",
        "    'H': 3,\n",
        "    'I': 3,\n",
        "    'J': 2,\n",
        "    'K': 2,\n",
        "    'L': 1,\n",
        "    'M': 2,\n",
        "    'N': 2,\n",
        "    'O': 1,\n",
        "    'P': 2,\n",
        "    'Q': 2,\n",
        "    'R': 2,\n",
        "    'S': 1,\n",
        "    'T': 2,\n",
        "    'U': 1,\n",
        "    'V': 1,\n",
        "    'W': 1,\n",
        "    'X': 2,\n",
        "    'Y': 2,\n",
        "    'Z': 1\n",
        "}\n",
        "s1 = input()\n",
        "s2 = input()\n",
        "lenarr = []\n",
        "for i in range(len(s1)):\n",
        "    lenarr.append(alphabet[s1[i]])\n",
        "    lenarr.append(alphabet[s2[i]])\n",
        "print(lenarr)\n",
        "while len(lenarr) > 2:\n",
        "    newarr = []\n",
        "    for j in range(0, len(lenarr)-1):\n",
        "        num = lenarr[j] + lenarr[j+1]\n",
        "        if num >= 10:\n",
        "            num = num % 10\n",
        "        newarr.append(num)\n",
        "    print(newarr)\n",
        "    lenarr = newarr\n",
        "# print(lenarr)\n",
        "print(str(lenarr[0]) + str(lenarr[1]))"
      ],
      "execution_count": 14,
      "outputs": [
        {
          "output_type": "stream",
          "text": [
            "CJM\n",
            "HER\n",
            "[1, 3, 2, 3, 2, 2]\n",
            "[4, 5, 5, 5, 4]\n",
            "[9, 0, 0, 9]\n",
            "[9, 0, 9]\n",
            "[9, 9]\n",
            "99\n"
          ],
          "name": "stdout"
        }
      ]
    },
    {
      "cell_type": "code",
      "metadata": {
        "colab": {
          "base_uri": "https://localhost:8080/",
          "height": 186
        },
        "id": "P65JOJIkLYcY",
        "outputId": "00bbdaee-126e-4795-d9b0-1c19884b03da"
      },
      "source": [
        "CJM\n",
        "HER"
      ],
      "execution_count": 13,
      "outputs": [
        {
          "output_type": "error",
          "ename": "NameError",
          "evalue": "ignored",
          "traceback": [
            "\u001b[0;31m---------------------------------------------------------------------------\u001b[0m",
            "\u001b[0;31mNameError\u001b[0m                                 Traceback (most recent call last)",
            "\u001b[0;32m<ipython-input-13-fa92426084e5>\u001b[0m in \u001b[0;36m<module>\u001b[0;34m()\u001b[0m\n\u001b[0;32m----> 1\u001b[0;31m \u001b[0mCJM\u001b[0m\u001b[0;34m\u001b[0m\u001b[0;34m\u001b[0m\u001b[0m\n\u001b[0m\u001b[1;32m      2\u001b[0m \u001b[0mHER\u001b[0m\u001b[0;34m\u001b[0m\u001b[0;34m\u001b[0m\u001b[0m\n",
            "\u001b[0;31mNameError\u001b[0m: name 'CJM' is not defined"
          ]
        }
      ]
    },
    {
      "cell_type": "code",
      "metadata": {
        "id": "bCZEshGaQHiB"
      },
      "source": [
        ""
      ],
      "execution_count": null,
      "outputs": []
    }
  ]
}