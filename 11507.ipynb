{
  "nbformat": 4,
  "nbformat_minor": 0,
  "metadata": {
    "colab": {
      "name": "11507.ipynb",
      "provenance": [],
      "authorship_tag": "ABX9TyNckzJYe/dPmeT9g6t91pSj",
      "include_colab_link": true
    },
    "kernelspec": {
      "name": "python3",
      "display_name": "Python 3"
    },
    "language_info": {
      "name": "python"
    }
  },
  "cells": [
    {
      "cell_type": "markdown",
      "metadata": {
        "id": "view-in-github",
        "colab_type": "text"
      },
      "source": [
        "<a href=\"https://colab.research.google.com/github/soohi0/BeakJune/blob/master/11507.ipynb\" target=\"_parent\"><img src=\"https://colab.research.google.com/assets/colab-badge.svg\" alt=\"Open In Colab\"/></a>"
      ]
    },
    {
      "cell_type": "code",
      "execution_count": null,
      "metadata": {
        "id": "GGIFZl6K1KHZ"
      },
      "outputs": [],
      "source": [
        "s = input()\n",
        "#s를 3개씩 잘라 lst에 담습니다\n",
        "lst = []\n",
        "for i in range(0,len(s)-2,3):\n",
        "    lst.append(s[i:i+3])\n",
        "\n",
        "\n",
        "#똑같은 카드가 존재하는지 확인합니다\n",
        "if len(set(lst)) != len(lst):\n",
        "    print(\"GRESKA\")\n",
        "else: #똑같은 카드가 존재하지 않으면\n",
        "    #모든 카드 - 내가 가진 카드 = 잃어버린 카드\n",
        "    answer = {\"P\":13,\"K\":13,\"H\":13,\"T\":13}#모든 세트가 온전할 경우입니다 \n",
        "    for l in lst:\n",
        "        card_shape = l[0] #l[0]은 카드의 모양을 나타냅니다\n",
        "        answer[card_shape]-=1"
      ]
    }
  ]
}