{
  "nbformat": 4,
  "nbformat_minor": 0,
  "metadata": {
    "colab": {
      "name": "17201.ipynb",
      "provenance": [],
      "authorship_tag": "ABX9TyP9hOeYsKlsGP3MgiTVAKhH",
      "include_colab_link": true
    },
    "kernelspec": {
      "name": "python3",
      "display_name": "Python 3"
    },
    "language_info": {
      "name": "python"
    }
  },
  "cells": [
    {
      "cell_type": "markdown",
      "metadata": {
        "id": "view-in-github",
        "colab_type": "text"
      },
      "source": [
        "<a href=\"https://colab.research.google.com/github/soohi0/BeakJune/blob/master/17201.ipynb\" target=\"_parent\"><img src=\"https://colab.research.google.com/assets/colab-badge.svg\" alt=\"Open In Colab\"/></a>"
      ]
    },
    {
      "cell_type": "code",
      "execution_count": 2,
      "metadata": {
        "colab": {
          "base_uri": "https://localhost:8080/"
        },
        "id": "IpnBlYWz7ewi",
        "outputId": "4fd3e21f-d3ab-46c2-9a21-3a0b466566e4"
      },
      "outputs": [
        {
          "output_type": "stream",
          "name": "stdout",
          "text": [
            "3\n",
            "122112\n",
            "No\n"
          ]
        }
      ],
      "source": [
        "#자석체인\n",
        "N = input()\n",
        "\n",
        "a2N = input()\n",
        "\n",
        "connected = \"Yes\"\n",
        "for idx in range(0, len(a2N)-2, 2):\n",
        "    if a2N[idx] != a2N[idx+2]:\n",
        "        connected = \"No\"\n",
        "        break;\n",
        "\n",
        "\n",
        "print(connected)"
      ]
    },
    {
      "cell_type": "code",
      "source": [
        ""
      ],
      "metadata": {
        "id": "ejqTi1aG8FeO"
      },
      "execution_count": null,
      "outputs": []
    }
  ]
}