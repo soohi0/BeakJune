{
  "nbformat": 4,
  "nbformat_minor": 0,
  "metadata": {
    "colab": {
      "name": "2004_S2.ipynb",
      "provenance": [],
      "collapsed_sections": [],
      "authorship_tag": "ABX9TyNZyPqi/l4T5MPXa2wB51mU",
      "include_colab_link": true
    },
    "kernelspec": {
      "name": "python3",
      "display_name": "Python 3"
    },
    "language_info": {
      "name": "python"
    }
  },
  "cells": [
    {
      "cell_type": "markdown",
      "metadata": {
        "id": "view-in-github",
        "colab_type": "text"
      },
      "source": [
        "<a href=\"https://colab.research.google.com/github/soohi0/BeakJune/blob/master/2004_S2.ipynb\" target=\"_parent\"><img src=\"https://colab.research.google.com/assets/colab-badge.svg\" alt=\"Open In Colab\"/></a>"
      ]
    },
    {
      "cell_type": "code",
      "execution_count": null,
      "metadata": {
        "id": "j0ERbJFkqGiQ"
      },
      "outputs": [],
      "source": [
        "import sys\n",
        "n, m = map(int, sys.stdin.readline().split())\n",
        "\n",
        "# 5 개수 세는 함수\n",
        "def five_count(n):\n",
        "    cnt = 0\n",
        "    while n != 0:\n",
        "        n = n // 5\n",
        "        cnt += n\n",
        "    return cnt\n",
        "\n",
        "# 2 개수 세는 함수\n",
        "def two_count(n):\n",
        "    cnt = 0\n",
        "    while n != 0:\n",
        "        n = n // 2\n",
        "        cnt += n\n",
        "    return cnt\n",
        "\n",
        "if m == 0:\n",
        "    print(0)  \n",
        "else:       \n",
        "    print(min(two_count(n)-two_count(m)-two_count(n-m), five_count(n)-five_count(m)-five_count(n-m)))"
      ]
    }
  ]
}