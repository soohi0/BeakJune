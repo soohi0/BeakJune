{
  "nbformat": 4,
  "nbformat_minor": 0,
  "metadata": {
    "colab": {
      "name": "9656.ipynb",
      "provenance": [],
      "authorship_tag": "ABX9TyPu3HqknCXVglZyZy5S4jlk",
      "include_colab_link": true
    },
    "kernelspec": {
      "name": "python3",
      "display_name": "Python 3"
    },
    "language_info": {
      "name": "python"
    }
  },
  "cells": [
    {
      "cell_type": "markdown",
      "metadata": {
        "id": "view-in-github",
        "colab_type": "text"
      },
      "source": [
        "<a href=\"https://colab.research.google.com/github/soohi0/BeakJune/blob/master/9656.ipynb\" target=\"_parent\"><img src=\"https://colab.research.google.com/assets/colab-badge.svg\" alt=\"Open In Colab\"/></a>"
      ]
    },
    {
      "cell_type": "code",
      "metadata": {
        "colab": {
          "base_uri": "https://localhost:8080/"
        },
        "id": "8e2zpnrKKlGz",
        "outputId": "fc1b482d-f1ed-496f-f2e1-fb3a8c5bb128"
      },
      "source": [
        "num = int(input())\n",
        "turn = 'SK'\n",
        "\n",
        "def changeturn(turn):\n",
        "    if turn == 'SK':\n",
        "        turn = \"CY\"\n",
        "    elif turn == \"CY\":\n",
        "        turn = 'SK'\n",
        "    return turn\n",
        "\n",
        "while num > 0:\n",
        "    if num > 3:\n",
        "        num -= 3\n",
        "        turn = changeturn(turn)\n",
        "    elif num == 3:\n",
        "        num -= 1\n",
        "        turn = changeturn(turn)\n",
        "    else:\n",
        "        if num >= 1:\n",
        "            num-= 1\n",
        "            turn = changeturn(turn)\n",
        "\n",
        "\n",
        "print(turn)"
      ],
      "execution_count": 9,
      "outputs": [
        {
          "output_type": "stream",
          "text": [
            "5\n",
            "CY\n",
            "SK\n",
            "CY\n",
            "CY\n"
          ],
          "name": "stdout"
        }
      ]
    },
    {
      "cell_type": "code",
      "metadata": {
        "id": "otz3o412La85"
      },
      "source": [
        ""
      ],
      "execution_count": null,
      "outputs": []
    }
  ]
}