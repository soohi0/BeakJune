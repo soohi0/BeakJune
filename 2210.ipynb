{
  "nbformat": 4,
  "nbformat_minor": 0,
  "metadata": {
    "colab": {
      "name": "2210.ipynb",
      "provenance": [],
      "collapsed_sections": [],
      "authorship_tag": "ABX9TyNchH9+kXwrNMSiGDv9RHb4",
      "include_colab_link": true
    },
    "kernelspec": {
      "name": "python3",
      "display_name": "Python 3"
    },
    "language_info": {
      "name": "python"
    }
  },
  "cells": [
    {
      "cell_type": "markdown",
      "metadata": {
        "id": "view-in-github",
        "colab_type": "text"
      },
      "source": [
        "<a href=\"https://colab.research.google.com/github/soohi0/BeakJune/blob/master/2210.ipynb\" target=\"_parent\"><img src=\"https://colab.research.google.com/assets/colab-badge.svg\" alt=\"Open In Colab\"/></a>"
      ]
    },
    {
      "cell_type": "code",
      "execution_count": null,
      "metadata": {
        "colab": {
          "base_uri": "https://localhost:8080/"
        },
        "id": "Ab29pA7JnwtB",
        "outputId": "c688b090-e3a3-475f-9319-3ef925401f86"
      },
      "outputs": [
        {
          "output_type": "stream",
          "name": "stdout",
          "text": [
            "1 1 1 1 1\n",
            "1 1 1 1 1\n",
            "1 1 1 1 1\n",
            "1 1 1 2 1\n",
            "1 1 1 1 1\n",
            "['11111', '11121', '11112', '11211', '12111', '12112', '21111', '21121', '21112']\n"
          ]
        }
      ],
      "source": [
        "graph = []\n",
        "for i in range(5):\n",
        "    string = input()\n",
        "    strarr = string.split(' ')\n",
        "    graph.append(strarr)\n",
        "#print(graph)\n",
        "\n",
        "def isinRange(i, j):\n",
        "    if i >= 0 and i <= 4 and j >= 0 and j <= 4:\n",
        "        return True\n",
        "    else:\n",
        "        return False\n",
        "dir = [(0, 1), (1, 0), (0, -1), (-1, 0)]\n",
        "i = 0\n",
        "\n",
        "nums = []\n",
        "\n",
        "for i in range(5):\n",
        "    for j in range(5):\n",
        "        num = graph[i][j]\n",
        "        path = [[num, i, j]]\n",
        "        while len(path) != 0:\n",
        "            p = path.pop(0)\n",
        "            if len(p[0]) < 5:\n",
        "                for d in dir:\n",
        "                    X = p[2] + d[0]\n",
        "                    Y = p[1] + d[1]\n",
        "                    if isinRange(Y, X):\n",
        "                        p[0] += graph[Y][X]\n",
        "                        path.append([p[0], Y, X])\n",
        "            elif len(p[0]) == 5:\n",
        "                if p[0] not in nums:\n",
        "                    nums.append(p[0])\n",
        "print(nums)\n",
        "                "
      ]
    },
    {
      "cell_type": "code",
      "source": [
        "1 1 1 1 1"
      ],
      "metadata": {
        "id": "qwaFlp1Pn9h6"
      },
      "execution_count": null,
      "outputs": []
    },
    {
      "cell_type": "code",
      "source": [
        ""
      ],
      "metadata": {
        "id": "D5Wr-Ywtyje1"
      },
      "execution_count": null,
      "outputs": []
    }
  ]
}