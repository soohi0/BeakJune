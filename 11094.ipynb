{
  "nbformat": 4,
  "nbformat_minor": 0,
  "metadata": {
    "colab": {
      "name": "11094.ipynb",
      "provenance": [],
      "authorship_tag": "ABX9TyNmnHe38XHMQ3YT+eaqbZrd",
      "include_colab_link": true
    },
    "kernelspec": {
      "name": "python3",
      "display_name": "Python 3"
    },
    "language_info": {
      "name": "python"
    }
  },
  "cells": [
    {
      "cell_type": "markdown",
      "metadata": {
        "id": "view-in-github",
        "colab_type": "text"
      },
      "source": [
        "<a href=\"https://colab.research.google.com/github/soohi0/BeakJune/blob/master/11094.ipynb\" target=\"_parent\"><img src=\"https://colab.research.google.com/assets/colab-badge.svg\" alt=\"Open In Colab\"/></a>"
      ]
    },
    {
      "cell_type": "code",
      "metadata": {
        "colab": {
          "base_uri": "https://localhost:8080/"
        },
        "id": "r_5SE0rEcXfe",
        "outputId": "46e72024-fbe6-4b00-a446-4e449a69e291"
      },
      "source": [
        "inputNum = int(input())\n",
        "strlist = []\n",
        "for i in range(inputNum):\n",
        "    string = input()\n",
        "    if string[:10] == \"Simon says\":\n",
        "        strlist.append(string[11:-1] + '.')\n",
        "    \n",
        "for s in strlist:\n",
        "    print(s)"
      ],
      "execution_count": 4,
      "outputs": [
        {
          "output_type": "stream",
          "text": [
            "3\n",
            "Simon says raise your right hand.\n",
            "Lower your right hand.\n",
            "Simon says raise your left hand.\n",
            "raise your right hand.\n",
            "raise your left hand.\n"
          ],
          "name": "stdout"
        }
      ]
    },
    {
      "cell_type": "code",
      "metadata": {
        "id": "u3Xy9wmMcx7L"
      },
      "source": [
        ""
      ],
      "execution_count": null,
      "outputs": []
    }
  ]
}