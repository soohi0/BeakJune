{
  "nbformat": 4,
  "nbformat_minor": 0,
  "metadata": {
    "colab": {
      "name": "17350.ipynb",
      "provenance": [],
      "collapsed_sections": [],
      "authorship_tag": "ABX9TyN58YBt6SOlBA+CU470xI0h",
      "include_colab_link": true
    },
    "kernelspec": {
      "name": "python3",
      "display_name": "Python 3"
    },
    "language_info": {
      "name": "python"
    }
  },
  "cells": [
    {
      "cell_type": "markdown",
      "metadata": {
        "id": "view-in-github",
        "colab_type": "text"
      },
      "source": [
        "<a href=\"https://colab.research.google.com/github/soohi0/BeakJune/blob/master/17350.ipynb\" target=\"_parent\"><img src=\"https://colab.research.google.com/assets/colab-badge.svg\" alt=\"Open In Colab\"/></a>"
      ]
    },
    {
      "cell_type": "code",
      "metadata": {
        "colab": {
          "base_uri": "https://localhost:8080/"
        },
        "id": "NqR5vC4xNOXI",
        "outputId": "8aa75d10-5e8a-4669-c09a-f736174298c9"
      },
      "source": [
        "import sys\n",
        "n = int(input())\n",
        "exist = False\n",
        "for i in range(n):\n",
        "    name = input()\n",
        "    if 'anj' == name:\n",
        "        exist = True\n",
        "if exist:\n",
        "    print(\"뭐야;\")\n",
        "else:\n",
        "    print(\"뭐야?\")"
      ],
      "execution_count": 1,
      "outputs": [
        {
          "output_type": "stream",
          "name": "stdout",
          "text": [
            "3\n",
            "snrn\n",
            "anj\n",
            "ahffk\n",
            "뭐야;\n"
          ]
        }
      ]
    },
    {
      "cell_type": "code",
      "metadata": {
        "id": "6WsAZQjQOLd7"
      },
      "source": [
        "3\n",
        "snrn\n",
        "anj\n",
        "ahffk"
      ],
      "execution_count": null,
      "outputs": []
    }
  ]
}