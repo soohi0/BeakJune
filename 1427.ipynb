{
  "nbformat": 4,
  "nbformat_minor": 0,
  "metadata": {
    "colab": {
      "name": "1427.ipynb",
      "provenance": [],
      "authorship_tag": "ABX9TyNVw1gzH077wsOP/yxdd7Np",
      "include_colab_link": true
    },
    "kernelspec": {
      "name": "python3",
      "display_name": "Python 3"
    },
    "language_info": {
      "name": "python"
    }
  },
  "cells": [
    {
      "cell_type": "markdown",
      "metadata": {
        "id": "view-in-github",
        "colab_type": "text"
      },
      "source": [
        "<a href=\"https://colab.research.google.com/github/soohi0/BeakJune/blob/master/1427.ipynb\" target=\"_parent\"><img src=\"https://colab.research.google.com/assets/colab-badge.svg\" alt=\"Open In Colab\"/></a>"
      ]
    },
    {
      "cell_type": "code",
      "metadata": {
        "colab": {
          "base_uri": "https://localhost:8080/"
        },
        "id": "IIemO2oNe8mr",
        "outputId": "869a60f5-225a-49c1-82af-dacf9e4306de"
      },
      "source": [
        "num = input()\n",
        "arr = []\n",
        "for _ in num:\n",
        "    arr.append(int(_))\n",
        "arr.sort(reverse = True)\n",
        "output = \"\"\n",
        "for n in arr:\n",
        "    output += str(n)\n",
        "print(output)"
      ],
      "execution_count": 7,
      "outputs": [
        {
          "output_type": "stream",
          "name": "stdout",
          "text": [
            "2143\n",
            "[4, 3, 2, 1]\n",
            "4321\n"
          ]
        }
      ]
    },
    {
      "cell_type": "code",
      "metadata": {
        "id": "PcgqcDRzfTDG"
      },
      "source": [
        ""
      ],
      "execution_count": null,
      "outputs": []
    }
  ]
}