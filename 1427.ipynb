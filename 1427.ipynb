{
  "nbformat": 4,
  "nbformat_minor": 0,
  "metadata": {
    "colab": {
      "name": "1427.ipynb",
      "provenance": [],
      "authorship_tag": "ABX9TyNa5Zm44H2ngc+CUFzgzupQ",
      "include_colab_link": true
    },
    "kernelspec": {
      "name": "python3",
      "display_name": "Python 3"
    },
    "language_info": {
      "name": "python"
    }
  },
  "cells": [
    {
      "cell_type": "markdown",
      "metadata": {
        "id": "view-in-github",
        "colab_type": "text"
      },
      "source": [
        "<a href=\"https://colab.research.google.com/github/soohi0/BeakJune/blob/master/1427.ipynb\" target=\"_parent\"><img src=\"https://colab.research.google.com/assets/colab-badge.svg\" alt=\"Open In Colab\"/></a>"
      ]
    },
    {
      "cell_type": "code",
      "metadata": {
        "colab": {
          "base_uri": "https://localhost:8080/"
        },
        "id": "e9ROwDlaDSR7",
        "outputId": "2cb0fba1-5567-4a1f-a891-87e4b4627a63"
      },
      "source": [
        "s = input()\n",
        "s = sorted(s)\n",
        "s.sort(reverse=True)\n",
        "st = ''\n",
        "for _ in s:\n",
        "    st += _\n",
        "print(st)"
      ],
      "execution_count": 11,
      "outputs": [
        {
          "output_type": "stream",
          "name": "stdout",
          "text": [
            "312523\n",
            "['5', '3', '3', '2', '2', '1']\n",
            "533221\n"
          ]
        }
      ]
    },
    {
      "cell_type": "code",
      "metadata": {
        "id": "NjxSjZf_DcEI"
      },
      "source": [
        ""
      ],
      "execution_count": null,
      "outputs": []
    }
  ]
}