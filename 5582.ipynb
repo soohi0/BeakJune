{
  "nbformat": 4,
  "nbformat_minor": 0,
  "metadata": {
    "colab": {
      "name": "5582.ipynb",
      "provenance": [],
      "authorship_tag": "ABX9TyPpOfgLLM4U0JOhFQ+VIo6K",
      "include_colab_link": true
    },
    "kernelspec": {
      "name": "python3",
      "display_name": "Python 3"
    },
    "language_info": {
      "name": "python"
    }
  },
  "cells": [
    {
      "cell_type": "markdown",
      "metadata": {
        "id": "view-in-github",
        "colab_type": "text"
      },
      "source": [
        "<a href=\"https://colab.research.google.com/github/soohi0/BeakJune/blob/master/5582.ipynb\" target=\"_parent\"><img src=\"https://colab.research.google.com/assets/colab-badge.svg\" alt=\"Open In Colab\"/></a>"
      ]
    },
    {
      "cell_type": "code",
      "execution_count": null,
      "metadata": {
        "id": "3w9dNsR0rymc"
      },
      "outputs": [],
      "source": [
        "answer = 0\n",
        "str1, str2 = input(), input()\n",
        "\n",
        "#dp=[[0 for _ in range(len(str2) + 1)] for _ in range(len(str1) + 1)]\n",
        "dp=[[0] * (len(str2) + 1) for _ in range(len(str1) + 1)]\n",
        "\n",
        "for i in range(1, len(str1)+1):\n",
        "    for j in range(1, len(str2)+1):\n",
        "        if (str1[i-1] == str2[j-1]):\n",
        "            dp[i][j] = dp[i-1][j-1] + 1\n",
        "            answer = max(dp[i][j], answer)\n",
        "\n",
        "print(answer)"
      ]
    }
  ]
}