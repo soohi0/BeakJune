{
  "nbformat": 4,
  "nbformat_minor": 0,
  "metadata": {
    "colab": {
      "name": "14725.ipynb",
      "provenance": [],
      "authorship_tag": "ABX9TyMKecLxyU0QakaWQkOBY4rF",
      "include_colab_link": true
    },
    "kernelspec": {
      "name": "python3",
      "display_name": "Python 3"
    },
    "language_info": {
      "name": "python"
    }
  },
  "cells": [
    {
      "cell_type": "markdown",
      "metadata": {
        "id": "view-in-github",
        "colab_type": "text"
      },
      "source": [
        "<a href=\"https://colab.research.google.com/github/soohi0/BeakJune/blob/master/14725.ipynb\" target=\"_parent\"><img src=\"https://colab.research.google.com/assets/colab-badge.svg\" alt=\"Open In Colab\"/></a>"
      ]
    },
    {
      "cell_type": "code",
      "execution_count": null,
      "metadata": {
        "id": "rwNZRlnAqhIa"
      },
      "outputs": [],
      "source": [
        "import sys\n",
        "\n",
        "input = sys.stdin.readline\n",
        "N = int(input())\n",
        "food_info = []\n",
        "for i in range(N):\n",
        "    data = list(input().split())\n",
        "    food_info.append(data[1:])\n",
        "\n",
        "food_info.sort()\n",
        "\n",
        "dash = '--'\n",
        "answer = []\n",
        "for i in range(N):\n",
        "    # 첫 번째는 부모, 자식 노드의 중복이 없으므로 그대로 출력.\n",
        "    if i == 0:\n",
        "        for j in range(len(food_info[i])):\n",
        "            answer.append(dash * j + food_info[i][j])\n",
        "    else:\n",
        "        idx = 0   # 이전의 리스트와 현재 리스트에서 맨 왼쪽부터 겹치는 원소의 개수를 저장.\n",
        "        for j in range(len(food_info[i])):\n",
        "            # 이전의 리스트의 원소가 없거나, 이전의 리스트와 현재 리스트가 겹치지 않을 때\n",
        "            if food_info[i - 1][j] != food_info[i][j] or len(food_info[i - 1]) <= j:\n",
        "                break\n",
        "            # 겹치는 원소가 존재한다면 해당 원소를 출력할 필요가 없으므로 idx를 조정.\n",
        "            else:\n",
        "                idx = j + 1\n",
        "        for j in range(idx, len(food_info[i])):\n",
        "            answer.append(dash * j + food_info[i][j])\n",
        "\n",
        "for ans in answer:\n",
        "    print(ans)"
      ]
    }
  ]
}