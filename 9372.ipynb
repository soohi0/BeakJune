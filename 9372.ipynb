{
  "nbformat": 4,
  "nbformat_minor": 0,
  "metadata": {
    "colab": {
      "name": "9372.ipynb",
      "provenance": [],
      "collapsed_sections": [],
      "authorship_tag": "ABX9TyOl6SrAXVE29zqG4q5Yuk7B",
      "include_colab_link": true
    },
    "kernelspec": {
      "name": "python3",
      "display_name": "Python 3"
    },
    "language_info": {
      "name": "python"
    }
  },
  "cells": [
    {
      "cell_type": "markdown",
      "metadata": {
        "id": "view-in-github",
        "colab_type": "text"
      },
      "source": [
        "<a href=\"https://colab.research.google.com/github/soohi0/BeakJune/blob/master/9372.ipynb\" target=\"_parent\"><img src=\"https://colab.research.google.com/assets/colab-badge.svg\" alt=\"Open In Colab\"/></a>"
      ]
    },
    {
      "cell_type": "code",
      "metadata": {
        "colab": {
          "base_uri": "https://localhost:8080/"
        },
        "id": "p1i1c42I2qFT",
        "outputId": "cd4a692c-2efb-4b7c-c830-df53b494018a"
      },
      "source": [
        "T = int(input())\n",
        "result = []\n",
        "for i in range(T):\n",
        "    n, m = input().split()\n",
        "    n = int(n)\n",
        "    m = int(m)\n",
        "    fromto = []\n",
        "    graph = [[0 for b in range(m)] for a in range(m)]\n",
        "    print(graph)\n",
        "    for j in range(m):\n",
        "        a, b = input().split()\n",
        "        a  = int(a)\n",
        "        b = int(b)\n",
        "    result.append(n-1)\n",
        "for r in result:\n",
        "    print(r)\n",
        "        \n",
        "\n",
        "\n"
      ],
      "execution_count": 7,
      "outputs": [
        {
          "output_type": "stream",
          "text": [
            "2\n",
            "3 3\n",
            "[[0, 0, 0], [0, 0, 0], [0, 0, 0]]\n",
            "1 2\n",
            "2 3\n",
            "1 3\n",
            "5 4\n",
            "[[0, 0, 0, 0], [0, 0, 0, 0], [0, 0, 0, 0], [0, 0, 0, 0]]\n",
            "2 1\n",
            "4 3\n",
            "4 5\n",
            "2 3\n",
            "2\n",
            "3\n"
          ],
          "name": "stdout"
        }
      ]
    },
    {
      "cell_type": "code",
      "metadata": {
        "id": "y_M5A3An3F5-"
      },
      "source": [
        "2\n",
        "3 3\n",
        "1 2\n",
        "2 3\n",
        "1 3\n",
        "5 4\n",
        "2 1\n",
        "2 3\n",
        "4 3\n",
        "4 5"
      ],
      "execution_count": null,
      "outputs": []
    }
  ]
}