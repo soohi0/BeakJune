{
  "nbformat": 4,
  "nbformat_minor": 0,
  "metadata": {
    "colab": {
      "name": "20528.ipynb",
      "provenance": [],
      "authorship_tag": "ABX9TyM2spCWWJCB4uxi5NwbW2+p",
      "include_colab_link": true
    },
    "kernelspec": {
      "name": "python3",
      "display_name": "Python 3"
    },
    "language_info": {
      "name": "python"
    }
  },
  "cells": [
    {
      "cell_type": "markdown",
      "metadata": {
        "id": "view-in-github",
        "colab_type": "text"
      },
      "source": [
        "<a href=\"https://colab.research.google.com/github/soohi0/BeakJune/blob/master/20528.ipynb\" target=\"_parent\"><img src=\"https://colab.research.google.com/assets/colab-badge.svg\" alt=\"Open In Colab\"/></a>"
      ]
    },
    {
      "cell_type": "code",
      "metadata": {
        "colab": {
          "base_uri": "https://localhost:8080/"
        },
        "id": "4DNk2tyXBV20",
        "outputId": "7ac9a759-e3bf-4fdb-b620-e1e246430cff"
      },
      "source": [
        "inputnum = input()\n",
        "inputlist = input().split(' ')\n",
        "startchar = inputlist[0][0]\n",
        "result = 1\n",
        "for i in inputlist:\n",
        "    length = len(i)-1\n",
        "    if i[0] != startchar or i[length] != startchar:\n",
        "        result = 0\n",
        "        break;\n",
        "\n",
        "print(result)\n"
      ],
      "execution_count": 9,
      "outputs": [
        {
          "output_type": "stream",
          "text": [
            "3\n",
            "aba c dd\n",
            "['aba', 'c', 'dd']\n",
            "a\n",
            "0\n"
          ],
          "name": "stdout"
        }
      ]
    },
    {
      "cell_type": "code",
      "metadata": {
        "id": "Pnq_iNaXDWuf"
      },
      "source": [
        ""
      ],
      "execution_count": null,
      "outputs": []
    }
  ]
}