{
  "nbformat": 4,
  "nbformat_minor": 0,
  "metadata": {
    "colab": {
      "name": "22114_S2.ipynb",
      "provenance": [],
      "collapsed_sections": [],
      "authorship_tag": "ABX9TyMSU7aAvLge6ll7unRzOwK/",
      "include_colab_link": true
    },
    "kernelspec": {
      "name": "python3",
      "display_name": "Python 3"
    },
    "language_info": {
      "name": "python"
    }
  },
  "cells": [
    {
      "cell_type": "markdown",
      "metadata": {
        "id": "view-in-github",
        "colab_type": "text"
      },
      "source": [
        "<a href=\"https://colab.research.google.com/github/soohi0/BeakJune/blob/master/22114_S2.ipynb\" target=\"_parent\"><img src=\"https://colab.research.google.com/assets/colab-badge.svg\" alt=\"Open In Colab\"/></a>"
      ]
    },
    {
      "cell_type": "code",
      "execution_count": null,
      "metadata": {
        "id": "gxvUTJO-than"
      },
      "outputs": [],
      "source": [
        "import sys\n",
        "input = sys.stdin.readline\n",
        "N, K = map(int,input().split())\n",
        "L = list(map(int,input().split()))\n",
        "i, j, cnt = 0, 0, 1\n",
        "check, answer, jump = 0, 0, 0\n",
        "while True:\n",
        "\tif i == N-1 or j == N-1:\n",
        "\t\tbreak\n",
        " \n",
        "\tif L[j] <= K:\n",
        "\t\tcnt += 1\n",
        "\t\tj += 1\n",
        "\telif L[j] > K:\n",
        "\t\tif jump == 0:\n",
        "\t\t\tjump += 1\n",
        "\t\t\tcnt += 1\n",
        "\t\t\tcheck = j\n",
        "\t\t\tj += 1\n",
        "\t\telse:\n",
        "\t\t\ti = check + 1\n",
        "\t\t\tj = i\n",
        "\t\t\tanswer = max(answer, cnt)\n",
        "\t\t\tcnt, check = 1, 0\n",
        "\t\t\tjump = 0\n",
        "print(max(cnt, answer))"
      ]
    }
  ]
}